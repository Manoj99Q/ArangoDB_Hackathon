{
 "cells": [
  {
   "cell_type": "code",
   "execution_count": 25,
   "metadata": {},
   "outputs": [
    {
     "data": {
      "text/plain": [
       "True"
      ]
     },
     "execution_count": 25,
     "metadata": {},
     "output_type": "execute_result"
    }
   ],
   "source": [
    "import pandas as pd\n",
    "import networkx as nx\n",
    "from dotenv import load_dotenv\n",
    "import os\n",
    "import matplotlib.pyplot as plt\n",
    "import re\n",
    "\n",
    "from arango import ArangoClient\n",
    "import nx_arangodb as nxadb\n",
    "load_dotenv()\n"
   ]
  },
  {
   "cell_type": "code",
   "execution_count": 2,
   "metadata": {},
   "outputs": [],
   "source": [
    "arango_host = os.getenv('ARANGO_HOST')\n",
    "arango_user = os.getenv('ARANGO_USER')\n",
    "arango_password = os.getenv('ARANGO_PASSWORD')\n",
    "arango_db = os.getenv('ARANGO_DB')"
   ]
  },
  {
   "cell_type": "code",
   "execution_count": 3,
   "metadata": {},
   "outputs": [],
   "source": [
    "df = pd.read_csv('Data/steamplayer/steam-200k.csv', header=None)\n",
    "df.columns = [\"steamid\", \"GameName\", \"action\", \"hours\", \"junk\"]\n",
    "# Display the first few rows\n",
    "df.head()\n",
    "\n",
    "# Filter for only 'play' interactions\n",
    "play_df = df[df[\"action\"] == 'play']"
   ]
  },
  {
   "cell_type": "code",
   "execution_count": 26,
   "metadata": {},
   "outputs": [
    {
     "name": "stderr",
     "output_type": "stream",
     "text": [
      "[2025/02/17 21:29:24 -0600] [234402] [INFO] - adbnx_adapter: Instantiated ADBNX_Adapter with database 'Steam'\n"
     ]
    },
    {
     "name": "stdout",
     "output_type": "stream",
     "text": [
      "Total nodes: 14950\n",
      "Total edges: 70477\n"
     ]
    },
    {
     "data": {
      "application/vnd.jupyter.widget-view+json": {
       "model_id": "ea32b86963ea4c3590de6abfce87d444",
       "version_major": 2,
       "version_minor": 0
      },
      "text/plain": [
       "Output()"
      ]
     },
     "metadata": {},
     "output_type": "display_data"
    },
    {
     "data": {
      "text/html": [
       "<pre style=\"white-space:pre;overflow-x:auto;line-height:normal;font-family:Menlo,'DejaVu Sans Mono',consolas,'Courier New',monospace\"></pre>\n"
      ],
      "text/plain": []
     },
     "metadata": {},
     "output_type": "display_data"
    },
    {
     "data": {
      "application/vnd.jupyter.widget-view+json": {
       "model_id": "caedc6eeb0784a339178abf2bfa6546f",
       "version_major": 2,
       "version_minor": 0
      },
      "text/plain": [
       "Output()"
      ]
     },
     "metadata": {},
     "output_type": "display_data"
    },
    {
     "data": {
      "text/html": [
       "<pre style=\"white-space:pre;overflow-x:auto;line-height:normal;font-family:Menlo,'DejaVu Sans Mono',consolas,'Courier New',monospace\"></pre>\n"
      ],
      "text/plain": []
     },
     "metadata": {},
     "output_type": "display_data"
    },
    {
     "name": "stderr",
     "output_type": "stream",
     "text": [
      "[2025/02/17 21:29:34 -0600] [234402] [INFO] - adbnx_adapter: Created ArangoDB 'SteamGraph' Graph\n"
     ]
    },
    {
     "name": "stdout",
     "output_type": "stream",
     "text": [
      "ArangoDB Graph created: <Graph SteamGraph>\n"
     ]
    }
   ],
   "source": [
    "import pandas as pd\n",
    "import networkx as nx\n",
    "import matplotlib.pyplot as plt\n",
    "from arango import ArangoClient\n",
    "import nx_arangodb as nxadb\n",
    "from adbnx_adapter.controller import ADBNX_Controller\n",
    "from adbnx_adapter.adapter import ADBNX_Adapter\n",
    "\n",
    "# -------------------------------\n",
    "# 1. Read and Process the DataFrame\n",
    "# -------------------------------\n",
    "df = pd.read_csv('Data/steamplayer/steam-200k.csv', header=None)\n",
    "df.columns = [\"steamid\", \"GameName\", \"action\", \"hours\", \"junk\"]\n",
    "\n",
    "# Filter for only 'play' interactions\n",
    "play_df = df[df[\"action\"] == 'play']\n",
    "\n",
    "# -------------------------------\n",
    "# 2. Build a Heterogeneous NetworkX Graph\n",
    "# -------------------------------\n",
    "G = nx.Graph()\n",
    "\n",
    "# Add player nodes with IDs in the format \"Users:<steamid>\"\n",
    "for steamid in play_df[\"steamid\"].unique():\n",
    "    node_id = f\"Users:{steamid}\"\n",
    "    G.add_node(node_id, _id=node_id, type=\"Users\", steamid=int(steamid))\n",
    "\n",
    "# Add game nodes with IDs in the format \"Games:<GameName>\"\n",
    "for game in play_df[\"GameName\"].unique():\n",
    "    node_id = f\"Games:{game}\"\n",
    "    G.add_node(node_id, _id=node_id, type=\"Games\", GameName=game)\n",
    "\n",
    "# Add edges between players and games with the hours played as weight\n",
    "for _, row in play_df.iterrows():\n",
    "    player_node = f\"Users:{row['steamid']}\"\n",
    "    game_node = f\"Games:{row['GameName']}\"\n",
    "    hours = float(row[\"hours\"])\n",
    "    G.add_edge(player_node, game_node, weight=hours)\n",
    "\n",
    "print(\"Total nodes:\", G.number_of_nodes())\n",
    "print(\"Total edges:\", G.number_of_edges())\n",
    "\n",
    "# (Optional) Visualize the graph (colors based on type)\n",
    "# pos = nx.spring_layout(G, iterations=15, seed=1721)\n",
    "# node_colors = [\"red\" if data.get(\"type\")==\"Users\" else \"blue\" for node, data in G.nodes(data=True)]\n",
    "# nx.draw(G, pos=pos, node_color=node_colors, with_labels=True, node_size=50)\n",
    "# plt.title(\"Heterogeneous Steam Graph\")\n",
    "# plt.show()\n",
    "\n",
    "# -------------------------------\n",
    "# 3. Define a Custom ADBNX Controller\n",
    "# -------------------------------\n",
    "# Helper function to sanitize keys.\n",
    "\n",
    "def slugify(text):\n",
    "    text = text.lower()\n",
    "    text = re.sub(r'[^a-z0-9]+', '_', text)\n",
    "    return text.strip('_')\n",
    "\n",
    "class Custom_ADBNX_Controller(ADBNX_Controller):\n",
    "    def _identify_networkx_node(self, nx_node_id, nx_node, adb_v_cols):\n",
    "        # Our node IDs are in the format \"Users:<steamid>\" or \"Games:<GameName>\"\n",
    "        return str(nx_node_id).split(\":\")[0]\n",
    "\n",
    "    def _identify_networkx_edge(self, nx_edge, from_node_id, to_node_id, nx_map, adb_e_cols):\n",
    "        from_col = nx_map[from_node_id].split(\":\")[0]\n",
    "        to_col = nx_map[to_node_id].split(\":\")[0]\n",
    "        if from_col == \"Users\" and to_col == \"Games\":\n",
    "            return \"plays\"\n",
    "        else:\n",
    "            raise ValueError(f\"Unknown edge relationship: {from_node_id} -> {to_node_id}\")\n",
    "\n",
    "    def _keyify_networkx_node(self, i, nx_node_id, nx_node, col):\n",
    "        parts = str(nx_node_id).split(\":\")\n",
    "        # The part after ':' is the \"name\" portion\n",
    "        key_part = parts[1] if len(parts) > 1 else str(nx_node_id)\n",
    "        if col == \"Games\":\n",
    "            # For game nodes, produce keys in the format: <unique_number>_<slugified_name>\n",
    "            return f\"{i}_{slugify(key_part)}\"\n",
    "        else:\n",
    "            # For other collections (like Users), you can just return the numeric id or similar\n",
    "            return str(key_part)\n",
    "\n",
    "# -------------------------------\n",
    "# 4. Define Edge Definitions for ArangoDB\n",
    "# -------------------------------\n",
    "edge_definitions = [\n",
    "    {\n",
    "        \"edge_collection\": \"plays\",\n",
    "        \"from_vertex_collections\": [\"Users\"],\n",
    "        \"to_vertex_collections\": [\"Games\"],\n",
    "    }\n",
    "]\n",
    "\n",
    "# -------------------------------\n",
    "# 5. Persist the Graph into ArangoDB\n",
    "# -------------------------------\n",
    "# Connect to ArangoDB\n",
    "# Initialize the client for ArangoDB.\n",
    "client = ArangoClient(hosts=arango_host)\n",
    "# Replace with your actual database name and credentials\n",
    "db = client.db(\"Steam\", username=\"root\", password=arango_password)\n",
    "\n",
    "# (Optional) Delete the graph if it exists\n",
    "try:\n",
    "    db.delete_graph(\"SteamGraph\", drop_collections=True, ignore_missing=True)\n",
    "except Exception:\n",
    "    pass\n",
    "\n",
    "# Instantiate the adapter with our custom controller.\n",
    "custom_adapter = ADBNX_Adapter(db, Custom_ADBNX_Controller())\n",
    "\n",
    "# Convert the NetworkX graph into an ArangoDB graph using our edge definitions.\n",
    "adb_graph = custom_adapter.networkx_to_arangodb(\"SteamGraph\", G, edge_definitions=edge_definitions)\n",
    "\n",
    "print(\"ArangoDB Graph created:\", adb_graph)\n"
   ]
  },
  {
   "cell_type": "code",
   "execution_count": 23,
   "metadata": {},
   "outputs": [
    {
     "name": "stdout",
     "output_type": "stream",
     "text": [
      "Graph Schema:\n",
      "\n",
      "Vertex Collections:\n",
      "- Games\n",
      "- Users\n",
      "\n",
      "Edge Definitions:\n",
      "\n",
      "Edge Collection: plays\n",
      "From Collections: ['Users']\n",
      "To Collections: ['Games']\n"
     ]
    }
   ],
   "source": [
    "# Print schema information\n",
    "print(\"Graph Schema:\")\n",
    "print(\"\\nVertex Collections:\")\n",
    "for collection in adb_graph.vertex_collections():\n",
    "    print(f\"- {collection}\")\n",
    "\n",
    "print(\"\\nEdge Definitions:\")\n",
    "for edge_def in adb_graph.edge_definitions():\n",
    "    print(f\"\\nEdge Collection: {edge_def['edge_collection']}\")\n",
    "    print(f\"From Collections: {edge_def['from_vertex_collections']}\")\n",
    "    print(f\"To Collections: {edge_def['to_vertex_collections']}\")"
   ]
  },
  {
   "cell_type": "code",
   "execution_count": null,
   "metadata": {},
   "outputs": [],
   "source": []
  }
 ],
 "metadata": {
  "kernelspec": {
   "display_name": "Arrongo",
   "language": "python",
   "name": "python3"
  },
  "language_info": {
   "codemirror_mode": {
    "name": "ipython",
    "version": 3
   },
   "file_extension": ".py",
   "mimetype": "text/x-python",
   "name": "python",
   "nbconvert_exporter": "python",
   "pygments_lexer": "ipython3",
   "version": "3.10.16"
  }
 },
 "nbformat": 4,
 "nbformat_minor": 2
}
