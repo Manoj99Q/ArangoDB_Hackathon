{
 "cells": [
  {
   "cell_type": "code",
   "execution_count": 1,
   "metadata": {},
   "outputs": [],
   "source": [
    "# # Enable remote debugging\n",
    "# import debugpy\n",
    "# import os\n",
    "\n",
    "# # Only enable debugging if not already enabled\n",
    "# if not debugpy.is_client_connected():\n",
    "#     debugpy.listen((\"localhost\", 5678))\n",
    "#     print(\"Waiting for debugger to attach...\")\n",
    "#     debugpy.wait_for_client()\n",
    "#     print(\"Debugger attached!\")"
   ]
  },
  {
   "cell_type": "code",
   "execution_count": 2,
   "metadata": {},
   "outputs": [
    {
     "name": "stderr",
     "output_type": "stream",
     "text": [
      "[01:00:04 -0600] [INFO]: NetworkX-cuGraph is unavailable: No module named 'nx_cugraph'.\n"
     ]
    }
   ],
   "source": [
    "import networkx as nx\n",
    "import nx_arangodb as nxadb\n",
    "\n",
    "from arango import ArangoClient\n",
    "\n",
    "import pandas as pd\n",
    "import numpy as np\n",
    "import networkx as nx\n",
    "import matplotlib.pyplot as plt\n",
    "from random import randint\n",
    "import re\n",
    "\n",
    "from langgraph.prebuilt import create_react_agent\n",
    "from langgraph.checkpoint.memory import MemorySaver\n",
    "from langchain_openai import ChatOpenAI\n",
    "from langchain_community.graphs import ArangoGraph\n",
    "from langchain_community.chains.graph_qa.arangodb import ArangoGraphQAChain\n",
    "from langchain_core.tools import tool\n",
    "\n",
    "\n",
    "import gradio as gr\n",
    "from graph_utils import create_d3_visualization\n",
    "from dotenv import load_dotenv\n",
    "import os\n",
    "from agent_utils import GraphAgent\n",
    "import pprint\n",
    "\n"
   ]
  },
  {
   "cell_type": "code",
   "execution_count": 3,
   "metadata": {},
   "outputs": [
    {
     "data": {
      "text/plain": [
       "True"
      ]
     },
     "execution_count": 3,
     "metadata": {},
     "output_type": "execute_result"
    }
   ],
   "source": [
    "load_dotenv()"
   ]
  },
  {
   "cell_type": "code",
   "execution_count": 4,
   "metadata": {},
   "outputs": [],
   "source": [
    "# Access variables\n",
    "openai_key = os.getenv('OPENAI_API_KEY')\n",
    "arango_host = os.getenv('ARANGO_HOST')\n",
    "arango_user = os.getenv('ARANGO_USER')\n",
    "arango_password = os.getenv('ARANGO_PASSWORD')\n",
    "arango_db = os.getenv('ARANGO_DB')\n"
   ]
  },
  {
   "cell_type": "code",
   "execution_count": 5,
   "metadata": {},
   "outputs": [
    {
     "name": "stdout",
     "output_type": "stream",
     "text": [
      "[{'id': '10010034', 'name': '_analyzers', 'system': True, 'type': 'document', 'status': 'loaded'}, {'id': '10010038', 'name': '_apps', 'system': True, 'type': 'document', 'status': 'loaded'}, {'id': '10010128', 'name': 'SteamGraph_node', 'system': False, 'type': 'document', 'status': 'loaded'}, {'id': '10010033', 'name': '_graphs', 'system': True, 'type': 'document', 'status': 'loaded'}, {'id': '10010040', 'name': '_frontend', 'system': True, 'type': 'document', 'status': 'loaded'}, {'id': '10010129', 'name': 'SteamGraph_node_to_SteamGraph_node', 'system': False, 'type': 'edge', 'status': 'loaded'}, {'id': '10010036', 'name': '_queues', 'system': True, 'type': 'document', 'status': 'loaded'}, {'id': '10052', 'name': 'Users', 'system': False, 'type': 'document', 'status': 'loaded'}, {'id': '10054', 'name': 'plays', 'system': False, 'type': 'edge', 'status': 'loaded'}, {'id': '10010035', 'name': '_aqlfunctions', 'system': True, 'type': 'document', 'status': 'loaded'}, {'id': '10010039', 'name': '_appbundles', 'system': True, 'type': 'document', 'status': 'loaded'}, {'id': '10010037', 'name': '_jobs', 'system': True, 'type': 'document', 'status': 'loaded'}, {'id': '10050', 'name': 'Games', 'system': False, 'type': 'document', 'status': 'loaded'}]\n"
     ]
    }
   ],
   "source": [
    "# Initialize the client for ArangoDB.\n",
    "client = ArangoClient(hosts=arango_host)\n",
    "db = client.db(arango_db, username=arango_user, password=arango_password)\n",
    "print(db.collections())"
   ]
  },
  {
   "cell_type": "code",
   "execution_count": 6,
   "metadata": {},
   "outputs": [
    {
     "name": "stderr",
     "output_type": "stream",
     "text": [
      "[01:00:08 -0600] [INFO]: Graph 'SteamGraph' exists.\n",
      "[01:00:08 -0600] [INFO]: Default node type set to 'SteamGraph_node'\n"
     ]
    },
    {
     "name": "stdout",
     "output_type": "stream",
     "text": [
      "Graph named 'SteamGraph' with 0 nodes and 0 edges\n"
     ]
    }
   ],
   "source": [
    "\n",
    "G_adb = nxadb.Graph(name=\"SteamGraph\", db=db)\n",
    "\n",
    "print(G_adb)"
   ]
  },
  {
   "cell_type": "code",
   "execution_count": 7,
   "metadata": {},
   "outputs": [
    {
     "name": "stdout",
     "output_type": "stream",
     "text": [
      "{'_key': 'SteamGraph', '_id': '_graphs/SteamGraph', '_rev': '_jSrY9CO--_', 'numberOfShards': 1, 'replicationFactor': 3, 'minReplicationFactor': 1, 'writeConcern': 1, 'isSmart': False, 'isSatellite': False, 'edgeDefinitions': [{'collection': 'SteamGraph_node_to_SteamGraph_node', 'from': ['SteamGraph_node'], 'to': ['SteamGraph_node']}], 'orphanCollections': [], 'networkx': {'name': 'SteamGraph'}}\n"
     ]
    }
   ],
   "source": [
    "graph_def = db.collection(\"_graphs\").get(\"SteamGraph\")\n",
    "print(graph_def)\n"
   ]
  },
  {
   "cell_type": "code",
   "execution_count": 8,
   "metadata": {},
   "outputs": [],
   "source": [
    "for node, data in list(G_adb.nodes(data=True))[:10]:\n",
    "    print(node, data.get(\"_id\"))\n"
   ]
  },
  {
   "cell_type": "code",
   "execution_count": 9,
   "metadata": {},
   "outputs": [
    {
     "name": "stdout",
     "output_type": "stream",
     "text": [
      "Graph named 'SteamGraph' with 0 nodes and 0 edges\n"
     ]
    }
   ],
   "source": [
    "print(G_adb)"
   ]
  },
  {
   "cell_type": "markdown",
   "metadata": {},
   "source": [
    "### AQL Test"
   ]
  },
  {
   "cell_type": "code",
   "execution_count": 10,
   "metadata": {},
   "outputs": [
    {
     "name": "stdout",
     "output_type": "stream",
     "text": [
      "Available collections:\n",
      "_analyzers\n",
      "_apps\n",
      "SteamGraph_node\n",
      "_graphs\n",
      "_frontend\n",
      "SteamGraph_node_to_SteamGraph_node\n",
      "_queues\n",
      "Users\n",
      "plays\n",
      "_aqlfunctions\n",
      "_appbundles\n",
      "_jobs\n",
      "Games\n",
      "\n",
      "Graph collections:\n",
      "[{'edge_collection': 'SteamGraph_node_to_SteamGraph_node', 'from_vertex_collections': ['SteamGraph_node'], 'to_vertex_collections': ['SteamGraph_node']}]\n"
     ]
    }
   ],
   "source": [
    "# First, let's check what collections exist\n",
    "print(\"Available collections:\")\n",
    "for collection in db.collections():\n",
    "    print(collection['name'])\n",
    "\n",
    "# Get the graph to see its collections\n",
    "graph = db.graph('SteamGraph')\n",
    "print(\"\\nGraph collections:\")\n",
    "print(graph.edge_definitions())"
   ]
  },
  {
   "cell_type": "code",
   "execution_count": 11,
   "metadata": {},
   "outputs": [
    {
     "name": "stdout",
     "output_type": "stream",
     "text": [
      "Sample Users Nodes:\n",
      "{'_key': '183838531', '_id': 'Users/183838531', '_rev': '_jSrMvHG-_B', 'type': 'Users', 'steamid': 183838531}\n",
      "{'_key': '38885272', '_id': 'Users/38885272', '_rev': '_jSrMvZa--u', 'type': 'Users', 'steamid': 38885272}\n",
      "{'_key': '266367020', '_id': 'Users/266367020', '_rev': '_jSrMuzy-_d', 'type': 'Users', 'steamid': 266367020}\n",
      "----------\n",
      "Sample Plays Edges:\n",
      "{'_key': '13145', '_id': 'plays/13145', '_from': 'Users/106986812', '_to': 'Games/11432_ftl_faster_than_light', '_rev': '_jSrMyVS--I', 'weight': 1.9}\n",
      "{'_key': '50922', '_id': 'plays/50922', '_from': 'Users/561758', '_to': 'Games/12655_operation_flashpoint_red_river', '_rev': '_jSrM1Ei--b', 'weight': 11.5}\n",
      "{'_key': '63134', '_id': 'plays/63134', '_from': 'Users/102111851', '_to': 'Games/11973_neverwinter', '_rev': '_jSrMuca---', 'weight': 72}\n",
      "----------\n"
     ]
    }
   ],
   "source": [
    "\n",
    "\n",
    "# -----------------------------------------------------------\n",
    "# 1. Query 3 random nodes from the Users collection.\n",
    "# -----------------------------------------------------------\n",
    "result_cursor = G_adb.query(\"\"\"\n",
    "    FOR node IN Users\n",
    "        SORT RAND()\n",
    "        LIMIT 3\n",
    "        RETURN node\n",
    "\"\"\")\n",
    "print(\"Sample Users Nodes:\")\n",
    "for node in result_cursor:\n",
    "    print(node)\n",
    "print('-'*10)\n",
    "\n",
    "# -----------------------------------------------------------\n",
    "# 2. Query 3 random edges from the plays edge collection.\n",
    "# -----------------------------------------------------------\n",
    "result_cursor = G_adb.query(\"\"\"\n",
    "    FOR edge IN plays\n",
    "        SORT RAND()\n",
    "        LIMIT 3\n",
    "        RETURN edge\n",
    "\"\"\")\n",
    "print(\"Sample Plays Edges:\")\n",
    "for edge in result_cursor:\n",
    "    print(edge)\n",
    "print('-'*10)\n"
   ]
  },
  {
   "cell_type": "markdown",
   "metadata": {},
   "source": [
    "### Agent"
   ]
  },
  {
   "cell_type": "code",
   "execution_count": 12,
   "metadata": {},
   "outputs": [],
   "source": [
    "arango_graph = ArangoGraph(db)\n"
   ]
  },
  {
   "cell_type": "code",
   "execution_count": 13,
   "metadata": {},
   "outputs": [
    {
     "name": "stdout",
     "output_type": "stream",
     "text": [
      "{'Collection Schema': [{'collection_name': 'Users',\n",
      "                        'collection_type': 'document',\n",
      "                        'document_properties': [{'name': '_key', 'type': 'str'},\n",
      "                                                {'name': '_id', 'type': 'str'},\n",
      "                                                {'name': '_rev', 'type': 'str'},\n",
      "                                                {'name': 'type', 'type': 'str'},\n",
      "                                                {'name': 'steamid',\n",
      "                                                 'type': 'int'}],\n",
      "                        'example_document': {'_id': 'Users/151603712',\n",
      "                                             '_key': '151603712',\n",
      "                                             '_rev': '_jSrMuhq---',\n",
      "                                             'steamid': 151603712,\n",
      "                                             'type': 'Users'}},\n",
      "                       {'collection_name': 'plays',\n",
      "                        'collection_type': 'edge',\n",
      "                        'edge_properties': [{'name': '_key', 'type': 'str'},\n",
      "                                            {'name': '_id', 'type': 'str'},\n",
      "                                            {'name': '_from', 'type': 'str'},\n",
      "                                            {'name': '_to', 'type': 'str'},\n",
      "                                            {'name': '_rev', 'type': 'str'},\n",
      "                                            {'name': 'weight', 'type': 'int'}],\n",
      "                        'example_edge': {'_from': 'Users/77214425',\n",
      "                                         '_id': 'plays/62581',\n",
      "                                         '_key': '62581',\n",
      "                                         '_rev': '_jSrMuby---',\n",
      "                                         '_to': 'Games/11706_chivalry_medieval_warfare',\n",
      "                                         'weight': 65}},\n",
      "                       {'collection_name': 'Games',\n",
      "                        'collection_type': 'document',\n",
      "                        'document_properties': [{'name': '_key', 'type': 'str'},\n",
      "                                                {'name': '_id', 'type': 'str'},\n",
      "                                                {'name': '_rev', 'type': 'str'},\n",
      "                                                {'name': 'type', 'type': 'str'},\n",
      "                                                {'name': 'GameName',\n",
      "                                                 'type': 'str'}],\n",
      "                        'example_document': {'GameName': 'The Elder Scrolls V '\n",
      "                                                         'Skyrim',\n",
      "                                             '_id': 'Games/11350_the_elder_scrolls_v_skyrim',\n",
      "                                             '_key': '11350_the_elder_scrolls_v_skyrim',\n",
      "                                             '_rev': '_jSrMucm--O',\n",
      "                                             'type': 'Games'}}],\n",
      " 'Graph Schema': [{'edge_definitions': [{'edge_collection': 'SteamGraph_node_to_SteamGraph_node',\n",
      "                                         'from_vertex_collections': ['SteamGraph_node'],\n",
      "                                         'to_vertex_collections': ['SteamGraph_node']}],\n",
      "                   'graph_name': 'SteamGraph'}]}\n"
     ]
    }
   ],
   "source": [
    "# If the schema is exposed as an attribute\n",
    "graph_schema = arango_graph.schema\n",
    "pprint.pprint(graph_schema)\n"
   ]
  },
  {
   "cell_type": "code",
   "execution_count": 14,
   "metadata": {},
   "outputs": [
    {
     "name": "stdout",
     "output_type": "stream",
     "text": [
      "{'game': {'_key': '11371_dota_2', '_id': 'Games/11371_dota_2', '_rev': '_jSrMucm--z', 'type': 'Games', 'GameName': 'Dota 2'}, 'playerCount': 4841}\n",
      "----------\n"
     ]
    }
   ],
   "source": [
    "result_cursor =  G_adb.query(\"\"\"\n",
    "WITH Games, plays\n",
    "FOR game IN Games \n",
    "  LET playerCount = (\n",
    "    FOR play IN plays \n",
    "    FILTER play._to == game._id \n",
    "    COLLECT WITH COUNT INTO length \n",
    "    RETURN length\n",
    "  )[0] \n",
    "  SORT playerCount DESC \n",
    "  LIMIT 1 \n",
    "  RETURN {game, playerCount: playerCount}\n",
    "\"\"\")\n",
    "\n",
    "for item in result_cursor:\n",
    "    print(item)\n",
    "print('-'*10)\n",
    "\n"
   ]
  },
  {
   "cell_type": "code",
   "execution_count": 15,
   "metadata": {},
   "outputs": [
    {
     "data": {
      "text/plain": [
       "<langchain_community.graphs.arangodb_graph.ArangoGraph at 0x77399a9719c0>"
      ]
     },
     "execution_count": 15,
     "metadata": {},
     "output_type": "execute_result"
    }
   ],
   "source": [
    "arango_graph"
   ]
  },
  {
   "cell_type": "code",
   "execution_count": 16,
   "metadata": {},
   "outputs": [
    {
     "name": "stderr",
     "output_type": "stream",
     "text": [
      "/home/manoj99/miniconda3/envs/Arrongo/lib/python3.10/site-packages/pydantic/_internal/_generate_schema.py:502: UserWarning: <built-in function any> is not a Python type (it may be an instance of an object), Pydantic will allow any object with no validation since we cannot even enforce that the input is an instance of the given type. To get rid of this error wrap the type with `pydantic.SkipValidation`.\n",
      "  warn(\n"
     ]
    },
    {
     "data": {
      "image/png": "[encoded data removed]",
      "text/plain": [
       "<IPython.core.display.Image object>"
      ]
     },
     "metadata": {},
     "output_type": "display_data"
    }
   ],
   "source": [
    "agent = GraphAgent(arango_graph, G_adb)\n"
   ]
  },
  {
   "cell_type": "code",
   "execution_count": 17,
   "metadata": {},
   "outputs": [],
   "source": [
    "# def create_gradio_interface(agent):\n",
    "#     def display_response(input_text):\n",
    "#         result = agent.query_graph(input_text)\n",
    "#         print(\"Inside interface\")\n",
    "#         print(result[\"html_code\"])\n",
    "#         return (\n",
    "#             result[\"html_code\"],\n",
    "#             result[\"reply\"]\n",
    "#         )\n",
    "    \n",
    "#     css = \"\"\"\n",
    "#         #visualization-container {\n",
    "#             width: 100%;\n",
    "#             margin: 0;\n",
    "#             padding: 0;\n",
    "#         }\n",
    "#         #visualization-container iframe {\n",
    "#             width: 100%;\n",
    "#             height: 600px;\n",
    "#             border: none;\n",
    "#         }\n",
    "#     \"\"\"\n",
    "    \n",
    "#     with gr.Blocks(css=css) as interface:\n",
    "#         gr.Markdown(\"# Graph Analysis Interface\")\n",
    "        \n",
    "#         with gr.Column():\n",
    "#             input_text = gr.Textbox(\n",
    "#                 label=\"Query\",\n",
    "#                 placeholder=\"Enter your graph query here...\",\n",
    "#                 lines=2\n",
    "#             )\n",
    "            \n",
    "#             submit_btn = gr.Button(\"Analyze\", variant=\"primary\")\n",
    "            \n",
    "#             html_output = gr.HTML(\n",
    "#                 label=\"Visualization\",\n",
    "#                 value=\"\",\n",
    "#                 elem_id=\"visualization-container\"\n",
    "#             )\n",
    "            \n",
    "#             text_output = gr.Textbox(\n",
    "#                 label=\"Analysis Result\", \n",
    "#                 lines=3\n",
    "#             )\n",
    "            \n",
    "#         submit_btn.click(\n",
    "#             fn=display_response,\n",
    "#             inputs=[input_text],\n",
    "#             outputs=[html_output, text_output]\n",
    "#         )\n",
    "    \n",
    "#     return interface"
   ]
  },
  {
   "cell_type": "code",
   "execution_count": 23,
   "metadata": {},
   "outputs": [],
   "source": [
    "def create_gradio_interface(agent):\n",
    "    # ... (keep get_sample_data and display_response functions the same)\n",
    "    def get_sample_data():\n",
    "        # Get sample user IDs\n",
    "        user_cursor = G_adb.query(\"\"\"\n",
    "        FOR user IN Users\n",
    "        SORT RAND()\n",
    "        LIMIT 3\n",
    "        RETURN user._id\n",
    "        \"\"\")\n",
    "        sample_users = [user for user in user_cursor]\n",
    "\n",
    "        # Get top games by player count\n",
    "        games_cursor = G_adb.query(\"\"\"\n",
    "        WITH Games, plays\n",
    "        FOR game IN Games\n",
    "        LET playerCount = (\n",
    "            FOR play IN plays \n",
    "            FILTER play._to == game._id \n",
    "            COLLECT WITH COUNT INTO length \n",
    "            RETURN length\n",
    "        )[0]\n",
    "        SORT playerCount DESC\n",
    "        LIMIT 5\n",
    "        RETURN game.GameName\n",
    "        \"\"\")\n",
    "        sample_games = [game for game in games_cursor]\n",
    "\n",
    "        return sample_users, sample_games\n",
    "\n",
    "    def display_response(input_text):\n",
    "        result = agent.query_graph(input_text)\n",
    "        print(\"Inside interface\")\n",
    "        print(result[\"html_code\"])\n",
    "        return (\n",
    "            result[\"html_code\"],\n",
    "            result[\"rag_reply\"]\n",
    "        )\n",
    "    \n",
    "    # Get sample data from graph\n",
    "    sample_users, sample_games = get_sample_data()\n",
    "    css = \"\"\"\n",
    "         /* Reset any Gradio margins/padding */\n",
    "        .gradio-container {\n",
    "            margin: 0 !important;\n",
    "            padding: 0 !important;\n",
    "        }\n",
    "        \n",
    "        /* Main visualization container */\n",
    "        #visualization-container {\n",
    "            width: 100% !important;\n",
    "            height: 800px !important;\n",
    "            margin: 0;\n",
    "            padding: 0;\n",
    "            overflow: hidden;\n",
    "            position: relative;\n",
    "        }\n",
    "        \n",
    "        /* Target the iframe directly */\n",
    "        #visualization-container iframe {\n",
    "            width: 100% !important;\n",
    "            height: 100% !important;\n",
    "            border: none !important;\n",
    "            margin: 0 !important;\n",
    "            padding: 0 !important;\n",
    "            position: absolute !important;\n",
    "            top: 0 !important;\n",
    "            left: 0 !important;\n",
    "        }\n",
    "\n",
    "        /* Ensure the column takes full width */\n",
    "        .svelte-1lyxibv {\n",
    "            max-width: none !important;\n",
    "        }\n",
    "    \"\"\"\n",
    "    \n",
    "    \n",
    "    with gr.Blocks(css=css) as interface:\n",
    "        gr.Markdown(\"# Graph Analysis Interface\")\n",
    "         \n",
    "        with gr.Row():\n",
    "            with gr.Column(scale=2):\n",
    "                input_text = gr.Textbox(\n",
    "                    label=\"Query\",\n",
    "                    placeholder=\"Enter your graph query here...\",\n",
    "                    lines=2\n",
    "                )\n",
    "                submit_btn = gr.Button(\"Analyze\", variant=\"primary\")\n",
    "            \n",
    "            # Sample IDs panel\n",
    "            with gr.Column(scale=1):\n",
    "                with gr.Column(elem_classes=[\"sample-panel\"]):\n",
    "                    # Format the sample data into markdown\n",
    "                    users_md = \"\\n\".join([f\"- {user}\" for user in sample_users])\n",
    "                    games_md = \"\\n\".join([f\"- {game}\" for game in sample_games])\n",
    "                    \n",
    "                    gr.Markdown(f\"\"\"\n",
    "                    ### Sample User IDs\n",
    "                    {users_md}\n",
    "\n",
    "                    ### Popular Games\n",
    "                    {games_md}\n",
    "                    \"\"\")\n",
    "        \n",
    "        with gr.Column():\n",
    "            html_output = gr.HTML(\n",
    "                label=\"Visualization\",\n",
    "                value=\"\",\n",
    "                elem_id=\"visualization-container\",\n",
    "                container=False\n",
    "\n",
    "            )\n",
    "            \n",
    "            text_output = gr.Textbox(\n",
    "                label=\"Analysis Result\", \n",
    "                lines=3\n",
    "            )\n",
    "            \n",
    "        submit_btn.click(\n",
    "            fn=display_response,\n",
    "            inputs=[input_text],\n",
    "            outputs=[html_output, text_output]\n",
    "        )\n",
    "    \n",
    "    return interface"
   ]
  },
  {
   "cell_type": "code",
   "execution_count": null,
   "metadata": {},
   "outputs": [],
   "source": [
    "# Assuming G_adb is already defined and is a NetworkX Graph object\n",
    "import networkx as nx\n",
    "\n",
    "# Calculate degree centrality for all nodes\n",
    "degree_centrality = nx.degree_centrality(G_adb)\n",
    "\n",
    "# Filter out the game nodes\n",
    "game_nodes = [node for node, data in G_adb.nodes(data=True) if data.get('type') == 'Games']\n",
    "\n",
    "# Get the game with the highest degree centrality\n",
    "most_influential_game = max(game_nodes, key=lambda node: degree_centrality.get(node, 0))\n",
    "\n",
    "# Retrieve the node data for the most influential game\n",
    "FINAL_RESULT = G_adb.nodes[most_influential_game]"
   ]
  },
  {
   "cell_type": "code",
   "execution_count": 27,
   "metadata": {},
   "outputs": [
    {
     "name": "stdout",
     "output_type": "stream",
     "text": [
      "* Running on local URL:  http://127.0.0.1:7861\n",
      "\n",
      "To create a public link, set `share=True` in `launch()`.\n"
     ]
    },
    {
     "data": {
      "text/html": [
       "<div><iframe src=\"http://127.0.0.1:7861/\" width=\"100%\" height=\"500\" allow=\"autoplay; camera; microphone; clipboard-read; clipboard-write;\" frameborder=\"0\" allowfullscreen></iframe></div>"
      ],
      "text/plain": [
       "<IPython.core.display.HTML object>"
      ]
     },
     "metadata": {},
     "output_type": "display_data"
    },
    {
     "data": {
      "text/plain": []
     },
     "execution_count": 27,
     "metadata": {},
     "output_type": "execute_result"
    },
    {
     "name": "stdout",
     "output_type": "stream",
     "text": [
      "\n",
      "RAG_Summarizer State:\n",
      "[ HumanMessage(content='d', additional_kwargs={}, response_metadata={}, id='ac89fea7-13bc-46d1-8190-cdd5d6eaa508'),\n",
      "  AIMessage(content='Done', additional_kwargs={}, response_metadata={}, id='b09a9804-b59a-42bc-94b9-cac9c67049e9')]\n",
      "\n",
      "Updating RAG_reply with:\n",
      "Done\n",
      "Visualizer State:\n",
      "[ HumanMessage(content='d', additional_kwargs={}, response_metadata={}, id='ac89fea7-13bc-46d1-8190-cdd5d6eaa508'),\n",
      "  AIMessage(content='Done', additional_kwargs={}, response_metadata={}, id='b09a9804-b59a-42bc-94b9-cac9c67049e9')]\n",
      "State saved to logs/state_20250228_010348_8277e091.json\n",
      "Inside interface\n",
      "<gradio.components.html.HTML object at 0x773996743fd0>\n"
     ]
    }
   ],
   "source": [
    "interface = create_gradio_interface(agent)\n",
    "interface.launch()"
   ]
  },
  {
   "cell_type": "code",
   "execution_count": null,
   "metadata": {},
   "outputs": [],
   "source": []
  },
  {
   "cell_type": "code",
   "execution_count": null,
   "metadata": {},
   "outputs": [],
   "source": []
  }
 ],
 "metadata": {
  "kernelspec": {
   "display_name": "Arrongo",
   "language": "python",
   "name": "python3"
  },
  "language_info": {
   "codemirror_mode": {
    "name": "ipython",
    "version": 3
   },
   "file_extension": ".py",
   "mimetype": "text/x-python",
   "name": "python",
   "nbconvert_exporter": "python",
   "pygments_lexer": "ipython3",
   "version": "3.10.16"
  }
 },
 "nbformat": 4,
 "nbformat_minor": 2
}
