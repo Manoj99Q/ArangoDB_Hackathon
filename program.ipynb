{
 "cells": [
  {
   "cell_type": "code",
   "execution_count": 1,
   "metadata": {},
   "outputs": [
    {
     "name": "stderr",
     "output_type": "stream",
     "text": [
      "[02:14:40 -0600] [INFO]: NetworkX-cuGraph is unavailable: No module named 'nx_cugraph'.\n"
     ]
    }
   ],
   "source": [
    "import networkx as nx\n",
    "import nx_arangodb as nxadb\n",
    "\n",
    "from arango import ArangoClient\n",
    "\n",
    "import pandas as pd\n",
    "import numpy as np\n",
    "import networkx as nx\n",
    "import matplotlib.pyplot as plt\n",
    "from random import randint\n",
    "import re\n",
    "\n",
    "from langgraph.prebuilt import create_react_agent\n",
    "from langgraph.checkpoint.memory import MemorySaver\n",
    "from langchain_openai import ChatOpenAI\n",
    "from langchain_community.graphs import ArangoGraph\n",
    "from langchain_community.chains.graph_qa.arangodb import ArangoGraphQAChain\n",
    "from langchain_core.tools import tool\n",
    "\n",
    "\n",
    "import gradio\n",
    "from graph_utils import create_d3_visualization\n",
    "from dotenv import load_dotenv\n",
    "import os\n",
    "from agent_utils import GraphAgent\n",
    "\n"
   ]
  },
  {
   "cell_type": "code",
   "execution_count": 2,
   "metadata": {},
   "outputs": [
    {
     "data": {
      "text/plain": [
       "True"
      ]
     },
     "execution_count": 2,
     "metadata": {},
     "output_type": "execute_result"
    }
   ],
   "source": [
    "load_dotenv()"
   ]
  },
  {
   "cell_type": "code",
   "execution_count": 3,
   "metadata": {},
   "outputs": [],
   "source": [
    "# Access variables\n",
    "openai_key = os.getenv('OPENAI_API_KEY')\n",
    "arango_host = os.getenv('ARANGO_HOST')\n",
    "arango_user = os.getenv('ARANGO_USER')\n",
    "arango_password = os.getenv('ARANGO_PASSWORD')\n",
    "arango_db = os.getenv('ARANGO_DB')\n"
   ]
  },
  {
   "cell_type": "code",
   "execution_count": 4,
   "metadata": {},
   "outputs": [
    {
     "name": "stdout",
     "output_type": "stream",
     "text": [
      "[{'id': '195136', 'name': '_analyzers', 'system': True, 'type': 'document', 'status': 'loaded'}, {'id': '195138', 'name': '_queues', 'system': True, 'type': 'document', 'status': 'loaded'}, {'id': '195137', 'name': '_aqlfunctions', 'system': True, 'type': 'document', 'status': 'loaded'}, {'id': '211044', 'name': 'Users', 'system': False, 'type': 'document', 'status': 'loaded'}, {'id': '195139', 'name': '_jobs', 'system': True, 'type': 'document', 'status': 'loaded'}, {'id': '211045', 'name': 'Games', 'system': False, 'type': 'document', 'status': 'loaded'}, {'id': '195141', 'name': '_appbundles', 'system': True, 'type': 'document', 'status': 'loaded'}, {'id': '195135', 'name': '_graphs', 'system': True, 'type': 'document', 'status': 'loaded'}, {'id': '195140', 'name': '_apps', 'system': True, 'type': 'document', 'status': 'loaded'}, {'id': '211046', 'name': 'plays', 'system': False, 'type': 'edge', 'status': 'loaded'}, {'id': '195142', 'name': '_frontend', 'system': True, 'type': 'document', 'status': 'loaded'}]\n"
     ]
    }
   ],
   "source": [
    "# Initialize the client for ArangoDB.\n",
    "client = ArangoClient(hosts=arango_host)\n",
    "db = client.db(arango_db, username=arango_user, password=arango_password)\n",
    "print(db.collections())"
   ]
  },
  {
   "cell_type": "code",
   "execution_count": 5,
   "metadata": {},
   "outputs": [
    {
     "name": "stderr",
     "output_type": "stream",
     "text": [
      "[02:14:43 -0600] [INFO]: Graph 'SteamGraph' exists.\n",
      "[02:14:43 -0600] [INFO]: Default node type set to 'Games'\n"
     ]
    },
    {
     "name": "stdout",
     "output_type": "stream",
     "text": [
      "Graph named 'SteamGraph' with 14950 nodes and 70477 edges\n"
     ]
    }
   ],
   "source": [
    "\n",
    "G_adb = nxadb.Graph(name=\"SteamGraph\", db=db)\n",
    "\n",
    "print(G_adb)"
   ]
  },
  {
   "cell_type": "code",
   "execution_count": 6,
   "metadata": {},
   "outputs": [
    {
     "name": "stdout",
     "output_type": "stream",
     "text": [
      "{'_key': 'SteamGraph', '_id': '_graphs/SteamGraph', '_rev': '_jPzEASO---', 'edgeDefinitions': [{'collection': 'plays', 'from': ['Users'], 'to': ['Games']}], 'orphanCollections': [], 'networkx': {'name': 'SteamGraph'}}\n"
     ]
    }
   ],
   "source": [
    "graph_def = db.collection(\"_graphs\").get(\"SteamGraph\")\n",
    "print(graph_def)\n"
   ]
  },
  {
   "cell_type": "code",
   "execution_count": 7,
   "metadata": {},
   "outputs": [
    {
     "name": "stdout",
     "output_type": "stream",
     "text": [
      "Users/244722763 Users/244722763\n",
      "Users/130312302 Users/130312302\n",
      "Games/11951_full_spectrum_warrior_ten_hammers Games/11951_full_spectrum_warrior_ten_hammers\n",
      "Users/212426459 Users/212426459\n",
      "Games/12433_primordia Games/12433_primordia\n",
      "Users/140708070 Users/140708070\n",
      "Users/11373749 Users/11373749\n",
      "Games/12335_party_of_sin Games/12335_party_of_sin\n",
      "Users/152959594 Users/152959594\n",
      "Users/214900977 Users/214900977\n"
     ]
    }
   ],
   "source": [
    "for node, data in list(G_adb.nodes(data=True))[:10]:\n",
    "    print(node, data.get(\"_id\"))\n"
   ]
  },
  {
   "cell_type": "code",
   "execution_count": 8,
   "metadata": {},
   "outputs": [
    {
     "name": "stdout",
     "output_type": "stream",
     "text": [
      "Graph named 'SteamGraph' with 14950 nodes and 70477 edges\n"
     ]
    }
   ],
   "source": [
    "print(G_adb)"
   ]
  },
  {
   "cell_type": "markdown",
   "metadata": {},
   "source": [
    "### AQL Test"
   ]
  },
  {
   "cell_type": "code",
   "execution_count": 9,
   "metadata": {},
   "outputs": [
    {
     "name": "stdout",
     "output_type": "stream",
     "text": [
      "Available collections:\n",
      "_analyzers\n",
      "_queues\n",
      "_aqlfunctions\n",
      "Users\n",
      "_jobs\n",
      "Games\n",
      "_appbundles\n",
      "_graphs\n",
      "_apps\n",
      "plays\n",
      "_frontend\n",
      "\n",
      "Graph collections:\n",
      "[{'edge_collection': 'plays', 'from_vertex_collections': ['Users'], 'to_vertex_collections': ['Games']}]\n"
     ]
    }
   ],
   "source": [
    "# First, let's check what collections exist\n",
    "print(\"Available collections:\")\n",
    "for collection in db.collections():\n",
    "    print(collection['name'])\n",
    "\n",
    "# Get the graph to see its collections\n",
    "graph = db.graph('SteamGraph')\n",
    "print(\"\\nGraph collections:\")\n",
    "print(graph.edge_definitions())"
   ]
  },
  {
   "cell_type": "code",
   "execution_count": 10,
   "metadata": {},
   "outputs": [
    {
     "name": "stdout",
     "output_type": "stream",
     "text": [
      "Sample Users Nodes:\n",
      "{'_key': '198680785', '_id': 'Users/198680785', '_rev': '_jPaYbkW--B', 'type': 'Users', 'steamid': 198680785}\n",
      "{'_key': '27579751', '_id': 'Users/27579751', '_rev': '_jPaYbqS-_V', 'type': 'Users', 'steamid': 27579751}\n",
      "{'_key': '72207742', '_id': 'Users/72207742', '_rev': '_jPaYbiK-_D', 'type': 'Users', 'steamid': 72207742}\n",
      "----------\n",
      "Sample Plays Edges:\n",
      "{'_key': '11892', '_id': 'plays/11892', '_from': 'Users/43565258', '_to': 'Games/11359_team_fortress_2', '_rev': '_jPaYfkS--c', 'weight': 1.2}\n",
      "{'_key': '13491', '_id': 'plays/13491', '_from': 'Users/105782521', '_to': 'Games/12421_call_of_duty_ghosts_multiplayer', '_rev': '_jPaYfwu--q', 'weight': 32}\n",
      "{'_key': '48155', '_id': 'plays/48155', '_from': 'Users/129117376', '_to': 'Games/12815_narcissu_1st_2nd', '_rev': '_jPaYhny--h', 'weight': 0.4}\n",
      "----------\n"
     ]
    }
   ],
   "source": [
    "\n",
    "\n",
    "# -----------------------------------------------------------\n",
    "# 1. Query 3 random nodes from the Users collection.\n",
    "# -----------------------------------------------------------\n",
    "result_cursor = G_adb.query(\"\"\"\n",
    "    FOR node IN Users\n",
    "        SORT RAND()\n",
    "        LIMIT 3\n",
    "        RETURN node\n",
    "\"\"\")\n",
    "print(\"Sample Users Nodes:\")\n",
    "for node in result_cursor:\n",
    "    print(node)\n",
    "print('-'*10)\n",
    "\n",
    "# -----------------------------------------------------------\n",
    "# 2. Query 3 random edges from the plays edge collection.\n",
    "# -----------------------------------------------------------\n",
    "result_cursor = G_adb.query(\"\"\"\n",
    "    FOR edge IN plays\n",
    "        SORT RAND()\n",
    "        LIMIT 3\n",
    "        RETURN edge\n",
    "\"\"\")\n",
    "print(\"Sample Plays Edges:\")\n",
    "for edge in result_cursor:\n",
    "    print(edge)\n",
    "print('-'*10)\n"
   ]
  },
  {
   "cell_type": "markdown",
   "metadata": {},
   "source": [
    "### Agent"
   ]
  },
  {
   "cell_type": "code",
   "execution_count": 11,
   "metadata": {},
   "outputs": [],
   "source": [
    "arango_graph = ArangoGraph(db)\n"
   ]
  },
  {
   "cell_type": "code",
   "execution_count": 12,
   "metadata": {},
   "outputs": [
    {
     "data": {
      "image/png": "[encoded data removed]",
      "text/plain": [
       "<IPython.core.display.Image object>"
      ]
     },
     "metadata": {},
     "output_type": "display_data"
    }
   ],
   "source": [
    "agent = GraphAgent(arango_graph, G_adb)\n"
   ]
  },
  {
   "cell_type": "code",
   "execution_count": 19,
   "metadata": {},
   "outputs": [
    {
     "name": "stdout",
     "output_type": "stream",
     "text": [
      "Netwrokx Query received:\n",
      "Find the most influential games in the graph using centrality measures.\n",
      "----------\n",
      "1) Generating NetworkX code\n",
      "----------\n",
      "import networkx as nx\n",
      "\n",
      "# Assuming G_adb is already defined and is a NetworkX graph object\n",
      "\n",
      "# Step 1: Calculate degree centrality for games\n",
      "degree_centrality = nx.degree_centrality(G_adb)\n",
      "\n",
      "# Step 2: Filter out the centrality values for games only\n",
      "games_centrality = {node: centrality for node, centrality in degree_centrality.items() if G_adb.nodes[node]['type'] == 'Games'}\n",
      "\n",
      "# Step 3: Find the game with the highest centrality\n",
      "most_influential_game = max(games_centrality, key=games_centrality.get)\n",
      "\n",
      "# Step 4: Retrieve the game name\n",
      "FINAL_RESULT = G_adb.nodes[most_influential_game]['GameName']\n",
      "----------\n",
      "\n",
      "2) Executing NetworkX code\n"
     ]
    },
    {
     "name": "stderr",
     "output_type": "stream",
     "text": [
      "[02:20:33 -0600] [INFO]: Graph 'SteamGraph' load took 2.248645544052124s\n"
     ]
    },
    {
     "name": "stdout",
     "output_type": "stream",
     "text": [
      "----------\n",
      "FINAL_RESULT: Dota 2\n",
      "----------\n",
      "3) Formulating final answer\n",
      "Netwrokx Query received:\n",
      "List the top influential games in the graph based on centrality measures to identify the 2nd and 4th most influential games.\n",
      "----------\n",
      "1) Generating NetworkX code\n",
      "----------\n",
      "import networkx as nx\n",
      "\n",
      "# Calculate degree centrality for the graph\n",
      "degree_centrality = nx.degree_centrality(G_adb)\n",
      "\n",
      "# Filter out only the 'Games' nodes\n",
      "games_centrality = {node: centrality for node, centrality in degree_centrality.items() if G_adb.nodes[node]['type'] == 'Games'}\n",
      "\n",
      "# Sort games by centrality in descending order\n",
      "sorted_games = sorted(games_centrality.items(), key=lambda item: item[1], reverse=True)\n",
      "\n",
      "# Get the 2nd and 4th most influential games\n",
      "second_most_influential_game = sorted_games[1][0] if len(sorted_games) > 1 else None\n",
      "fourth_most_influential_game = sorted_games[3][0] if len(sorted_games) > 3 else None\n",
      "\n",
      "# Prepare the final result\n",
      "FINAL_RESULT = (second_most_influential_game, fourth_most_influential_game)\n",
      "----------\n",
      "\n",
      "2) Executing NetworkX code\n"
     ]
    },
    {
     "name": "stderr",
     "output_type": "stream",
     "text": [
      "[02:20:43 -0600] [INFO]: Graph 'SteamGraph' load took 2.478921413421631s\n"
     ]
    },
    {
     "name": "stdout",
     "output_type": "stream",
     "text": [
      "----------\n",
      "FINAL_RESULT: ('Games/11359_team_fortress_2', 'Games/11590_unturned')\n",
      "----------\n",
      "3) Formulating final answer\n",
      "Query Received for AQL translation:\n",
      "Find the number of users who have played both 'Team Fortress 2' and 'Unturned'.\n",
      "----------\n",
      "\n",
      "\n",
      "\u001b[1m> Entering new ArangoGraphQAChain chain...\u001b[0m\n",
      "AQL Query (1):\u001b[32;1m\u001b[1;3m\n",
      "WITH Users, Games, plays\n",
      "\n",
      "LET teamFortress2 = FIRST(FOR game IN Games FILTER game.GameName == 'Team Fortress 2' RETURN game._id)\n",
      "LET unturned = FIRST(FOR game IN Games FILTER game.GameName == 'Unturned' RETURN game._id)\n",
      "\n",
      "LET usersPlayingBoth = (\n",
      "    FOR user IN Users\n",
      "        FILTER LENGTH(\n",
      "            FOR play IN plays\n",
      "                FILTER play._from == user._id AND (play._to == teamFortress2 OR play._to == unturned)\n",
      "                RETURN 1\n",
      "        ) == 2\n",
      "        RETURN user\n",
      ")\n",
      "\n",
      "RETURN LENGTH(usersPlayingBoth)\n",
      "\u001b[0m\n",
      "AQL Result:\n",
      "\u001b[32;1m\u001b[1;3m[500]\u001b[0m\n",
      "\n",
      "\u001b[1m> Finished chain.\u001b[0m\n",
      "Arrango Chain Result:\n",
      "{'query': \"Find the number of users who have played both 'Team Fortress 2' and 'Unturned'.\", 'result': \"The number of users who have played both 'Team Fortress 2' and 'Unturned' is 500.\", 'aql_result': [500]}\n",
      "Final Answer:\n",
      "The number of users who have played both \"Team Fortress 2\" and \"Unturned\" is 500. \n",
      "\n",
      "To summarize:\n",
      "- The 2nd most influential game is \"Team Fortress 2\".\n",
      "- The 4th most influential game is \"Unturned\".\n",
      "- 500 users have played both of these games.\n"
     ]
    },
    {
     "data": {
      "text/plain": [
       "'The number of users who have played both \"Team Fortress 2\" and \"Unturned\" is 500. \\n\\nTo summarize:\\n- The 2nd most influential game is \"Team Fortress 2\".\\n- The 4th most influential game is \"Unturned\".\\n- 500 users have played both of these games.'"
      ]
     },
     "execution_count": 19,
     "metadata": {},
     "output_type": "execute_result"
    }
   ],
   "source": [
    "agent.query_graph(\"Find 2nd and 4th Most influential game in the graph and its number of users who played both of them\")"
   ]
  },
  {
   "cell_type": "code",
   "execution_count": 20,
   "metadata": {},
   "outputs": [
    {
     "name": "stdout",
     "output_type": "stream",
     "text": [
      "Query Received for AQL translation:\n",
      "SELECT user_id, SUM(hours_played) as total_hours FROM user_game_data GROUP BY user_id ORDER BY total_hours DESC LIMIT 10\n",
      "----------\n",
      "\n",
      "\n",
      "\u001b[1m> Entering new ArangoGraphQAChain chain...\u001b[0m\n",
      "AQL Query (1):\u001b[32;1m\u001b[1;3m\n",
      "WITH Users, Games, plays\n",
      "FOR user IN Users\n",
      "    LET total_hours = SUM(\n",
      "        FOR play IN plays\n",
      "            FILTER play._from == user._id\n",
      "            RETURN play.weight\n",
      "    )\n",
      "    SORT total_hours DESC\n",
      "    LIMIT 10\n",
      "    RETURN { user_id: user._key, total_hours: total_hours }\n",
      "\u001b[0m\n",
      "AQL Result:\n",
      "\u001b[32;1m\u001b[1;3m[{'user_id': '73017395', 'total_hours': 11754}, {'user_id': '10599862', 'total_hours': 11651.699999999999}, {'user_id': '100630947', 'total_hours': 10853.2}, {'user_id': '26762388', 'total_hours': 10470.100000000004}, {'user_id': '153382649', 'total_hours': 9640}, {'user_id': '43684632', 'total_hours': 9546.299999999988}, {'user_id': '48798067', 'total_hours': 9427.199999999997}, {'user_id': '52731290', 'total_hours': 9417.6}, {'user_id': '42935819', 'total_hours': 8172.9}, {'user_id': '14544587', 'total_hours': 8137.0999999999985}]\u001b[0m\n",
      "\n",
      "\u001b[1m> Finished chain.\u001b[0m\n",
      "Arrango Chain Result:\n",
      "{'query': 'SELECT user_id, SUM(hours_played) as total_hours FROM user_game_data GROUP BY user_id ORDER BY total_hours DESC LIMIT 10', 'result': \"The top 10 users with the highest total hours played are as follows:\\n\\n1. User with ID '73017395' has played a total of 11,754 hours.\\n2. User with ID '10599862' has played a total of 11,651.7 hours.\\n3. User with ID '100630947' has played a total of 10,853.2 hours.\\n4. User with ID '26762388' has played a total of 10,470.1 hours.\\n5. User with ID '153382649' has played a total of 9,640 hours.\\n6. User with ID '43684632' has played a total of 9,546.3 hours.\\n7. User with ID '48798067' has played a total of 9,427.2 hours.\\n8. User with ID '52731290' has played a total of 9,417.6 hours.\\n9. User with ID '42935819' has played a total of 8,172.9 hours.\\n10. User with ID '14544587' has played a total of 8,137.1 hours.\\n\\nThese users have the highest cumulative playtime in the database.\", 'aql_result': [{'user_id': '73017395', 'total_hours': 11754}, {'user_id': '10599862', 'total_hours': 11651.699999999999}, {'user_id': '100630947', 'total_hours': 10853.2}, {'user_id': '26762388', 'total_hours': 10470.100000000004}, {'user_id': '153382649', 'total_hours': 9640}, {'user_id': '43684632', 'total_hours': 9546.299999999988}, {'user_id': '48798067', 'total_hours': 9427.199999999997}, {'user_id': '52731290', 'total_hours': 9417.6}, {'user_id': '42935819', 'total_hours': 8172.9}, {'user_id': '14544587', 'total_hours': 8137.0999999999985}]}\n",
      "Query Received for AQL translation:\n",
      "SELECT game_id, SUM(hours_played) as total_hours FROM user_game_data WHERE user_id IN ('73017395', '10599862', '100630947', '26762388', '153382649', '43684632', '48798067', '52731290', '42935819', '14544587') GROUP BY game_id ORDER BY total_hours DESC\n",
      "----------\n",
      "\n",
      "\n",
      "\u001b[1m> Entering new ArangoGraphQAChain chain...\u001b[0m\n",
      "AQL Query (1):\u001b[32;1m\u001b[1;3m\n",
      "WITH Users, Games, plays\n",
      "FOR user IN Users\n",
      "  FILTER user.steamid IN [73017395, 10599862, 100630947, 26762388, 153382649, 43684632, 48798067, 52731290, 42935819, 14544587]\n",
      "  FOR play IN plays\n",
      "    FILTER play._from == user._id\n",
      "    COLLECT game_id = play._to INTO grouped\n",
      "    LET total_hours = SUM(grouped[*].play.weight)\n",
      "    SORT total_hours DESC\n",
      "    RETURN { game_id, total_hours }\n",
      "\u001b[0m\n",
      "AQL Result:\n",
      "\u001b[32;1m\u001b[1;3m[{'game_id': 'Games/11378_sid_meier_s_civilization_v', 'total_hours': 13197}, {'game_id': 'Games/11371_dota_2', 'total_hours': 10790.4}, {'game_id': 'Games/11359_team_fortress_2', 'total_hours': 9724.7}, {'game_id': 'Games/11389_counter_strike_global_offensive', 'total_hours': 5434.6}, {'game_id': 'Games/11624_mount_blade_warband', 'total_hours': 4962}, {'game_id': 'Games/13012_baldur_s_gate_ii_enhanced_edition', 'total_hours': 3970}, {'game_id': 'Games/12172_football_manager_2014', 'total_hours': 3382}, {'game_id': 'Games/12438_baldur_s_gate_enhanced_edition', 'total_hours': 2630}, {'game_id': 'Games/12146_football_manager_2015', 'total_hours': 2576}, {'game_id': 'Games/12145_football_manager_2012', 'total_hours': 2375}]\u001b[0m\n",
      "\n",
      "\u001b[1m> Finished chain.\u001b[0m\n",
      "Arrango Chain Result:\n",
      "{'query': \"SELECT game_id, SUM(hours_played) as total_hours FROM user_game_data WHERE user_id IN ('73017395', '10599862', '100630947', '26762388', '153382649', '43684632', '48798067', '52731290', '42935819', '14544587') GROUP BY game_id ORDER BY total_hours DESC\", 'result': 'The query results show the total hours played for various games by a group of specified users. The game with the highest total playtime is \"Sid Meier\\'s Civilization V\" with 13,197 hours. This is followed by \"Dota 2\" with 10,790.4 hours and \"Team Fortress 2\" with 9,724.7 hours. Other notable games include \"Counter-Strike: Global Offensive\" with 5,434.6 hours and \"Mount & Blade: Warband\" with 4,962 hours. The list continues with games like \"Baldur\\'s Gate II: Enhanced Edition,\" \"Football Manager 2014,\" and others, each with varying total playtimes. The results are ordered by the total hours played in descending order.', 'aql_result': [{'game_id': 'Games/11378_sid_meier_s_civilization_v', 'total_hours': 13197}, {'game_id': 'Games/11371_dota_2', 'total_hours': 10790.4}, {'game_id': 'Games/11359_team_fortress_2', 'total_hours': 9724.7}, {'game_id': 'Games/11389_counter_strike_global_offensive', 'total_hours': 5434.6}, {'game_id': 'Games/11624_mount_blade_warband', 'total_hours': 4962}, {'game_id': 'Games/13012_baldur_s_gate_ii_enhanced_edition', 'total_hours': 3970}, {'game_id': 'Games/12172_football_manager_2014', 'total_hours': 3382}, {'game_id': 'Games/12438_baldur_s_gate_enhanced_edition', 'total_hours': 2630}, {'game_id': 'Games/12146_football_manager_2015', 'total_hours': 2576}, {'game_id': 'Games/12145_football_manager_2012', 'total_hours': 2375}]}\n",
      "Final Answer:\n",
      "Here are the games that the top 10 users have played the most in common, based on the total hours spent:\n",
      "\n",
      "1. **Sid Meier's Civilization V**: 13,197 hours\n",
      "2. **Dota 2**: 10,790.4 hours\n",
      "3. **Team Fortress 2**: 9,724.7 hours\n",
      "4. **Counter-Strike: Global Offensive**: 5,434.6 hours\n",
      "5. **Mount & Blade: Warband**: 4,962 hours\n",
      "6. **Baldur's Gate II: Enhanced Edition**\n",
      "7. **Football Manager 2014**\n",
      "\n",
      "These games are the most commonly played among the top 10 users by total playtime.\n"
     ]
    },
    {
     "data": {
      "text/plain": [
       "\"Here are the games that the top 10 users have played the most in common, based on the total hours spent:\\n\\n1. **Sid Meier's Civilization V**: 13,197 hours\\n2. **Dota 2**: 10,790.4 hours\\n3. **Team Fortress 2**: 9,724.7 hours\\n4. **Counter-Strike: Global Offensive**: 5,434.6 hours\\n5. **Mount & Blade: Warband**: 4,962 hours\\n6. **Baldur's Gate II: Enhanced Edition**\\n7. **Football Manager 2014**\\n\\nThese games are the most commonly played among the top 10 users by total playtime.\""
      ]
     },
     "execution_count": 20,
     "metadata": {},
     "output_type": "execute_result"
    }
   ],
   "source": [
    "agent.query_graph(\"Find the  top 10 users who played a lot  and which games they have played is common most by hours\")"
   ]
  },
  {
   "cell_type": "code",
   "execution_count": null,
   "metadata": {},
   "outputs": [],
   "source": []
  }
 ],
 "metadata": {
  "kernelspec": {
   "display_name": "Arrongo",
   "language": "python",
   "name": "python3"
  },
  "language_info": {
   "codemirror_mode": {
    "name": "ipython",
    "version": 3
   },
   "file_extension": ".py",
   "mimetype": "text/x-python",
   "name": "python",
   "nbconvert_exporter": "python",
   "pygments_lexer": "ipython3",
   "version": "3.10.16"
  }
 },
 "nbformat": 4,
 "nbformat_minor": 2
}
