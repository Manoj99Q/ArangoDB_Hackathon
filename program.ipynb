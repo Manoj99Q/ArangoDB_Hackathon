{
 "cells": [
  {
   "cell_type": "code",
   "execution_count": 1,
   "metadata": {},
   "outputs": [],
   "source": [
    "# # Enable remote debugging\n",
    "# import debugpy\n",
    "# import os\n",
    "\n",
    "# # Only enable debugging if not already enabled\n",
    "# if not debugpy.is_client_connected():\n",
    "#     debugpy.listen((\"localhost\", 5678))\n",
    "#     print(\"Waiting for debugger to attach...\")\n",
    "#     debugpy.wait_for_client()\n",
    "#     print(\"Debugger attached!\")"
   ]
  },
  {
   "cell_type": "code",
   "execution_count": 2,
   "metadata": {},
   "outputs": [
    {
     "name": "stderr",
     "output_type": "stream",
     "text": [
      "[02:28:38 -0600] [INFO]: NetworkX-cuGraph is unavailable: No module named 'nx_cugraph'.\n"
     ]
    }
   ],
   "source": [
    "import networkx as nx\n",
    "import nx_arangodb as nxadb\n",
    "\n",
    "from arango import ArangoClient\n",
    "\n",
    "import pandas as pd\n",
    "import numpy as np\n",
    "import networkx as nx\n",
    "import matplotlib.pyplot as plt\n",
    "from random import randint\n",
    "import re\n",
    "\n",
    "from langgraph.prebuilt import create_react_agent\n",
    "from langgraph.checkpoint.memory import MemorySaver\n",
    "from langchain_openai import ChatOpenAI\n",
    "from langchain_community.graphs import ArangoGraph\n",
    "from langchain_community.chains.graph_qa.arangodb import ArangoGraphQAChain\n",
    "from langchain_core.tools import tool\n",
    "\n",
    "\n",
    "import gradio as gr\n",
    "from graph_utils import create_d3_visualization\n",
    "from dotenv import load_dotenv\n",
    "import os\n",
    "from agent_utils import GraphAgent\n",
    "import pprint\n",
    "\n"
   ]
  },
  {
   "cell_type": "code",
   "execution_count": 3,
   "metadata": {},
   "outputs": [
    {
     "data": {
      "text/plain": [
       "True"
      ]
     },
     "execution_count": 3,
     "metadata": {},
     "output_type": "execute_result"
    }
   ],
   "source": [
    "load_dotenv()"
   ]
  },
  {
   "cell_type": "code",
   "execution_count": 4,
   "metadata": {},
   "outputs": [],
   "source": [
    "# Access variables\n",
    "openai_key = os.getenv('OPENAI_API_KEY')\n",
    "arango_host = os.getenv('ARANGO_HOST')\n",
    "arango_user = os.getenv('ARANGO_USER')\n",
    "arango_password = os.getenv('ARANGO_PASSWORD')\n",
    "arango_db = os.getenv('ARANGO_DB')\n"
   ]
  },
  {
   "cell_type": "code",
   "execution_count": 5,
   "metadata": {},
   "outputs": [
    {
     "name": "stdout",
     "output_type": "stream",
     "text": [
      "[{'id': '195136', 'name': '_analyzers', 'system': True, 'type': 'document', 'status': 'loaded'}, {'id': '195138', 'name': '_queues', 'system': True, 'type': 'document', 'status': 'loaded'}, {'id': '195137', 'name': '_aqlfunctions', 'system': True, 'type': 'document', 'status': 'loaded'}, {'id': '211044', 'name': 'Users', 'system': False, 'type': 'document', 'status': 'loaded'}, {'id': '195139', 'name': '_jobs', 'system': True, 'type': 'document', 'status': 'loaded'}, {'id': '211045', 'name': 'Games', 'system': False, 'type': 'document', 'status': 'loaded'}, {'id': '195141', 'name': '_appbundles', 'system': True, 'type': 'document', 'status': 'loaded'}, {'id': '195135', 'name': '_graphs', 'system': True, 'type': 'document', 'status': 'loaded'}, {'id': '195140', 'name': '_apps', 'system': True, 'type': 'document', 'status': 'loaded'}, {'id': '211046', 'name': 'plays', 'system': False, 'type': 'edge', 'status': 'loaded'}, {'id': '195142', 'name': '_frontend', 'system': True, 'type': 'document', 'status': 'loaded'}]\n"
     ]
    }
   ],
   "source": [
    "# Initialize the client for ArangoDB.\n",
    "client = ArangoClient(hosts=arango_host)\n",
    "db = client.db(arango_db, username=arango_user, password=arango_password)\n",
    "print(db.collections())"
   ]
  },
  {
   "cell_type": "code",
   "execution_count": 6,
   "metadata": {},
   "outputs": [
    {
     "name": "stderr",
     "output_type": "stream",
     "text": [
      "[02:28:42 -0600] [INFO]: Graph 'SteamGraph' exists.\n",
      "[02:28:42 -0600] [INFO]: Default node type set to 'Games'\n"
     ]
    },
    {
     "name": "stdout",
     "output_type": "stream",
     "text": [
      "Graph named 'SteamGraph' with 14950 nodes and 70477 edges\n"
     ]
    }
   ],
   "source": [
    "\n",
    "G_adb = nxadb.Graph(name=\"SteamGraph\", db=db)\n",
    "\n",
    "print(G_adb)"
   ]
  },
  {
   "cell_type": "code",
   "execution_count": 7,
   "metadata": {},
   "outputs": [
    {
     "name": "stdout",
     "output_type": "stream",
     "text": [
      "{'_key': 'SteamGraph', '_id': '_graphs/SteamGraph', '_rev': '_jQxD32i---', 'edgeDefinitions': [{'collection': 'plays', 'from': ['Users'], 'to': ['Games']}], 'orphanCollections': [], 'networkx': {'name': 'SteamGraph'}}\n"
     ]
    }
   ],
   "source": [
    "graph_def = db.collection(\"_graphs\").get(\"SteamGraph\")\n",
    "print(graph_def)\n"
   ]
  },
  {
   "cell_type": "code",
   "execution_count": 8,
   "metadata": {},
   "outputs": [
    {
     "name": "stdout",
     "output_type": "stream",
     "text": [
      "Users/186055359 Users/186055359\n",
      "Games/13140_big_pharma Games/13140_big_pharma\n",
      "Games/12035_game_of_thrones_a_telltale_games_series Games/12035_game_of_thrones_a_telltale_games_series\n",
      "Users/27944300 Users/27944300\n",
      "Users/294391279 Users/294391279\n",
      "Users/149873773 Users/149873773\n",
      "Games/13957_make_it_indie Games/13957_make_it_indie\n",
      "Users/94670160 Users/94670160\n",
      "Users/179798677 Users/179798677\n",
      "Games/14464_narco_terror Games/14464_narco_terror\n"
     ]
    }
   ],
   "source": [
    "for node, data in list(G_adb.nodes(data=True))[:10]:\n",
    "    print(node, data.get(\"_id\"))\n"
   ]
  },
  {
   "cell_type": "code",
   "execution_count": 9,
   "metadata": {},
   "outputs": [
    {
     "name": "stdout",
     "output_type": "stream",
     "text": [
      "Graph named 'SteamGraph' with 14950 nodes and 70477 edges\n"
     ]
    }
   ],
   "source": [
    "print(G_adb)"
   ]
  },
  {
   "cell_type": "markdown",
   "metadata": {},
   "source": [
    "### AQL Test"
   ]
  },
  {
   "cell_type": "code",
   "execution_count": 10,
   "metadata": {},
   "outputs": [
    {
     "name": "stdout",
     "output_type": "stream",
     "text": [
      "Available collections:\n"
     ]
    },
    {
     "name": "stdout",
     "output_type": "stream",
     "text": [
      "_analyzers\n",
      "_queues\n",
      "_aqlfunctions\n",
      "Users\n",
      "_jobs\n",
      "Games\n",
      "_appbundles\n",
      "_graphs\n",
      "_apps\n",
      "plays\n",
      "_frontend\n",
      "\n",
      "Graph collections:\n",
      "[{'edge_collection': 'plays', 'from_vertex_collections': ['Users'], 'to_vertex_collections': ['Games']}]\n"
     ]
    }
   ],
   "source": [
    "# First, let's check what collections exist\n",
    "print(\"Available collections:\")\n",
    "for collection in db.collections():\n",
    "    print(collection['name'])\n",
    "\n",
    "# Get the graph to see its collections\n",
    "graph = db.graph('SteamGraph')\n",
    "print(\"\\nGraph collections:\")\n",
    "print(graph.edge_definitions())"
   ]
  },
  {
   "cell_type": "code",
   "execution_count": 11,
   "metadata": {},
   "outputs": [
    {
     "name": "stdout",
     "output_type": "stream",
     "text": [
      "Sample Users Nodes:\n",
      "{'_key': '245445357', '_id': 'Users/245445357', '_rev': '_jPaYbjG-_5', 'type': 'Users', 'steamid': 245445357}\n",
      "{'_key': '126340495', '_id': 'Users/126340495', '_rev': '_jPaYbhm--N', 'type': 'Users', 'steamid': 126340495}\n",
      "{'_key': '302378981', '_id': 'Users/302378981', '_rev': '_jPaYbjO-_U', 'type': 'Users', 'steamid': 302378981}\n",
      "----------\n",
      "Sample Plays Edges:\n",
      "{'_key': '58511', '_id': 'plays/58511', '_from': 'Users/81170946', '_to': 'Games/11465_dead_space', '_rev': '_jPaYiVe--h', 'weight': 0.5}\n",
      "{'_key': '46322', '_id': 'plays/46322', '_from': 'Users/10599862', '_to': 'Games/11504_borderlands_2', '_rev': '_jPaYhc---U', 'weight': 1}\n",
      "{'_key': '32166', '_id': 'plays/32166', '_from': 'Users/11794760', '_to': 'Games/12031_red_faction_guerrilla_steam_edition', '_rev': '_jPaYg1e--M', 'weight': 0.2}\n",
      "----------\n"
     ]
    }
   ],
   "source": [
    "\n",
    "\n",
    "# -----------------------------------------------------------\n",
    "# 1. Query 3 random nodes from the Users collection.\n",
    "# -----------------------------------------------------------\n",
    "result_cursor = G_adb.query(\"\"\"\n",
    "    FOR node IN Users\n",
    "        SORT RAND()\n",
    "        LIMIT 3\n",
    "        RETURN node\n",
    "\"\"\")\n",
    "print(\"Sample Users Nodes:\")\n",
    "for node in result_cursor:\n",
    "    print(node)\n",
    "print('-'*10)\n",
    "\n",
    "# -----------------------------------------------------------\n",
    "# 2. Query 3 random edges from the plays edge collection.\n",
    "# -----------------------------------------------------------\n",
    "result_cursor = G_adb.query(\"\"\"\n",
    "    FOR edge IN plays\n",
    "        SORT RAND()\n",
    "        LIMIT 3\n",
    "        RETURN edge\n",
    "\"\"\")\n",
    "print(\"Sample Plays Edges:\")\n",
    "for edge in result_cursor:\n",
    "    print(edge)\n",
    "print('-'*10)\n"
   ]
  },
  {
   "cell_type": "markdown",
   "metadata": {},
   "source": [
    "### Agent"
   ]
  },
  {
   "cell_type": "code",
   "execution_count": 12,
   "metadata": {},
   "outputs": [],
   "source": [
    "arango_graph = ArangoGraph(db)\n"
   ]
  },
  {
   "cell_type": "code",
   "execution_count": 13,
   "metadata": {},
   "outputs": [
    {
     "name": "stdout",
     "output_type": "stream",
     "text": [
      "{'Collection Schema': [{'collection_name': 'Users',\n",
      "                        'collection_type': 'document',\n",
      "                        'document_properties': [{'name': '_key', 'type': 'str'},\n",
      "                                                {'name': '_id', 'type': 'str'},\n",
      "                                                {'name': '_rev', 'type': 'str'},\n",
      "                                                {'name': 'type', 'type': 'str'},\n",
      "                                                {'name': 'steamid',\n",
      "                                                 'type': 'int'}],\n",
      "                        'example_document': {'_id': 'Users/151603712',\n",
      "                                             '_key': '151603712',\n",
      "                                             '_rev': '_jPaYbhm---',\n",
      "                                             'steamid': 151603712,\n",
      "                                             'type': 'Users'}},\n",
      "                       {'collection_name': 'Games',\n",
      "                        'collection_type': 'document',\n",
      "                        'document_properties': [{'name': '_key', 'type': 'str'},\n",
      "                                                {'name': '_id', 'type': 'str'},\n",
      "                                                {'name': '_rev', 'type': 'str'},\n",
      "                                                {'name': 'type', 'type': 'str'},\n",
      "                                                {'name': 'GameName',\n",
      "                                                 'type': 'str'}],\n",
      "                        'example_document': {'GameName': 'The Elder Scrolls V '\n",
      "                                                         'Skyrim',\n",
      "                                             '_id': 'Games/11350_the_elder_scrolls_v_skyrim',\n",
      "                                             '_key': '11350_the_elder_scrolls_v_skyrim',\n",
      "                                             '_rev': '_jPaYcPm---',\n",
      "                                             'type': 'Games'}},\n",
      "                       {'collection_name': 'plays',\n",
      "                        'collection_type': 'edge',\n",
      "                        'edge_properties': [{'name': '_key', 'type': 'str'},\n",
      "                                            {'name': '_id', 'type': 'str'},\n",
      "                                            {'name': '_from', 'type': 'str'},\n",
      "                                            {'name': '_to', 'type': 'str'},\n",
      "                                            {'name': '_rev', 'type': 'str'},\n",
      "                                            {'name': 'weight', 'type': 'int'}],\n",
      "                        'example_edge': {'_from': 'Users/151603712',\n",
      "                                         '_id': 'plays/0',\n",
      "                                         '_key': '0',\n",
      "                                         '_rev': '_jPaYfL2---',\n",
      "                                         '_to': 'Games/11350_the_elder_scrolls_v_skyrim',\n",
      "                                         'weight': 273}}],\n",
      " 'Graph Schema': [{'edge_definitions': [{'edge_collection': 'plays',\n",
      "                                         'from_vertex_collections': ['Users'],\n",
      "                                         'to_vertex_collections': ['Games']}],\n",
      "                   'graph_name': 'SteamGraph'}]}\n"
     ]
    }
   ],
   "source": [
    "# If the schema is exposed as an attribute\n",
    "graph_schema = arango_graph.schema\n",
    "pprint.pprint(graph_schema)\n"
   ]
  },
  {
   "cell_type": "code",
   "execution_count": 14,
   "metadata": {},
   "outputs": [
    {
     "name": "stdout",
     "output_type": "stream",
     "text": [
      "{'game': {'_key': '11371_dota_2', '_id': 'Games/11371_dota_2', '_rev': '_jPaYcPq--B', 'type': 'Games', 'GameName': 'Dota 2'}, 'playerCount': 4841}\n",
      "----------\n"
     ]
    }
   ],
   "source": [
    "result_cursor =  G_adb.query(\"\"\"\n",
    "WITH Games, plays\n",
    "FOR game IN Games \n",
    "  LET playerCount = (\n",
    "    FOR play IN plays \n",
    "    FILTER play._to == game._id \n",
    "    COLLECT WITH COUNT INTO length \n",
    "    RETURN length\n",
    "  )[0] \n",
    "  SORT playerCount DESC \n",
    "  LIMIT 1 \n",
    "  RETURN {game, playerCount: playerCount}\n",
    "\"\"\")\n",
    "\n",
    "for item in result_cursor:\n",
    "    print(item)\n",
    "print('-'*10)\n",
    "\n"
   ]
  },
  {
   "cell_type": "code",
   "execution_count": 15,
   "metadata": {},
   "outputs": [
    {
     "data": {
      "text/plain": [
       "<langchain_community.graphs.arangodb_graph.ArangoGraph at 0x7abb975d8910>"
      ]
     },
     "execution_count": 15,
     "metadata": {},
     "output_type": "execute_result"
    }
   ],
   "source": [
    "arango_graph"
   ]
  },
  {
   "cell_type": "code",
   "execution_count": 16,
   "metadata": {},
   "outputs": [
    {
     "name": "stderr",
     "output_type": "stream",
     "text": [
      "/home/manoj99/miniconda3/envs/Arrongo/lib/python3.10/site-packages/pydantic/_internal/_generate_schema.py:502: UserWarning: <built-in function any> is not a Python type (it may be an instance of an object), Pydantic will allow any object with no validation since we cannot even enforce that the input is an instance of the given type. To get rid of this error wrap the type with `pydantic.SkipValidation`.\n",
      "  warn(\n"
     ]
    },
    {
     "data": {
      "image/png": "[encoded data removed]",
      "text/plain": [
       "<IPython.core.display.Image object>"
      ]
     },
     "metadata": {},
     "output_type": "display_data"
    }
   ],
   "source": [
    "agent = GraphAgent(arango_graph, G_adb)\n"
   ]
  },
  {
   "cell_type": "code",
   "execution_count": 17,
   "metadata": {},
   "outputs": [],
   "source": [
    "# def create_gradio_interface(agent):\n",
    "#     def display_response(input_text):\n",
    "#         result = agent.query_graph(input_text)\n",
    "#         print(\"Inside interface\")\n",
    "#         print(result[\"html_code\"])\n",
    "#         return (\n",
    "#             result[\"html_code\"],\n",
    "#             result[\"reply\"]\n",
    "#         )\n",
    "    \n",
    "#     css = \"\"\"\n",
    "#         #visualization-container {\n",
    "#             width: 100%;\n",
    "#             margin: 0;\n",
    "#             padding: 0;\n",
    "#         }\n",
    "#         #visualization-container iframe {\n",
    "#             width: 100%;\n",
    "#             height: 600px;\n",
    "#             border: none;\n",
    "#         }\n",
    "#     \"\"\"\n",
    "    \n",
    "#     with gr.Blocks(css=css) as interface:\n",
    "#         gr.Markdown(\"# Graph Analysis Interface\")\n",
    "        \n",
    "#         with gr.Column():\n",
    "#             input_text = gr.Textbox(\n",
    "#                 label=\"Query\",\n",
    "#                 placeholder=\"Enter your graph query here...\",\n",
    "#                 lines=2\n",
    "#             )\n",
    "            \n",
    "#             submit_btn = gr.Button(\"Analyze\", variant=\"primary\")\n",
    "            \n",
    "#             html_output = gr.HTML(\n",
    "#                 label=\"Visualization\",\n",
    "#                 value=\"\",\n",
    "#                 elem_id=\"visualization-container\"\n",
    "#             )\n",
    "            \n",
    "#             text_output = gr.Textbox(\n",
    "#                 label=\"Analysis Result\", \n",
    "#                 lines=3\n",
    "#             )\n",
    "            \n",
    "#         submit_btn.click(\n",
    "#             fn=display_response,\n",
    "#             inputs=[input_text],\n",
    "#             outputs=[html_output, text_output]\n",
    "#         )\n",
    "    \n",
    "#     return interface"
   ]
  },
  {
   "cell_type": "code",
   "execution_count": 18,
   "metadata": {},
   "outputs": [],
   "source": [
    "def create_gradio_interface(agent):\n",
    "    # ... (keep get_sample_data and display_response functions the same)\n",
    "    def get_sample_data():\n",
    "        # Get sample user IDs\n",
    "        user_cursor = G_adb.query(\"\"\"\n",
    "        FOR user IN Users\n",
    "        SORT RAND()\n",
    "        LIMIT 3\n",
    "        RETURN user._id\n",
    "        \"\"\")\n",
    "        sample_users = [user for user in user_cursor]\n",
    "\n",
    "        # Get top games by player count\n",
    "        games_cursor = G_adb.query(\"\"\"\n",
    "        WITH Games, plays\n",
    "        FOR game IN Games\n",
    "        LET playerCount = (\n",
    "            FOR play IN plays \n",
    "            FILTER play._to == game._id \n",
    "            COLLECT WITH COUNT INTO length \n",
    "            RETURN length\n",
    "        )[0]\n",
    "        SORT playerCount DESC\n",
    "        LIMIT 5\n",
    "        RETURN game.GameName\n",
    "        \"\"\")\n",
    "        sample_games = [game for game in games_cursor]\n",
    "\n",
    "        return sample_users, sample_games\n",
    "\n",
    "    def display_response(input_text):\n",
    "        result = agent.query_graph(input_text)\n",
    "        print(\"Inside interface\")\n",
    "        print(result[\"html_code\"])\n",
    "        return (\n",
    "            result[\"html_code\"],\n",
    "            result[\"reply\"]\n",
    "        )\n",
    "    \n",
    "    # Get sample data from graph\n",
    "    sample_users, sample_games = get_sample_data()\n",
    "    css = \"\"\"\n",
    "        #visualization-container {\n",
    "            width: 100%;\n",
    "            margin: 0;\n",
    "            padding: 0;\n",
    "        }\n",
    "        #visualization-container iframe {\n",
    "            width: 100%;\n",
    "            height: 600px;\n",
    "            border: none;\n",
    "        }\n",
    "        .sample-panel {\n",
    "            background: #f5f5f5;\n",
    "            padding: 15px;\n",
    "            border-radius: 8px;\n",
    "            margin: 10px 0;\n",
    "            border: 1px solid #ddd;\n",
    "        }\n",
    "        .sample-panel h3 {\n",
    "            color: #000000;\n",
    "            margin-bottom: 10px;\n",
    "            font-weight: bold;\n",
    "        }\n",
    "        .sample-panel p {\n",
    "            color: #000000 !important;\n",
    "            margin: 5px 0;\n",
    "        }\n",
    "        /* Override any Gradio default text colors */\n",
    "        .sample-panel * {\n",
    "            color: #000000 !important;\n",
    "        }\n",
    "    \"\"\"\n",
    "    \n",
    "    with gr.Blocks(css=css) as interface:\n",
    "        gr.Markdown(\"# Graph Analysis Interface\")\n",
    "        \n",
    "        with gr.Row():\n",
    "            with gr.Column(scale=2):\n",
    "                input_text = gr.Textbox(\n",
    "                    label=\"Query\",\n",
    "                    placeholder=\"Enter your graph query here...\",\n",
    "                    lines=2\n",
    "                )\n",
    "                submit_btn = gr.Button(\"Analyze\", variant=\"primary\")\n",
    "            \n",
    "            # Sample IDs panel\n",
    "            with gr.Column(scale=1):\n",
    "                with gr.Column(elem_classes=[\"sample-panel\"]):\n",
    "                    # Format the sample data into markdown\n",
    "                    users_md = \"\\n\".join([f\"- {user}\" for user in sample_users])\n",
    "                    games_md = \"\\n\".join([f\"- {game}\" for game in sample_games])\n",
    "                    \n",
    "                    gr.Markdown(f\"\"\"\n",
    "### Sample User IDs\n",
    "{users_md}\n",
    "\n",
    "### Popular Games\n",
    "{games_md}\n",
    "                    \"\"\")\n",
    "        \n",
    "        with gr.Column():\n",
    "            html_output = gr.HTML(\n",
    "                label=\"Visualization\",\n",
    "                value=\"\",\n",
    "                elem_id=\"visualization-container\"\n",
    "            )\n",
    "            \n",
    "            text_output = gr.Textbox(\n",
    "                label=\"Analysis Result\", \n",
    "                lines=3\n",
    "            )\n",
    "            \n",
    "        submit_btn.click(\n",
    "            fn=display_response,\n",
    "            inputs=[input_text],\n",
    "            outputs=[html_output, text_output]\n",
    "        )\n",
    "    \n",
    "    return interface"
   ]
  },
  {
   "cell_type": "code",
   "execution_count": 19,
   "metadata": {},
   "outputs": [
    {
     "name": "stderr",
     "output_type": "stream",
     "text": [
      "[02:28:48 -0600] [INFO]: Graph 'SteamGraph' load took 2.8972837924957275s\n"
     ]
    }
   ],
   "source": [
    "# Assuming G_adb is already defined and is a NetworkX Graph object\n",
    "import networkx as nx\n",
    "\n",
    "# Calculate degree centrality for all nodes\n",
    "degree_centrality = nx.degree_centrality(G_adb)\n",
    "\n",
    "# Filter out the game nodes\n",
    "game_nodes = [node for node, data in G_adb.nodes(data=True) if data.get('type') == 'Games']\n",
    "\n",
    "# Get the game with the highest degree centrality\n",
    "most_influential_game = max(game_nodes, key=lambda node: degree_centrality.get(node, 0))\n",
    "\n",
    "# Retrieve the node data for the most influential game\n",
    "FINAL_RESULT = G_adb.nodes[most_influential_game]"
   ]
  },
  {
   "cell_type": "code",
   "execution_count": 20,
   "metadata": {},
   "outputs": [
    {
     "name": "stdout",
     "output_type": "stream",
     "text": [
      "{'GameName': 'Dota 2', '_id': 'Games/11371_dota_2', '_key': '11371_dota_2', 'type': 'Games'}\n"
     ]
    }
   ],
   "source": [
    "print(FINAL_RESULT)"
   ]
  },
  {
   "cell_type": "code",
   "execution_count": 21,
   "metadata": {},
   "outputs": [
    {
     "name": "stdout",
     "output_type": "stream",
     "text": [
      "* Running on local URL:  http://127.0.0.1:7860\n",
      "\n",
      "To create a public link, set `share=True` in `launch()`.\n"
     ]
    },
    {
     "data": {
      "text/html": [
       "<div><iframe src=\"http://127.0.0.1:7860/\" width=\"100%\" height=\"500\" allow=\"autoplay; camera; microphone; clipboard-read; clipboard-write;\" frameborder=\"0\" allowfullscreen></iframe></div>"
      ],
      "text/plain": [
       "<IPython.core.display.HTML object>"
      ]
     },
     "metadata": {},
     "output_type": "display_data"
    },
    {
     "data": {
      "text/plain": []
     },
     "execution_count": 21,
     "metadata": {},
     "output_type": "execute_result"
    },
    {
     "name": "stdout",
     "output_type": "stream",
     "text": [
      "\n",
      "Processing Agent State:\n",
      "{ 'data': [],\n",
      "  'iframe_html': '',\n",
      "  'messages': [ HumanMessage(content='Games played by 240429307', additional_kwargs={}, response_metadata={}, id='5eaf3e13-4d1b-42c5-b688-36c1f06c05ef')],\n",
      "  'user_query': 'Games played by 240429307'}\n",
      "\n",
      "Processing Agent State:\n",
      "{ 'data': [],\n",
      "  'iframe_html': '',\n",
      "  'messages': [ HumanMessage(content='Games played by 240429307', additional_kwargs={}, response_metadata={}, id='5eaf3e13-4d1b-42c5-b688-36c1f06c05ef'),\n",
      "                AIMessage(content=\"To find the games played by the user with the steam ID 240429307, we need to follow these steps:\\n\\n1. Retrieve the user node with the steam ID 240429307 from the 'Users' collection.\\n2. Use the 'plays' edge collection to find all games connected to this user.\\n3. Retrieve the game names from the 'Games' collection using the connections found in step 2.\\n\\nLet's start with step 1.\", additional_kwargs={'tool_calls': [{'id': 'call_AK4ub04Rbs47ABKpU6IGQZTn', 'function': {'arguments': '{\"collection\":\"Users\",\"node_id\":\"240429307\"}', 'name': 'get_node'}, 'type': 'function'}], 'refusal': None}, response_metadata={'token_usage': {'completion_tokens': 115, 'prompt_tokens': 884, 'total_tokens': 999, 'completion_tokens_details': {'accepted_prediction_tokens': 0, 'audio_tokens': 0, 'reasoning_tokens': 0, 'rejected_prediction_tokens': 0}, 'prompt_tokens_details': {'audio_tokens': 0, 'cached_tokens': 0}}, 'model_name': 'gpt-4o-2024-08-06', 'system_fingerprint': 'fp_eb9dce56a8', 'finish_reason': 'tool_calls', 'logprobs': None}, id='run-fbd4927e-1d43-4e9e-95e8-fbfb8fab7d52-0', tool_calls=[{'name': 'get_node', 'args': {'collection': 'Users', 'node_id': '240429307'}, 'id': 'call_AK4ub04Rbs47ABKpU6IGQZTn', 'type': 'tool_call'}], usage_metadata={'input_tokens': 884, 'output_tokens': 115, 'total_tokens': 999, 'input_token_details': {'audio': 0, 'cache_read': 0}, 'output_token_details': {'audio': 0, 'reasoning': 0}}),\n",
      "                ToolMessage(content='Node Users:240429307 not found in collection Users', name='get_node', id='f6d1a1fb-e9e2-46c7-82d8-ce76d7ad8cb8', tool_call_id='call_AK4ub04Rbs47ABKpU6IGQZTn')],\n",
      "  'user_query': 'Games played by 240429307'}\n",
      "Visualizer State:\n",
      "{ 'data': [],\n",
      "  'iframe_html': '',\n",
      "  'messages': [ HumanMessage(content='Games played by 240429307', additional_kwargs={}, response_metadata={}, id='5eaf3e13-4d1b-42c5-b688-36c1f06c05ef'),\n",
      "                AIMessage(content=\"To find the games played by the user with the steam ID 240429307, we need to follow these steps:\\n\\n1. Retrieve the user node with the steam ID 240429307 from the 'Users' collection.\\n2. Use the 'plays' edge collection to find all games connected to this user.\\n3. Retrieve the game names from the 'Games' collection using the connections found in step 2.\\n\\nLet's start with step 1.\", additional_kwargs={'tool_calls': [{'id': 'call_AK4ub04Rbs47ABKpU6IGQZTn', 'function': {'arguments': '{\"collection\":\"Users\",\"node_id\":\"240429307\"}', 'name': 'get_node'}, 'type': 'function'}], 'refusal': None}, response_metadata={'token_usage': {'completion_tokens': 115, 'prompt_tokens': 884, 'total_tokens': 999, 'completion_tokens_details': {'accepted_prediction_tokens': 0, 'audio_tokens': 0, 'reasoning_tokens': 0, 'rejected_prediction_tokens': 0}, 'prompt_tokens_details': {'audio_tokens': 0, 'cached_tokens': 0}}, 'model_name': 'gpt-4o-2024-08-06', 'system_fingerprint': 'fp_eb9dce56a8', 'finish_reason': 'tool_calls', 'logprobs': None}, id='run-fbd4927e-1d43-4e9e-95e8-fbfb8fab7d52-0', tool_calls=[{'name': 'get_node', 'args': {'collection': 'Users', 'node_id': '240429307'}, 'id': 'call_AK4ub04Rbs47ABKpU6IGQZTn', 'type': 'tool_call'}], usage_metadata={'input_tokens': 884, 'output_tokens': 115, 'total_tokens': 999, 'input_token_details': {'audio': 0, 'cache_read': 0}, 'output_token_details': {'audio': 0, 'reasoning': 0}}),\n",
      "                ToolMessage(content='Node Users:240429307 not found in collection Users', name='get_node', id='f6d1a1fb-e9e2-46c7-82d8-ce76d7ad8cb8', tool_call_id='call_AK4ub04Rbs47ABKpU6IGQZTn'),\n",
      "                AIMessage(content=\"It seems that the user with the steam ID 240429307 is not present in the 'Users' collection. This could mean that the data for this specific user is not available in the current dataset.\\n\\nIf you have any other queries or need further assistance, feel free to ask!\", additional_kwargs={'refusal': None}, response_metadata={'token_usage': {'completion_tokens': 59, 'prompt_tokens': 1019, 'total_tokens': 1078, 'completion_tokens_details': {'accepted_prediction_tokens': 0, 'audio_tokens': 0, 'reasoning_tokens': 0, 'rejected_prediction_tokens': 0}, 'prompt_tokens_details': {'audio_tokens': 0, 'cached_tokens': 0}}, 'model_name': 'gpt-4o-2024-08-06', 'system_fingerprint': 'fp_eb9dce56a8', 'finish_reason': 'stop', 'logprobs': None}, id='run-32614d6d-2b62-4889-a446-854f17224a05-0', usage_metadata={'input_tokens': 1019, 'output_tokens': 59, 'total_tokens': 1078, 'input_token_details': {'audio': 0, 'cache_read': 0}, 'output_token_details': {'audio': 0, 'reasoning': 0}})],\n",
      "  'user_query': 'Games played by 240429307'}\n",
      "Final Answer:\n",
      "{ 'data': [],\n",
      "  'iframe_html': '',\n",
      "  'messages': [ HumanMessage(content='Games played by 240429307', additional_kwargs={}, response_metadata={}, id='5eaf3e13-4d1b-42c5-b688-36c1f06c05ef'),\n",
      "                AIMessage(content=\"To find the games played by the user with the steam ID 240429307, we need to follow these steps:\\n\\n1. Retrieve the user node with the steam ID 240429307 from the 'Users' collection.\\n2. Use the 'plays' edge collection to find all games connected to this user.\\n3. Retrieve the game names from the 'Games' collection using the connections found in step 2.\\n\\nLet's start with step 1.\", additional_kwargs={'tool_calls': [{'id': 'call_AK4ub04Rbs47ABKpU6IGQZTn', 'function': {'arguments': '{\"collection\":\"Users\",\"node_id\":\"240429307\"}', 'name': 'get_node'}, 'type': 'function'}], 'refusal': None}, response_metadata={'token_usage': {'completion_tokens': 115, 'prompt_tokens': 884, 'total_tokens': 999, 'completion_tokens_details': {'accepted_prediction_tokens': 0, 'audio_tokens': 0, 'reasoning_tokens': 0, 'rejected_prediction_tokens': 0}, 'prompt_tokens_details': {'audio_tokens': 0, 'cached_tokens': 0}}, 'model_name': 'gpt-4o-2024-08-06', 'system_fingerprint': 'fp_eb9dce56a8', 'finish_reason': 'tool_calls', 'logprobs': None}, id='run-fbd4927e-1d43-4e9e-95e8-fbfb8fab7d52-0', tool_calls=[{'name': 'get_node', 'args': {'collection': 'Users', 'node_id': '240429307'}, 'id': 'call_AK4ub04Rbs47ABKpU6IGQZTn', 'type': 'tool_call'}], usage_metadata={'input_tokens': 884, 'output_tokens': 115, 'total_tokens': 999, 'input_token_details': {'audio': 0, 'cache_read': 0}, 'output_token_details': {'audio': 0, 'reasoning': 0}}),\n",
      "                ToolMessage(content='Node Users:240429307 not found in collection Users', name='get_node', id='f6d1a1fb-e9e2-46c7-82d8-ce76d7ad8cb8', tool_call_id='call_AK4ub04Rbs47ABKpU6IGQZTn'),\n",
      "                AIMessage(content=\"It seems that the user with the steam ID 240429307 is not present in the 'Users' collection. This could mean that the data for this specific user is not available in the current dataset.\\n\\nIf you have any other queries or need further assistance, feel free to ask!\", additional_kwargs={'refusal': None}, response_metadata={'token_usage': {'completion_tokens': 59, 'prompt_tokens': 1019, 'total_tokens': 1078, 'completion_tokens_details': {'accepted_prediction_tokens': 0, 'audio_tokens': 0, 'reasoning_tokens': 0, 'rejected_prediction_tokens': 0}, 'prompt_tokens_details': {'audio_tokens': 0, 'cached_tokens': 0}}, 'model_name': 'gpt-4o-2024-08-06', 'system_fingerprint': 'fp_eb9dce56a8', 'finish_reason': 'stop', 'logprobs': None}, id='run-32614d6d-2b62-4889-a446-854f17224a05-0', usage_metadata={'input_tokens': 1019, 'output_tokens': 59, 'total_tokens': 1078, 'input_token_details': {'audio': 0, 'cache_read': 0}, 'output_token_details': {'audio': 0, 'reasoning': 0}}),\n",
      "                AIMessage(content=\"It seems that the user with the steam ID 240429307 is not present in the 'Users' collection. This could mean that the data for this specific user is not available in the current dataset.\\n\\nIf you have any other queries or need further assistance, feel free to ask!\", additional_kwargs={'refusal': None}, response_metadata={'token_usage': {'completion_tokens': 59, 'prompt_tokens': 359, 'total_tokens': 418, 'completion_tokens_details': {'accepted_prediction_tokens': 0, 'audio_tokens': 0, 'reasoning_tokens': 0, 'rejected_prediction_tokens': 0}, 'prompt_tokens_details': {'audio_tokens': 0, 'cached_tokens': 0}}, 'model_name': 'gpt-4o-2024-08-06', 'system_fingerprint': 'fp_eb9dce56a8', 'finish_reason': 'stop', 'logprobs': None}, id='run-efef7a75-30f7-4c2f-a4cc-03960b642ad5-0', usage_metadata={'input_tokens': 359, 'output_tokens': 59, 'total_tokens': 418, 'input_token_details': {'audio': 0, 'cache_read': 0}, 'output_token_details': {'audio': 0, 'reasoning': 0}})],\n",
      "  'user_query': 'Games played by 240429307'}\n",
      "Inside interface\n",
      "\n",
      "\n",
      "Processing Agent State:\n",
      "{ 'data': [],\n",
      "  'iframe_html': '',\n",
      "  'messages': [ HumanMessage(content='Games played by 50426766', additional_kwargs={}, response_metadata={}, id='4eb494dc-798b-4c42-a7e8-10ab9ec95dbb')],\n",
      "  'user_query': 'Games played by 50426766'}\n",
      "\n",
      "Processing Agent State:\n",
      "{ 'data': [],\n",
      "  'iframe_html': '',\n",
      "  'messages': [ HumanMessage(content='Games played by 50426766', additional_kwargs={}, response_metadata={}, id='4eb494dc-798b-4c42-a7e8-10ab9ec95dbb'),\n",
      "                AIMessage(content=\"To find the games played by the user with the steam ID 50426766, we need to follow these steps:\\n\\n1. Retrieve the user node with the steam ID 50426766 from the 'Users' collection.\\n2. Use the 'plays' edge collection to find all games connected to this user.\\n3. Retrieve the game names from the 'Games' collection using the connections found in step 2.\\n\\nLet's start with step 1.\", additional_kwargs={'tool_calls': [{'id': 'call_v7y6BmHuD4r4O5yYEbJwVHao', 'function': {'arguments': '{\"collection\":\"Users\",\"node_id\":\"50426766\"}', 'name': 'get_node'}, 'type': 'function'}], 'refusal': None}, response_metadata={'token_usage': {'completion_tokens': 115, 'prompt_tokens': 884, 'total_tokens': 999, 'completion_tokens_details': {'accepted_prediction_tokens': 0, 'audio_tokens': 0, 'reasoning_tokens': 0, 'rejected_prediction_tokens': 0}, 'prompt_tokens_details': {'audio_tokens': 0, 'cached_tokens': 0}}, 'model_name': 'gpt-4o-2024-08-06', 'system_fingerprint': 'fp_eb9dce56a8', 'finish_reason': 'tool_calls', 'logprobs': None}, id='run-2c4be3df-2498-4751-a43f-4667d197e68c-0', tool_calls=[{'name': 'get_node', 'args': {'collection': 'Users', 'node_id': '50426766'}, 'id': 'call_v7y6BmHuD4r4O5yYEbJwVHao', 'type': 'tool_call'}], usage_metadata={'input_tokens': 884, 'output_tokens': 115, 'total_tokens': 999, 'input_token_details': {'audio': 0, 'cache_read': 0}, 'output_token_details': {'audio': 0, 'reasoning': 0}}),\n",
      "                ToolMessage(content='Node Users:50426766 not found in collection Users', name='get_node', id='ad780266-83ac-4f05-9f6c-7454784cdf4b', tool_call_id='call_v7y6BmHuD4r4O5yYEbJwVHao')],\n",
      "  'user_query': 'Games played by 50426766'}\n",
      "Visualizer State:\n",
      "{ 'data': [],\n",
      "  'iframe_html': '',\n",
      "  'messages': [ HumanMessage(content='Games played by 50426766', additional_kwargs={}, response_metadata={}, id='4eb494dc-798b-4c42-a7e8-10ab9ec95dbb'),\n",
      "                AIMessage(content=\"To find the games played by the user with the steam ID 50426766, we need to follow these steps:\\n\\n1. Retrieve the user node with the steam ID 50426766 from the 'Users' collection.\\n2. Use the 'plays' edge collection to find all games connected to this user.\\n3. Retrieve the game names from the 'Games' collection using the connections found in step 2.\\n\\nLet's start with step 1.\", additional_kwargs={'tool_calls': [{'id': 'call_v7y6BmHuD4r4O5yYEbJwVHao', 'function': {'arguments': '{\"collection\":\"Users\",\"node_id\":\"50426766\"}', 'name': 'get_node'}, 'type': 'function'}], 'refusal': None}, response_metadata={'token_usage': {'completion_tokens': 115, 'prompt_tokens': 884, 'total_tokens': 999, 'completion_tokens_details': {'accepted_prediction_tokens': 0, 'audio_tokens': 0, 'reasoning_tokens': 0, 'rejected_prediction_tokens': 0}, 'prompt_tokens_details': {'audio_tokens': 0, 'cached_tokens': 0}}, 'model_name': 'gpt-4o-2024-08-06', 'system_fingerprint': 'fp_eb9dce56a8', 'finish_reason': 'tool_calls', 'logprobs': None}, id='run-2c4be3df-2498-4751-a43f-4667d197e68c-0', tool_calls=[{'name': 'get_node', 'args': {'collection': 'Users', 'node_id': '50426766'}, 'id': 'call_v7y6BmHuD4r4O5yYEbJwVHao', 'type': 'tool_call'}], usage_metadata={'input_tokens': 884, 'output_tokens': 115, 'total_tokens': 999, 'input_token_details': {'audio': 0, 'cache_read': 0}, 'output_token_details': {'audio': 0, 'reasoning': 0}}),\n",
      "                ToolMessage(content='Node Users:50426766 not found in collection Users', name='get_node', id='ad780266-83ac-4f05-9f6c-7454784cdf4b', tool_call_id='call_v7y6BmHuD4r4O5yYEbJwVHao'),\n",
      "                AIMessage(content=\"It seems that the user with the steam ID 50426766 is not found in the 'Users' collection. This could mean that the user does not exist in the current dataset. \\n\\nIf you have any other queries or need further assistance, feel free to ask!\", additional_kwargs={'refusal': None}, response_metadata={'token_usage': {'completion_tokens': 56, 'prompt_tokens': 1019, 'total_tokens': 1075, 'completion_tokens_details': {'accepted_prediction_tokens': 0, 'audio_tokens': 0, 'reasoning_tokens': 0, 'rejected_prediction_tokens': 0}, 'prompt_tokens_details': {'audio_tokens': 0, 'cached_tokens': 0}}, 'model_name': 'gpt-4o-2024-08-06', 'system_fingerprint': 'fp_eb9dce56a8', 'finish_reason': 'stop', 'logprobs': None}, id='run-ac7b4558-8139-415b-bfde-27771d337e72-0', usage_metadata={'input_tokens': 1019, 'output_tokens': 56, 'total_tokens': 1075, 'input_token_details': {'audio': 0, 'cache_read': 0}, 'output_token_details': {'audio': 0, 'reasoning': 0}})],\n",
      "  'user_query': 'Games played by 50426766'}\n",
      "Final Answer:\n",
      "{ 'data': [],\n",
      "  'iframe_html': '',\n",
      "  'messages': [ HumanMessage(content='Games played by 50426766', additional_kwargs={}, response_metadata={}, id='4eb494dc-798b-4c42-a7e8-10ab9ec95dbb'),\n",
      "                AIMessage(content=\"To find the games played by the user with the steam ID 50426766, we need to follow these steps:\\n\\n1. Retrieve the user node with the steam ID 50426766 from the 'Users' collection.\\n2. Use the 'plays' edge collection to find all games connected to this user.\\n3. Retrieve the game names from the 'Games' collection using the connections found in step 2.\\n\\nLet's start with step 1.\", additional_kwargs={'tool_calls': [{'id': 'call_v7y6BmHuD4r4O5yYEbJwVHao', 'function': {'arguments': '{\"collection\":\"Users\",\"node_id\":\"50426766\"}', 'name': 'get_node'}, 'type': 'function'}], 'refusal': None}, response_metadata={'token_usage': {'completion_tokens': 115, 'prompt_tokens': 884, 'total_tokens': 999, 'completion_tokens_details': {'accepted_prediction_tokens': 0, 'audio_tokens': 0, 'reasoning_tokens': 0, 'rejected_prediction_tokens': 0}, 'prompt_tokens_details': {'audio_tokens': 0, 'cached_tokens': 0}}, 'model_name': 'gpt-4o-2024-08-06', 'system_fingerprint': 'fp_eb9dce56a8', 'finish_reason': 'tool_calls', 'logprobs': None}, id='run-2c4be3df-2498-4751-a43f-4667d197e68c-0', tool_calls=[{'name': 'get_node', 'args': {'collection': 'Users', 'node_id': '50426766'}, 'id': 'call_v7y6BmHuD4r4O5yYEbJwVHao', 'type': 'tool_call'}], usage_metadata={'input_tokens': 884, 'output_tokens': 115, 'total_tokens': 999, 'input_token_details': {'audio': 0, 'cache_read': 0}, 'output_token_details': {'audio': 0, 'reasoning': 0}}),\n",
      "                ToolMessage(content='Node Users:50426766 not found in collection Users', name='get_node', id='ad780266-83ac-4f05-9f6c-7454784cdf4b', tool_call_id='call_v7y6BmHuD4r4O5yYEbJwVHao'),\n",
      "                AIMessage(content=\"It seems that the user with the steam ID 50426766 is not found in the 'Users' collection. This could mean that the user does not exist in the current dataset. \\n\\nIf you have any other queries or need further assistance, feel free to ask!\", additional_kwargs={'refusal': None}, response_metadata={'token_usage': {'completion_tokens': 56, 'prompt_tokens': 1019, 'total_tokens': 1075, 'completion_tokens_details': {'accepted_prediction_tokens': 0, 'audio_tokens': 0, 'reasoning_tokens': 0, 'rejected_prediction_tokens': 0}, 'prompt_tokens_details': {'audio_tokens': 0, 'cached_tokens': 0}}, 'model_name': 'gpt-4o-2024-08-06', 'system_fingerprint': 'fp_eb9dce56a8', 'finish_reason': 'stop', 'logprobs': None}, id='run-ac7b4558-8139-415b-bfde-27771d337e72-0', usage_metadata={'input_tokens': 1019, 'output_tokens': 56, 'total_tokens': 1075, 'input_token_details': {'audio': 0, 'cache_read': 0}, 'output_token_details': {'audio': 0, 'reasoning': 0}}),\n",
      "                AIMessage(content=\"It seems that the user with the steam ID 50426766 is not found in the 'Users' collection. This could mean that the user does not exist in the current dataset. \\n\\nIf you have any other queries or need further assistance, feel free to ask!\", additional_kwargs={'refusal': None}, response_metadata={'token_usage': {'completion_tokens': 56, 'prompt_tokens': 356, 'total_tokens': 412, 'completion_tokens_details': {'accepted_prediction_tokens': 0, 'audio_tokens': 0, 'reasoning_tokens': 0, 'rejected_prediction_tokens': 0}, 'prompt_tokens_details': {'audio_tokens': 0, 'cached_tokens': 0}}, 'model_name': 'gpt-4o-2024-08-06', 'system_fingerprint': 'fp_eb9dce56a8', 'finish_reason': 'stop', 'logprobs': None}, id='run-d6623ac0-d479-4c36-803e-98844e740666-0', usage_metadata={'input_tokens': 356, 'output_tokens': 56, 'total_tokens': 412, 'input_token_details': {'audio': 0, 'cache_read': 0}, 'output_token_details': {'audio': 0, 'reasoning': 0}})],\n",
      "  'user_query': 'Games played by 50426766'}\n",
      "Inside interface\n",
      "\n",
      "\n",
      "Processing Agent State:\n",
      "{ 'data': [],\n",
      "  'iframe_html': '',\n",
      "  'messages': [ HumanMessage(content='rank of game Left 4 Dead 2', additional_kwargs={}, response_metadata={}, id='01edb27f-3e10-4458-98c0-fbd4deaa49c2')],\n",
      "  'user_query': 'rank of game Left 4 Dead 2'}\n",
      "\n",
      "Processing Agent State:\n",
      "{ 'data': [],\n",
      "  'iframe_html': '',\n",
      "  'messages': [ HumanMessage(content='rank of game Left 4 Dead 2', additional_kwargs={}, response_metadata={}, id='01edb27f-3e10-4458-98c0-fbd4deaa49c2'),\n",
      "                AIMessage(content='To determine the rank of the game \"Left 4 Dead 2,\" we need to follow these steps:\\n\\n1. **Identify the Game Node**: First, we need to find the node in the \"Games\" collection that corresponds to \"Left 4 Dead 2.\"\\n2. **Calculate the Rank**: Once we have the game node, we can calculate its rank based on the number of users who have played it. This can be done by counting the number of edges connected to this game node in the \"plays\" edge collection.\\n\\nLet\\'s start with the first step.\\n\\n### Step 1: Identify the Game Node\\nWe will retrieve the node for \"Left 4 Dead 2\" from the \"Games\" collection.', additional_kwargs={'tool_calls': [{'id': 'call_U0eoJkSUQDraGQM5xjy0H9Pl', 'function': {'arguments': '{\"collection\":\"Games\",\"node_id\":\"left_4_dead_2\"}', 'name': 'get_node'}, 'type': 'function'}], 'refusal': None}, response_metadata={'token_usage': {'completion_tokens': 175, 'prompt_tokens': 888, 'total_tokens': 1063, 'completion_tokens_details': {'accepted_prediction_tokens': 0, 'audio_tokens': 0, 'reasoning_tokens': 0, 'rejected_prediction_tokens': 0}, 'prompt_tokens_details': {'audio_tokens': 0, 'cached_tokens': 0}}, 'model_name': 'gpt-4o-2024-08-06', 'system_fingerprint': 'fp_eb9dce56a8', 'finish_reason': 'tool_calls', 'logprobs': None}, id='run-b05fdd41-d9a3-4dda-857c-74abb0e4f9ee-0', tool_calls=[{'name': 'get_node', 'args': {'collection': 'Games', 'node_id': 'left_4_dead_2'}, 'id': 'call_U0eoJkSUQDraGQM5xjy0H9Pl', 'type': 'tool_call'}], usage_metadata={'input_tokens': 888, 'output_tokens': 175, 'total_tokens': 1063, 'input_token_details': {'audio': 0, 'cache_read': 0}, 'output_token_details': {'audio': 0, 'reasoning': 0}}),\n",
      "                ToolMessage(content='Node Games:left_4_dead_2 not found in collection Games', name='get_node', id='4135c3c3-5099-4c38-b992-ce53baa73326', tool_call_id='call_U0eoJkSUQDraGQM5xjy0H9Pl')],\n",
      "  'user_query': 'rank of game Left 4 Dead 2'}\n",
      "\n",
      "\n",
      "\u001b[1m> Entering new ArangoGraphQAChain chain...\u001b[0m\n",
      "AQL Query (1):\u001b[32;1m\u001b[1;3m\n",
      "WITH Games\n",
      "FOR game IN Games\n",
      "FILTER game.GameName == 'Left 4 Dead 2'\n",
      "RETURN game\n",
      "\u001b[0m\n",
      "AQL Result:\n",
      "\u001b[32;1m\u001b[1;3m[{'_key': '11354_left_4_dead_2', '_id': 'Games/11354_left_4_dead_2', '_rev': '_jPaYcPm--C', 'type': 'Games', 'GameName': 'Left 4 Dead 2'}]\u001b[0m\n",
      "\n",
      "\u001b[1m> Finished chain.\u001b[0m\n",
      "print AQL tool result\n",
      "{'query': \"FOR game IN Games FILTER game.GameName == 'Left 4 Dead 2' RETURN game \\n  Important: if returning a node always return the node object with all the properties\", 'result': 'The game \"Left 4 Dead 2\" is present in the database. It is identified by the key \"11354_left_4_dead_2\" and is categorized under the type \"Games\".', 'aql_query': \"\\nWITH Games\\nFOR game IN Games\\nFILTER game.GameName == 'Left 4 Dead 2'\\nRETURN game\\n\", 'aql_result': [{'_key': '11354_left_4_dead_2', '_id': 'Games/11354_left_4_dead_2', '_rev': '_jPaYcPm--C', 'type': 'Games', 'GameName': 'Left 4 Dead 2'}]}\n",
      "\n",
      "Processing Agent State:\n",
      "{ 'data': [ { 'left_4_dead_2_game': [ { 'GameName': 'Left 4 Dead 2',\n",
      "                                        '_id': 'Games/11354_left_4_dead_2',\n",
      "                                        '_key': '11354_left_4_dead_2',\n",
      "                                        '_rev': '_jPaYcPm--C',\n",
      "                                        'type': 'Games'}]}],\n",
      "  'iframe_html': '',\n",
      "  'messages': [ HumanMessage(content='rank of game Left 4 Dead 2', additional_kwargs={}, response_metadata={}, id='01edb27f-3e10-4458-98c0-fbd4deaa49c2'),\n",
      "                AIMessage(content='To determine the rank of the game \"Left 4 Dead 2,\" we need to follow these steps:\\n\\n1. **Identify the Game Node**: First, we need to find the node in the \"Games\" collection that corresponds to \"Left 4 Dead 2.\"\\n2. **Calculate the Rank**: Once we have the game node, we can calculate its rank based on the number of users who have played it. This can be done by counting the number of edges connected to this game node in the \"plays\" edge collection.\\n\\nLet\\'s start with the first step.\\n\\n### Step 1: Identify the Game Node\\nWe will retrieve the node for \"Left 4 Dead 2\" from the \"Games\" collection.', additional_kwargs={'tool_calls': [{'id': 'call_U0eoJkSUQDraGQM5xjy0H9Pl', 'function': {'arguments': '{\"collection\":\"Games\",\"node_id\":\"left_4_dead_2\"}', 'name': 'get_node'}, 'type': 'function'}], 'refusal': None}, response_metadata={'token_usage': {'completion_tokens': 175, 'prompt_tokens': 888, 'total_tokens': 1063, 'completion_tokens_details': {'accepted_prediction_tokens': 0, 'audio_tokens': 0, 'reasoning_tokens': 0, 'rejected_prediction_tokens': 0}, 'prompt_tokens_details': {'audio_tokens': 0, 'cached_tokens': 0}}, 'model_name': 'gpt-4o-2024-08-06', 'system_fingerprint': 'fp_eb9dce56a8', 'finish_reason': 'tool_calls', 'logprobs': None}, id='run-b05fdd41-d9a3-4dda-857c-74abb0e4f9ee-0', tool_calls=[{'name': 'get_node', 'args': {'collection': 'Games', 'node_id': 'left_4_dead_2'}, 'id': 'call_U0eoJkSUQDraGQM5xjy0H9Pl', 'type': 'tool_call'}], usage_metadata={'input_tokens': 888, 'output_tokens': 175, 'total_tokens': 1063, 'input_token_details': {'audio': 0, 'cache_read': 0}, 'output_token_details': {'audio': 0, 'reasoning': 0}}),\n",
      "                ToolMessage(content='Node Games:left_4_dead_2 not found in collection Games', name='get_node', id='4135c3c3-5099-4c38-b992-ce53baa73326', tool_call_id='call_U0eoJkSUQDraGQM5xjy0H9Pl'),\n",
      "                AIMessage(content='It seems that the node for \"Left 4 Dead 2\" is not directly found using the ID \"left_4_dead_2\". We need to find the correct ID for this game in the \"Games\" collection.\\n\\n### Step 1 (Revised): Find the Correct Game ID\\nWe will search for the game \"Left 4 Dead 2\" by its name in the \"Games\" collection to get the correct ID.', additional_kwargs={'tool_calls': [{'id': 'call_ohG6uorK35xtJbFoX6XhqZTa', 'function': {'arguments': '{\"query\":\"FOR game IN Games FILTER game.GameName == \\'Left 4 Dead 2\\' RETURN game\",\"name\":\"left_4_dead_2_game\"}', 'name': 'AQL_QueryWrapper'}, 'type': 'function'}], 'refusal': None}, response_metadata={'token_usage': {'completion_tokens': 136, 'prompt_tokens': 1085, 'total_tokens': 1221, 'completion_tokens_details': {'accepted_prediction_tokens': 0, 'audio_tokens': 0, 'reasoning_tokens': 0, 'rejected_prediction_tokens': 0}, 'prompt_tokens_details': {'audio_tokens': 0, 'cached_tokens': 1024}}, 'model_name': 'gpt-4o-2024-08-06', 'system_fingerprint': 'fp_eb9dce56a8', 'finish_reason': 'tool_calls', 'logprobs': None}, id='run-d6d3727e-4b4b-4652-a815-e0c95327d65c-0', tool_calls=[{'name': 'AQL_QueryWrapper', 'args': {'query': \"FOR game IN Games FILTER game.GameName == 'Left 4 Dead 2' RETURN game\", 'name': 'left_4_dead_2_game'}, 'id': 'call_ohG6uorK35xtJbFoX6XhqZTa', 'type': 'tool_call'}], usage_metadata={'input_tokens': 1085, 'output_tokens': 136, 'total_tokens': 1221, 'input_token_details': {'audio': 0, 'cache_read': 1024}, 'output_token_details': {'audio': 0, 'reasoning': 0}}),\n",
      "                ToolMessage(content='The game \"Left 4 Dead 2\" is present in the database. It is identified by the key \"11354_left_4_dead_2\" and is categorized under the type \"Games\".', name='AQL_QueryWrapper', id='bf892eab-15ae-4cbb-a454-6b435c94dbfd', tool_call_id='call_ohG6uorK35xtJbFoX6XhqZTa')],\n",
      "  'user_query': 'rank of game Left 4 Dead 2'}\n",
      "\n",
      "\n",
      "\u001b[1m> Entering new ArangoGraphQAChain chain...\u001b[0m\n",
      "AQL Query (1):\u001b[32;1m\u001b[1;3m\n",
      "WITH plays\n",
      "FOR play IN plays\n",
      "FILTER play._to == 'Games/11354_left_4_dead_2'\n",
      "COLLECT WITH COUNT INTO length\n",
      "RETURN length\n",
      "\u001b[0m\n",
      "AQL Result:\n",
      "\u001b[32;1m\u001b[1;3m[801]\u001b[0m\n",
      "\n",
      "\u001b[1m> Finished chain.\u001b[0m\n",
      "print AQL tool result\n",
      "{'query': \"FOR play IN plays FILTER play._to == 'Games/11354_left_4_dead_2' COLLECT WITH COUNT INTO length RETURN length \\n  Important: if returning a node always return the node object with all the properties\", 'result': 'Summary:\\n\\nThe query has determined that there are 801 instances of the game \"Left 4 Dead 2\" being played, as recorded in the database.', 'aql_query': \"\\nWITH plays\\nFOR play IN plays\\nFILTER play._to == 'Games/11354_left_4_dead_2'\\nCOLLECT WITH COUNT INTO length\\nRETURN length\\n\", 'aql_result': [801]}\n",
      "\n",
      "Processing Agent State:\n",
      "{ 'data': [ { 'left_4_dead_2_game': [ { 'GameName': 'Left 4 Dead 2',\n",
      "                                        '_id': 'Games/11354_left_4_dead_2',\n",
      "                                        '_key': '11354_left_4_dead_2',\n",
      "                                        '_rev': '_jPaYcPm--C',\n",
      "                                        'type': 'Games'}]},\n",
      "            {'left_4_dead_2_rank': [801]}],\n",
      "  'iframe_html': '',\n",
      "  'messages': [ HumanMessage(content='rank of game Left 4 Dead 2', additional_kwargs={}, response_metadata={}, id='01edb27f-3e10-4458-98c0-fbd4deaa49c2'),\n",
      "                AIMessage(content='To determine the rank of the game \"Left 4 Dead 2,\" we need to follow these steps:\\n\\n1. **Identify the Game Node**: First, we need to find the node in the \"Games\" collection that corresponds to \"Left 4 Dead 2.\"\\n2. **Calculate the Rank**: Once we have the game node, we can calculate its rank based on the number of users who have played it. This can be done by counting the number of edges connected to this game node in the \"plays\" edge collection.\\n\\nLet\\'s start with the first step.\\n\\n### Step 1: Identify the Game Node\\nWe will retrieve the node for \"Left 4 Dead 2\" from the \"Games\" collection.', additional_kwargs={'tool_calls': [{'id': 'call_U0eoJkSUQDraGQM5xjy0H9Pl', 'function': {'arguments': '{\"collection\":\"Games\",\"node_id\":\"left_4_dead_2\"}', 'name': 'get_node'}, 'type': 'function'}], 'refusal': None}, response_metadata={'token_usage': {'completion_tokens': 175, 'prompt_tokens': 888, 'total_tokens': 1063, 'completion_tokens_details': {'accepted_prediction_tokens': 0, 'audio_tokens': 0, 'reasoning_tokens': 0, 'rejected_prediction_tokens': 0}, 'prompt_tokens_details': {'audio_tokens': 0, 'cached_tokens': 0}}, 'model_name': 'gpt-4o-2024-08-06', 'system_fingerprint': 'fp_eb9dce56a8', 'finish_reason': 'tool_calls', 'logprobs': None}, id='run-b05fdd41-d9a3-4dda-857c-74abb0e4f9ee-0', tool_calls=[{'name': 'get_node', 'args': {'collection': 'Games', 'node_id': 'left_4_dead_2'}, 'id': 'call_U0eoJkSUQDraGQM5xjy0H9Pl', 'type': 'tool_call'}], usage_metadata={'input_tokens': 888, 'output_tokens': 175, 'total_tokens': 1063, 'input_token_details': {'audio': 0, 'cache_read': 0}, 'output_token_details': {'audio': 0, 'reasoning': 0}}),\n",
      "                ToolMessage(content='Node Games:left_4_dead_2 not found in collection Games', name='get_node', id='4135c3c3-5099-4c38-b992-ce53baa73326', tool_call_id='call_U0eoJkSUQDraGQM5xjy0H9Pl'),\n",
      "                AIMessage(content='It seems that the node for \"Left 4 Dead 2\" is not directly found using the ID \"left_4_dead_2\". We need to find the correct ID for this game in the \"Games\" collection.\\n\\n### Step 1 (Revised): Find the Correct Game ID\\nWe will search for the game \"Left 4 Dead 2\" by its name in the \"Games\" collection to get the correct ID.', additional_kwargs={'tool_calls': [{'id': 'call_ohG6uorK35xtJbFoX6XhqZTa', 'function': {'arguments': '{\"query\":\"FOR game IN Games FILTER game.GameName == \\'Left 4 Dead 2\\' RETURN game\",\"name\":\"left_4_dead_2_game\"}', 'name': 'AQL_QueryWrapper'}, 'type': 'function'}], 'refusal': None}, response_metadata={'token_usage': {'completion_tokens': 136, 'prompt_tokens': 1085, 'total_tokens': 1221, 'completion_tokens_details': {'accepted_prediction_tokens': 0, 'audio_tokens': 0, 'reasoning_tokens': 0, 'rejected_prediction_tokens': 0}, 'prompt_tokens_details': {'audio_tokens': 0, 'cached_tokens': 1024}}, 'model_name': 'gpt-4o-2024-08-06', 'system_fingerprint': 'fp_eb9dce56a8', 'finish_reason': 'tool_calls', 'logprobs': None}, id='run-d6d3727e-4b4b-4652-a815-e0c95327d65c-0', tool_calls=[{'name': 'AQL_QueryWrapper', 'args': {'query': \"FOR game IN Games FILTER game.GameName == 'Left 4 Dead 2' RETURN game\", 'name': 'left_4_dead_2_game'}, 'id': 'call_ohG6uorK35xtJbFoX6XhqZTa', 'type': 'tool_call'}], usage_metadata={'input_tokens': 1085, 'output_tokens': 136, 'total_tokens': 1221, 'input_token_details': {'audio': 0, 'cache_read': 1024}, 'output_token_details': {'audio': 0, 'reasoning': 0}}),\n",
      "                ToolMessage(content='The game \"Left 4 Dead 2\" is present in the database. It is identified by the key \"11354_left_4_dead_2\" and is categorized under the type \"Games\".', name='AQL_QueryWrapper', id='bf892eab-15ae-4cbb-a454-6b435c94dbfd', tool_call_id='call_ohG6uorK35xtJbFoX6XhqZTa'),\n",
      "                AIMessage(content='We have successfully identified the game \"Left 4 Dead 2\" with the key \"11354_left_4_dead_2\" in the \"Games\" collection.\\n\\n### Step 2: Calculate the Rank\\nNow, we will calculate the rank of \"Left 4 Dead 2\" by counting the number of users who have played it. This involves counting the number of edges in the \"plays\" collection that point to this game node.\\n\\nLet\\'s proceed with this step.', additional_kwargs={'tool_calls': [{'id': 'call_ovZ7PskgnFz5pYuSd9rNvngM', 'function': {'arguments': '{\"query\":\"FOR play IN plays FILTER play._to == \\'Games/11354_left_4_dead_2\\' COLLECT WITH COUNT INTO length RETURN length\",\"name\":\"left_4_dead_2_rank\"}', 'name': 'AQL_QueryWrapper'}, 'type': 'function'}], 'refusal': None}, response_metadata={'token_usage': {'completion_tokens': 153, 'prompt_tokens': 1342, 'total_tokens': 1495, 'completion_tokens_details': {'accepted_prediction_tokens': 0, 'audio_tokens': 0, 'reasoning_tokens': 0, 'rejected_prediction_tokens': 0}, 'prompt_tokens_details': {'audio_tokens': 0, 'cached_tokens': 0}}, 'model_name': 'gpt-4o-2024-08-06', 'system_fingerprint': 'fp_eb9dce56a8', 'finish_reason': 'tool_calls', 'logprobs': None}, id='run-33129a53-9f8d-498e-8eaa-51b13c4aa904-0', tool_calls=[{'name': 'AQL_QueryWrapper', 'args': {'query': \"FOR play IN plays FILTER play._to == 'Games/11354_left_4_dead_2' COLLECT WITH COUNT INTO length RETURN length\", 'name': 'left_4_dead_2_rank'}, 'id': 'call_ovZ7PskgnFz5pYuSd9rNvngM', 'type': 'tool_call'}], usage_metadata={'input_tokens': 1342, 'output_tokens': 153, 'total_tokens': 1495, 'input_token_details': {'audio': 0, 'cache_read': 0}, 'output_token_details': {'audio': 0, 'reasoning': 0}}),\n",
      "                ToolMessage(content='Summary:\\n\\nThe query has determined that there are 801 instances of the game \"Left 4 Dead 2\" being played, as recorded in the database.', name='AQL_QueryWrapper', id='5d362878-f72c-4299-9947-85d8e8f3bc20', tool_call_id='call_ovZ7PskgnFz5pYuSd9rNvngM')],\n",
      "  'user_query': 'rank of game Left 4 Dead 2'}\n",
      "Visualizer State:\n",
      "{ 'data': [ { 'left_4_dead_2_game': [ { 'GameName': 'Left 4 Dead 2',\n",
      "                                        '_id': 'Games/11354_left_4_dead_2',\n",
      "                                        '_key': '11354_left_4_dead_2',\n",
      "                                        '_rev': '_jPaYcPm--C',\n",
      "                                        'type': 'Games'}]},\n",
      "            {'left_4_dead_2_rank': [801]}],\n",
      "  'iframe_html': '',\n",
      "  'messages': [ HumanMessage(content='rank of game Left 4 Dead 2', additional_kwargs={}, response_metadata={}, id='01edb27f-3e10-4458-98c0-fbd4deaa49c2'),\n",
      "                AIMessage(content='To determine the rank of the game \"Left 4 Dead 2,\" we need to follow these steps:\\n\\n1. **Identify the Game Node**: First, we need to find the node in the \"Games\" collection that corresponds to \"Left 4 Dead 2.\"\\n2. **Calculate the Rank**: Once we have the game node, we can calculate its rank based on the number of users who have played it. This can be done by counting the number of edges connected to this game node in the \"plays\" edge collection.\\n\\nLet\\'s start with the first step.\\n\\n### Step 1: Identify the Game Node\\nWe will retrieve the node for \"Left 4 Dead 2\" from the \"Games\" collection.', additional_kwargs={'tool_calls': [{'id': 'call_U0eoJkSUQDraGQM5xjy0H9Pl', 'function': {'arguments': '{\"collection\":\"Games\",\"node_id\":\"left_4_dead_2\"}', 'name': 'get_node'}, 'type': 'function'}], 'refusal': None}, response_metadata={'token_usage': {'completion_tokens': 175, 'prompt_tokens': 888, 'total_tokens': 1063, 'completion_tokens_details': {'accepted_prediction_tokens': 0, 'audio_tokens': 0, 'reasoning_tokens': 0, 'rejected_prediction_tokens': 0}, 'prompt_tokens_details': {'audio_tokens': 0, 'cached_tokens': 0}}, 'model_name': 'gpt-4o-2024-08-06', 'system_fingerprint': 'fp_eb9dce56a8', 'finish_reason': 'tool_calls', 'logprobs': None}, id='run-b05fdd41-d9a3-4dda-857c-74abb0e4f9ee-0', tool_calls=[{'name': 'get_node', 'args': {'collection': 'Games', 'node_id': 'left_4_dead_2'}, 'id': 'call_U0eoJkSUQDraGQM5xjy0H9Pl', 'type': 'tool_call'}], usage_metadata={'input_tokens': 888, 'output_tokens': 175, 'total_tokens': 1063, 'input_token_details': {'audio': 0, 'cache_read': 0}, 'output_token_details': {'audio': 0, 'reasoning': 0}}),\n",
      "                ToolMessage(content='Node Games:left_4_dead_2 not found in collection Games', name='get_node', id='4135c3c3-5099-4c38-b992-ce53baa73326', tool_call_id='call_U0eoJkSUQDraGQM5xjy0H9Pl'),\n",
      "                AIMessage(content='It seems that the node for \"Left 4 Dead 2\" is not directly found using the ID \"left_4_dead_2\". We need to find the correct ID for this game in the \"Games\" collection.\\n\\n### Step 1 (Revised): Find the Correct Game ID\\nWe will search for the game \"Left 4 Dead 2\" by its name in the \"Games\" collection to get the correct ID.', additional_kwargs={'tool_calls': [{'id': 'call_ohG6uorK35xtJbFoX6XhqZTa', 'function': {'arguments': '{\"query\":\"FOR game IN Games FILTER game.GameName == \\'Left 4 Dead 2\\' RETURN game\",\"name\":\"left_4_dead_2_game\"}', 'name': 'AQL_QueryWrapper'}, 'type': 'function'}], 'refusal': None}, response_metadata={'token_usage': {'completion_tokens': 136, 'prompt_tokens': 1085, 'total_tokens': 1221, 'completion_tokens_details': {'accepted_prediction_tokens': 0, 'audio_tokens': 0, 'reasoning_tokens': 0, 'rejected_prediction_tokens': 0}, 'prompt_tokens_details': {'audio_tokens': 0, 'cached_tokens': 1024}}, 'model_name': 'gpt-4o-2024-08-06', 'system_fingerprint': 'fp_eb9dce56a8', 'finish_reason': 'tool_calls', 'logprobs': None}, id='run-d6d3727e-4b4b-4652-a815-e0c95327d65c-0', tool_calls=[{'name': 'AQL_QueryWrapper', 'args': {'query': \"FOR game IN Games FILTER game.GameName == 'Left 4 Dead 2' RETURN game\", 'name': 'left_4_dead_2_game'}, 'id': 'call_ohG6uorK35xtJbFoX6XhqZTa', 'type': 'tool_call'}], usage_metadata={'input_tokens': 1085, 'output_tokens': 136, 'total_tokens': 1221, 'input_token_details': {'audio': 0, 'cache_read': 1024}, 'output_token_details': {'audio': 0, 'reasoning': 0}}),\n",
      "                ToolMessage(content='The game \"Left 4 Dead 2\" is present in the database. It is identified by the key \"11354_left_4_dead_2\" and is categorized under the type \"Games\".', name='AQL_QueryWrapper', id='bf892eab-15ae-4cbb-a454-6b435c94dbfd', tool_call_id='call_ohG6uorK35xtJbFoX6XhqZTa'),\n",
      "                AIMessage(content='We have successfully identified the game \"Left 4 Dead 2\" with the key \"11354_left_4_dead_2\" in the \"Games\" collection.\\n\\n### Step 2: Calculate the Rank\\nNow, we will calculate the rank of \"Left 4 Dead 2\" by counting the number of users who have played it. This involves counting the number of edges in the \"plays\" collection that point to this game node.\\n\\nLet\\'s proceed with this step.', additional_kwargs={'tool_calls': [{'id': 'call_ovZ7PskgnFz5pYuSd9rNvngM', 'function': {'arguments': '{\"query\":\"FOR play IN plays FILTER play._to == \\'Games/11354_left_4_dead_2\\' COLLECT WITH COUNT INTO length RETURN length\",\"name\":\"left_4_dead_2_rank\"}', 'name': 'AQL_QueryWrapper'}, 'type': 'function'}], 'refusal': None}, response_metadata={'token_usage': {'completion_tokens': 153, 'prompt_tokens': 1342, 'total_tokens': 1495, 'completion_tokens_details': {'accepted_prediction_tokens': 0, 'audio_tokens': 0, 'reasoning_tokens': 0, 'rejected_prediction_tokens': 0}, 'prompt_tokens_details': {'audio_tokens': 0, 'cached_tokens': 0}}, 'model_name': 'gpt-4o-2024-08-06', 'system_fingerprint': 'fp_eb9dce56a8', 'finish_reason': 'tool_calls', 'logprobs': None}, id='run-33129a53-9f8d-498e-8eaa-51b13c4aa904-0', tool_calls=[{'name': 'AQL_QueryWrapper', 'args': {'query': \"FOR play IN plays FILTER play._to == 'Games/11354_left_4_dead_2' COLLECT WITH COUNT INTO length RETURN length\", 'name': 'left_4_dead_2_rank'}, 'id': 'call_ovZ7PskgnFz5pYuSd9rNvngM', 'type': 'tool_call'}], usage_metadata={'input_tokens': 1342, 'output_tokens': 153, 'total_tokens': 1495, 'input_token_details': {'audio': 0, 'cache_read': 0}, 'output_token_details': {'audio': 0, 'reasoning': 0}}),\n",
      "                ToolMessage(content='Summary:\\n\\nThe query has determined that there are 801 instances of the game \"Left 4 Dead 2\" being played, as recorded in the database.', name='AQL_QueryWrapper', id='5d362878-f72c-4299-9947-85d8e8f3bc20', tool_call_id='call_ovZ7PskgnFz5pYuSd9rNvngM'),\n",
      "                AIMessage(content='The game \"Left 4 Dead 2\" has been played by 801 users, which indicates its rank based on the number of players.', additional_kwargs={'refusal': None}, response_metadata={'token_usage': {'completion_tokens': 31, 'prompt_tokens': 1550, 'total_tokens': 1581, 'completion_tokens_details': {'accepted_prediction_tokens': 0, 'audio_tokens': 0, 'reasoning_tokens': 0, 'rejected_prediction_tokens': 0}, 'prompt_tokens_details': {'audio_tokens': 0, 'cached_tokens': 0}}, 'model_name': 'gpt-4o-2024-08-06', 'system_fingerprint': 'fp_eb9dce56a8', 'finish_reason': 'stop', 'logprobs': None}, id='run-0cf54612-2edb-48ed-a6a3-5d8da291e65c-0', usage_metadata={'input_tokens': 1550, 'output_tokens': 31, 'total_tokens': 1581, 'input_token_details': {'audio': 0, 'cache_read': 0}, 'output_token_details': {'audio': 0, 'reasoning': 0}})],\n",
      "  'user_query': 'rank of game Left 4 Dead 2'}\n",
      "Generating style and script code for visualization\n",
      "\n",
      "Generated Style and Script Code:\n",
      "==================================================\n",
      "==================================================\n",
      "\n",
      "Generated Style and Script Code:\n",
      "==================================================\n",
      "<!DOCTYPE html>\n",
      "            <html lang=\"en\">\n",
      "            <head>\n",
      "            <meta charset=\"UTF-8\">\n",
      "            <title>D3.js Visualization</title>\n",
      "            <script src=\"https://d3js.org/d3.v6.min.js\"></script>\n",
      "            <style>\n",
      "    .chart-container {\n",
      "        font-family: Arial, sans-serif;\n",
      "        margin: 20px;\n",
      "    }\n",
      "    .bar {\n",
      "        fill: #4CAF50;\n",
      "        transition: fill 0.3s;\n",
      "    }\n",
      "    .bar:hover {\n",
      "        fill: #45a049;\n",
      "    }\n",
      "    .label {\n",
      "        font-size: 14px;\n",
      "        fill: #333;\n",
      "    }\n",
      "    .title {\n",
      "        font-size: 16px;\n",
      "        font-weight: bold;\n",
      "        fill: #333;\n",
      "    }\n",
      "</style>\n",
      "\n",
      "<script>\n",
      "function initViz() {\n",
      "    // Set up dimensions\n",
      "    const width = 600;\n",
      "    const height = 400;\n",
      "    const margin = {top: 40, right: 20, bottom: 40, left: 60};\n",
      "\n",
      "    // Create SVG container\n",
      "    const svg = d3.select(\"#visualization\")\n",
      "        .append(\"svg\")\n",
      "        .attr(\"width\", width)\n",
      "        .attr(\"height\", height);\n",
      "\n",
      "    // Create visualization group with margins\n",
      "    const g = svg.append(\"g\")\n",
      "        .attr(\"transform\", `translate(${margin.left},${margin.top})`);\n",
      "\n",
      "    // Data\n",
      "    const rank = 801;\n",
      "    const maxRank = 1000; // Assuming a max rank for scale\n",
      "    \n",
      "    // Create scales\n",
      "    const x = d3.scaleLinear()\n",
      "        .domain([0, maxRank])\n",
      "        .range([0, width - margin.left - margin.right]);\n",
      "\n",
      "    // Create bar\n",
      "    g.append(\"rect\")\n",
      "        .attr(\"class\", \"bar\")\n",
      "        .attr(\"x\", 0)\n",
      "        .attr(\"y\", height/4)\n",
      "        .attr(\"width\", x(rank))\n",
      "        .attr(\"height\", 50);\n",
      "\n",
      "    // Add rank label\n",
      "    g.append(\"text\")\n",
      "        .attr(\"class\", \"label\")\n",
      "        .attr(\"x\", x(rank) + 5)\n",
      "        .attr(\"y\", height/4 + 30)\n",
      "        .text(`Rank: ${rank}`);\n",
      "\n",
      "    // Add title\n",
      "    svg.append(\"text\")\n",
      "        .attr(\"class\", \"title\")\n",
      "        .attr(\"x\", width/2)\n",
      "        .attr(\"y\", margin.top/2)\n",
      "        .attr(\"text-anchor\", \"middle\")\n",
      "        .text(\"Left 4 Dead 2 Player Rank\");\n",
      "\n",
      "    // Add x-axis\n",
      "    const xAxis = d3.axisBottom(x);\n",
      "    g.append(\"g\")\n",
      "        .attr(\"transform\", `translate(0,${height - margin.top - margin.bottom})`)\n",
      "        .call(xAxis);\n",
      "\n",
      "    // Add x-axis label\n",
      "    g.append(\"text\")\n",
      "        .attr(\"text-anchor\", \"middle\")\n",
      "        .attr(\"x\", (width - margin.left - margin.right)/2)\n",
      "        .attr(\"y\", height - margin.top)\n",
      "        .text(\"Rank Position\");\n",
      "}\n",
      "</script>\n",
      "            </head>\n",
      "            <body>\n",
      "            <div id=\"visualization\">\n",
      "            </div>\n",
      "            <script>\n",
      "                // Wait for DOM to be ready\n",
      "                document.addEventListener('DOMContentLoaded', function() {\n",
      "                    // Initialize D3 visualization after DOM is ready\n",
      "                    if (typeof initViz === 'function') {\n",
      "                        initViz();\n",
      "                    }\n",
      "                });\n",
      "            </script>\n",
      "            </body>\n",
      "            </html>\n",
      "==================================================\n",
      "Visualizer State:\n",
      "{ 'data': [ { 'left_4_dead_2_game': [ { 'GameName': 'Left 4 Dead 2',\n",
      "                                        '_id': 'Games/11354_left_4_dead_2',\n",
      "                                        '_key': '11354_left_4_dead_2',\n",
      "                                        '_rev': '_jPaYcPm--C',\n",
      "                                        'type': 'Games'}]},\n",
      "            {'left_4_dead_2_rank': [801]}],\n",
      "  'iframe_html': <gradio.components.html.HTML object at 0x7abb77418eb0>,\n",
      "  'messages': [ HumanMessage(content='rank of game Left 4 Dead 2', additional_kwargs={}, response_metadata={}, id='01edb27f-3e10-4458-98c0-fbd4deaa49c2'),\n",
      "                AIMessage(content='To determine the rank of the game \"Left 4 Dead 2,\" we need to follow these steps:\\n\\n1. **Identify the Game Node**: First, we need to find the node in the \"Games\" collection that corresponds to \"Left 4 Dead 2.\"\\n2. **Calculate the Rank**: Once we have the game node, we can calculate its rank based on the number of users who have played it. This can be done by counting the number of edges connected to this game node in the \"plays\" edge collection.\\n\\nLet\\'s start with the first step.\\n\\n### Step 1: Identify the Game Node\\nWe will retrieve the node for \"Left 4 Dead 2\" from the \"Games\" collection.', additional_kwargs={'tool_calls': [{'id': 'call_U0eoJkSUQDraGQM5xjy0H9Pl', 'function': {'arguments': '{\"collection\":\"Games\",\"node_id\":\"left_4_dead_2\"}', 'name': 'get_node'}, 'type': 'function'}], 'refusal': None}, response_metadata={'token_usage': {'completion_tokens': 175, 'prompt_tokens': 888, 'total_tokens': 1063, 'completion_tokens_details': {'accepted_prediction_tokens': 0, 'audio_tokens': 0, 'reasoning_tokens': 0, 'rejected_prediction_tokens': 0}, 'prompt_tokens_details': {'audio_tokens': 0, 'cached_tokens': 0}}, 'model_name': 'gpt-4o-2024-08-06', 'system_fingerprint': 'fp_eb9dce56a8', 'finish_reason': 'tool_calls', 'logprobs': None}, id='run-b05fdd41-d9a3-4dda-857c-74abb0e4f9ee-0', tool_calls=[{'name': 'get_node', 'args': {'collection': 'Games', 'node_id': 'left_4_dead_2'}, 'id': 'call_U0eoJkSUQDraGQM5xjy0H9Pl', 'type': 'tool_call'}], usage_metadata={'input_tokens': 888, 'output_tokens': 175, 'total_tokens': 1063, 'input_token_details': {'audio': 0, 'cache_read': 0}, 'output_token_details': {'audio': 0, 'reasoning': 0}}),\n",
      "                ToolMessage(content='Node Games:left_4_dead_2 not found in collection Games', name='get_node', id='4135c3c3-5099-4c38-b992-ce53baa73326', tool_call_id='call_U0eoJkSUQDraGQM5xjy0H9Pl'),\n",
      "                AIMessage(content='It seems that the node for \"Left 4 Dead 2\" is not directly found using the ID \"left_4_dead_2\". We need to find the correct ID for this game in the \"Games\" collection.\\n\\n### Step 1 (Revised): Find the Correct Game ID\\nWe will search for the game \"Left 4 Dead 2\" by its name in the \"Games\" collection to get the correct ID.', additional_kwargs={'tool_calls': [{'id': 'call_ohG6uorK35xtJbFoX6XhqZTa', 'function': {'arguments': '{\"query\":\"FOR game IN Games FILTER game.GameName == \\'Left 4 Dead 2\\' RETURN game\",\"name\":\"left_4_dead_2_game\"}', 'name': 'AQL_QueryWrapper'}, 'type': 'function'}], 'refusal': None}, response_metadata={'token_usage': {'completion_tokens': 136, 'prompt_tokens': 1085, 'total_tokens': 1221, 'completion_tokens_details': {'accepted_prediction_tokens': 0, 'audio_tokens': 0, 'reasoning_tokens': 0, 'rejected_prediction_tokens': 0}, 'prompt_tokens_details': {'audio_tokens': 0, 'cached_tokens': 1024}}, 'model_name': 'gpt-4o-2024-08-06', 'system_fingerprint': 'fp_eb9dce56a8', 'finish_reason': 'tool_calls', 'logprobs': None}, id='run-d6d3727e-4b4b-4652-a815-e0c95327d65c-0', tool_calls=[{'name': 'AQL_QueryWrapper', 'args': {'query': \"FOR game IN Games FILTER game.GameName == 'Left 4 Dead 2' RETURN game\", 'name': 'left_4_dead_2_game'}, 'id': 'call_ohG6uorK35xtJbFoX6XhqZTa', 'type': 'tool_call'}], usage_metadata={'input_tokens': 1085, 'output_tokens': 136, 'total_tokens': 1221, 'input_token_details': {'audio': 0, 'cache_read': 1024}, 'output_token_details': {'audio': 0, 'reasoning': 0}}),\n",
      "                ToolMessage(content='The game \"Left 4 Dead 2\" is present in the database. It is identified by the key \"11354_left_4_dead_2\" and is categorized under the type \"Games\".', name='AQL_QueryWrapper', id='bf892eab-15ae-4cbb-a454-6b435c94dbfd', tool_call_id='call_ohG6uorK35xtJbFoX6XhqZTa'),\n",
      "                AIMessage(content='We have successfully identified the game \"Left 4 Dead 2\" with the key \"11354_left_4_dead_2\" in the \"Games\" collection.\\n\\n### Step 2: Calculate the Rank\\nNow, we will calculate the rank of \"Left 4 Dead 2\" by counting the number of users who have played it. This involves counting the number of edges in the \"plays\" collection that point to this game node.\\n\\nLet\\'s proceed with this step.', additional_kwargs={'tool_calls': [{'id': 'call_ovZ7PskgnFz5pYuSd9rNvngM', 'function': {'arguments': '{\"query\":\"FOR play IN plays FILTER play._to == \\'Games/11354_left_4_dead_2\\' COLLECT WITH COUNT INTO length RETURN length\",\"name\":\"left_4_dead_2_rank\"}', 'name': 'AQL_QueryWrapper'}, 'type': 'function'}], 'refusal': None}, response_metadata={'token_usage': {'completion_tokens': 153, 'prompt_tokens': 1342, 'total_tokens': 1495, 'completion_tokens_details': {'accepted_prediction_tokens': 0, 'audio_tokens': 0, 'reasoning_tokens': 0, 'rejected_prediction_tokens': 0}, 'prompt_tokens_details': {'audio_tokens': 0, 'cached_tokens': 0}}, 'model_name': 'gpt-4o-2024-08-06', 'system_fingerprint': 'fp_eb9dce56a8', 'finish_reason': 'tool_calls', 'logprobs': None}, id='run-33129a53-9f8d-498e-8eaa-51b13c4aa904-0', tool_calls=[{'name': 'AQL_QueryWrapper', 'args': {'query': \"FOR play IN plays FILTER play._to == 'Games/11354_left_4_dead_2' COLLECT WITH COUNT INTO length RETURN length\", 'name': 'left_4_dead_2_rank'}, 'id': 'call_ovZ7PskgnFz5pYuSd9rNvngM', 'type': 'tool_call'}], usage_metadata={'input_tokens': 1342, 'output_tokens': 153, 'total_tokens': 1495, 'input_token_details': {'audio': 0, 'cache_read': 0}, 'output_token_details': {'audio': 0, 'reasoning': 0}}),\n",
      "                ToolMessage(content='Summary:\\n\\nThe query has determined that there are 801 instances of the game \"Left 4 Dead 2\" being played, as recorded in the database.', name='AQL_QueryWrapper', id='5d362878-f72c-4299-9947-85d8e8f3bc20', tool_call_id='call_ovZ7PskgnFz5pYuSd9rNvngM'),\n",
      "                AIMessage(content='The game \"Left 4 Dead 2\" has been played by 801 users, which indicates its rank based on the number of players.', additional_kwargs={'refusal': None}, response_metadata={'token_usage': {'completion_tokens': 31, 'prompt_tokens': 1550, 'total_tokens': 1581, 'completion_tokens_details': {'accepted_prediction_tokens': 0, 'audio_tokens': 0, 'reasoning_tokens': 0, 'rejected_prediction_tokens': 0}, 'prompt_tokens_details': {'audio_tokens': 0, 'cached_tokens': 0}}, 'model_name': 'gpt-4o-2024-08-06', 'system_fingerprint': 'fp_eb9dce56a8', 'finish_reason': 'stop', 'logprobs': None}, id='run-0cf54612-2edb-48ed-a6a3-5d8da291e65c-0', usage_metadata={'input_tokens': 1550, 'output_tokens': 31, 'total_tokens': 1581, 'input_token_details': {'audio': 0, 'cache_read': 0}, 'output_token_details': {'audio': 0, 'reasoning': 0}}),\n",
      "                AIMessage(content='', additional_kwargs={'tool_calls': [{'id': 'call_N7RUfe61eNDZ7FOVlgTkWF4R', 'function': {'arguments': '{\"query\":\"Visualize the rank of \\'Left 4 Dead 2\\' based on the number of players (801) compared to other games.\"}', 'name': 'graph_vis_Wrapper'}, 'type': 'function'}], 'refusal': None}, response_metadata={'token_usage': {'completion_tokens': 43, 'prompt_tokens': 862, 'total_tokens': 905, 'completion_tokens_details': {'accepted_prediction_tokens': 0, 'audio_tokens': 0, 'reasoning_tokens': 0, 'rejected_prediction_tokens': 0}, 'prompt_tokens_details': {'audio_tokens': 0, 'cached_tokens': 0}}, 'model_name': 'gpt-4o-2024-08-06', 'system_fingerprint': 'fp_eb9dce56a8', 'finish_reason': 'tool_calls', 'logprobs': None}, id='run-eeba4aa4-8d32-437f-a51c-75c4347ae4f0-0', tool_calls=[{'name': 'graph_vis_Wrapper', 'args': {'query': \"Visualize the rank of 'Left 4 Dead 2' based on the number of players (801) compared to other games.\"}, 'id': 'call_N7RUfe61eNDZ7FOVlgTkWF4R', 'type': 'tool_call'}], usage_metadata={'input_tokens': 862, 'output_tokens': 43, 'total_tokens': 905, 'input_token_details': {'audio': 0, 'cache_read': 0}, 'output_token_details': {'audio': 0, 'reasoning': 0}}),\n",
      "                ToolMessage(content='Visualization Done', name='graph_vis_Wrapper', id='a46e0a20-8430-4faf-9cb6-562f43af36d8', tool_call_id='call_N7RUfe61eNDZ7FOVlgTkWF4R')],\n",
      "  'user_query': 'rank of game Left 4 Dead 2'}\n",
      "Final Answer:\n",
      "{ 'data': [ { 'left_4_dead_2_game': [ { 'GameName': 'Left 4 Dead 2',\n",
      "                                        '_id': 'Games/11354_left_4_dead_2',\n",
      "                                        '_key': '11354_left_4_dead_2',\n",
      "                                        '_rev': '_jPaYcPm--C',\n",
      "                                        'type': 'Games'}]},\n",
      "            {'left_4_dead_2_rank': [801]}],\n",
      "  'iframe_html': <gradio.components.html.HTML object at 0x7abb77418eb0>,\n",
      "  'messages': [ HumanMessage(content='rank of game Left 4 Dead 2', additional_kwargs={}, response_metadata={}, id='01edb27f-3e10-4458-98c0-fbd4deaa49c2'),\n",
      "                AIMessage(content='To determine the rank of the game \"Left 4 Dead 2,\" we need to follow these steps:\\n\\n1. **Identify the Game Node**: First, we need to find the node in the \"Games\" collection that corresponds to \"Left 4 Dead 2.\"\\n2. **Calculate the Rank**: Once we have the game node, we can calculate its rank based on the number of users who have played it. This can be done by counting the number of edges connected to this game node in the \"plays\" edge collection.\\n\\nLet\\'s start with the first step.\\n\\n### Step 1: Identify the Game Node\\nWe will retrieve the node for \"Left 4 Dead 2\" from the \"Games\" collection.', additional_kwargs={'tool_calls': [{'id': 'call_U0eoJkSUQDraGQM5xjy0H9Pl', 'function': {'arguments': '{\"collection\":\"Games\",\"node_id\":\"left_4_dead_2\"}', 'name': 'get_node'}, 'type': 'function'}], 'refusal': None}, response_metadata={'token_usage': {'completion_tokens': 175, 'prompt_tokens': 888, 'total_tokens': 1063, 'completion_tokens_details': {'accepted_prediction_tokens': 0, 'audio_tokens': 0, 'reasoning_tokens': 0, 'rejected_prediction_tokens': 0}, 'prompt_tokens_details': {'audio_tokens': 0, 'cached_tokens': 0}}, 'model_name': 'gpt-4o-2024-08-06', 'system_fingerprint': 'fp_eb9dce56a8', 'finish_reason': 'tool_calls', 'logprobs': None}, id='run-b05fdd41-d9a3-4dda-857c-74abb0e4f9ee-0', tool_calls=[{'name': 'get_node', 'args': {'collection': 'Games', 'node_id': 'left_4_dead_2'}, 'id': 'call_U0eoJkSUQDraGQM5xjy0H9Pl', 'type': 'tool_call'}], usage_metadata={'input_tokens': 888, 'output_tokens': 175, 'total_tokens': 1063, 'input_token_details': {'audio': 0, 'cache_read': 0}, 'output_token_details': {'audio': 0, 'reasoning': 0}}),\n",
      "                ToolMessage(content='Node Games:left_4_dead_2 not found in collection Games', name='get_node', id='4135c3c3-5099-4c38-b992-ce53baa73326', tool_call_id='call_U0eoJkSUQDraGQM5xjy0H9Pl'),\n",
      "                AIMessage(content='It seems that the node for \"Left 4 Dead 2\" is not directly found using the ID \"left_4_dead_2\". We need to find the correct ID for this game in the \"Games\" collection.\\n\\n### Step 1 (Revised): Find the Correct Game ID\\nWe will search for the game \"Left 4 Dead 2\" by its name in the \"Games\" collection to get the correct ID.', additional_kwargs={'tool_calls': [{'id': 'call_ohG6uorK35xtJbFoX6XhqZTa', 'function': {'arguments': '{\"query\":\"FOR game IN Games FILTER game.GameName == \\'Left 4 Dead 2\\' RETURN game\",\"name\":\"left_4_dead_2_game\"}', 'name': 'AQL_QueryWrapper'}, 'type': 'function'}], 'refusal': None}, response_metadata={'token_usage': {'completion_tokens': 136, 'prompt_tokens': 1085, 'total_tokens': 1221, 'completion_tokens_details': {'accepted_prediction_tokens': 0, 'audio_tokens': 0, 'reasoning_tokens': 0, 'rejected_prediction_tokens': 0}, 'prompt_tokens_details': {'audio_tokens': 0, 'cached_tokens': 1024}}, 'model_name': 'gpt-4o-2024-08-06', 'system_fingerprint': 'fp_eb9dce56a8', 'finish_reason': 'tool_calls', 'logprobs': None}, id='run-d6d3727e-4b4b-4652-a815-e0c95327d65c-0', tool_calls=[{'name': 'AQL_QueryWrapper', 'args': {'query': \"FOR game IN Games FILTER game.GameName == 'Left 4 Dead 2' RETURN game\", 'name': 'left_4_dead_2_game'}, 'id': 'call_ohG6uorK35xtJbFoX6XhqZTa', 'type': 'tool_call'}], usage_metadata={'input_tokens': 1085, 'output_tokens': 136, 'total_tokens': 1221, 'input_token_details': {'audio': 0, 'cache_read': 1024}, 'output_token_details': {'audio': 0, 'reasoning': 0}}),\n",
      "                ToolMessage(content='The game \"Left 4 Dead 2\" is present in the database. It is identified by the key \"11354_left_4_dead_2\" and is categorized under the type \"Games\".', name='AQL_QueryWrapper', id='bf892eab-15ae-4cbb-a454-6b435c94dbfd', tool_call_id='call_ohG6uorK35xtJbFoX6XhqZTa'),\n",
      "                AIMessage(content='We have successfully identified the game \"Left 4 Dead 2\" with the key \"11354_left_4_dead_2\" in the \"Games\" collection.\\n\\n### Step 2: Calculate the Rank\\nNow, we will calculate the rank of \"Left 4 Dead 2\" by counting the number of users who have played it. This involves counting the number of edges in the \"plays\" collection that point to this game node.\\n\\nLet\\'s proceed with this step.', additional_kwargs={'tool_calls': [{'id': 'call_ovZ7PskgnFz5pYuSd9rNvngM', 'function': {'arguments': '{\"query\":\"FOR play IN plays FILTER play._to == \\'Games/11354_left_4_dead_2\\' COLLECT WITH COUNT INTO length RETURN length\",\"name\":\"left_4_dead_2_rank\"}', 'name': 'AQL_QueryWrapper'}, 'type': 'function'}], 'refusal': None}, response_metadata={'token_usage': {'completion_tokens': 153, 'prompt_tokens': 1342, 'total_tokens': 1495, 'completion_tokens_details': {'accepted_prediction_tokens': 0, 'audio_tokens': 0, 'reasoning_tokens': 0, 'rejected_prediction_tokens': 0}, 'prompt_tokens_details': {'audio_tokens': 0, 'cached_tokens': 0}}, 'model_name': 'gpt-4o-2024-08-06', 'system_fingerprint': 'fp_eb9dce56a8', 'finish_reason': 'tool_calls', 'logprobs': None}, id='run-33129a53-9f8d-498e-8eaa-51b13c4aa904-0', tool_calls=[{'name': 'AQL_QueryWrapper', 'args': {'query': \"FOR play IN plays FILTER play._to == 'Games/11354_left_4_dead_2' COLLECT WITH COUNT INTO length RETURN length\", 'name': 'left_4_dead_2_rank'}, 'id': 'call_ovZ7PskgnFz5pYuSd9rNvngM', 'type': 'tool_call'}], usage_metadata={'input_tokens': 1342, 'output_tokens': 153, 'total_tokens': 1495, 'input_token_details': {'audio': 0, 'cache_read': 0}, 'output_token_details': {'audio': 0, 'reasoning': 0}}),\n",
      "                ToolMessage(content='Summary:\\n\\nThe query has determined that there are 801 instances of the game \"Left 4 Dead 2\" being played, as recorded in the database.', name='AQL_QueryWrapper', id='5d362878-f72c-4299-9947-85d8e8f3bc20', tool_call_id='call_ovZ7PskgnFz5pYuSd9rNvngM'),\n",
      "                AIMessage(content='The game \"Left 4 Dead 2\" has been played by 801 users, which indicates its rank based on the number of players.', additional_kwargs={'refusal': None}, response_metadata={'token_usage': {'completion_tokens': 31, 'prompt_tokens': 1550, 'total_tokens': 1581, 'completion_tokens_details': {'accepted_prediction_tokens': 0, 'audio_tokens': 0, 'reasoning_tokens': 0, 'rejected_prediction_tokens': 0}, 'prompt_tokens_details': {'audio_tokens': 0, 'cached_tokens': 0}}, 'model_name': 'gpt-4o-2024-08-06', 'system_fingerprint': 'fp_eb9dce56a8', 'finish_reason': 'stop', 'logprobs': None}, id='run-0cf54612-2edb-48ed-a6a3-5d8da291e65c-0', usage_metadata={'input_tokens': 1550, 'output_tokens': 31, 'total_tokens': 1581, 'input_token_details': {'audio': 0, 'cache_read': 0}, 'output_token_details': {'audio': 0, 'reasoning': 0}}),\n",
      "                AIMessage(content='', additional_kwargs={'tool_calls': [{'id': 'call_N7RUfe61eNDZ7FOVlgTkWF4R', 'function': {'arguments': '{\"query\":\"Visualize the rank of \\'Left 4 Dead 2\\' based on the number of players (801) compared to other games.\"}', 'name': 'graph_vis_Wrapper'}, 'type': 'function'}], 'refusal': None}, response_metadata={'token_usage': {'completion_tokens': 43, 'prompt_tokens': 862, 'total_tokens': 905, 'completion_tokens_details': {'accepted_prediction_tokens': 0, 'audio_tokens': 0, 'reasoning_tokens': 0, 'rejected_prediction_tokens': 0}, 'prompt_tokens_details': {'audio_tokens': 0, 'cached_tokens': 0}}, 'model_name': 'gpt-4o-2024-08-06', 'system_fingerprint': 'fp_eb9dce56a8', 'finish_reason': 'tool_calls', 'logprobs': None}, id='run-eeba4aa4-8d32-437f-a51c-75c4347ae4f0-0', tool_calls=[{'name': 'graph_vis_Wrapper', 'args': {'query': \"Visualize the rank of 'Left 4 Dead 2' based on the number of players (801) compared to other games.\"}, 'id': 'call_N7RUfe61eNDZ7FOVlgTkWF4R', 'type': 'tool_call'}], usage_metadata={'input_tokens': 862, 'output_tokens': 43, 'total_tokens': 905, 'input_token_details': {'audio': 0, 'cache_read': 0}, 'output_token_details': {'audio': 0, 'reasoning': 0}}),\n",
      "                ToolMessage(content='Visualization Done', name='graph_vis_Wrapper', id='a46e0a20-8430-4faf-9cb6-562f43af36d8', tool_call_id='call_N7RUfe61eNDZ7FOVlgTkWF4R'),\n",
      "                AIMessage(content='The visualization has been created to represent the rank of \"Left 4 Dead 2\" based on the number of players (801) compared to other games. This graph provides a visual comparison of how \"Left 4 Dead 2\" stands in terms of popularity among players.', additional_kwargs={'refusal': None}, response_metadata={'token_usage': {'completion_tokens': 58, 'prompt_tokens': 916, 'total_tokens': 974, 'completion_tokens_details': {'accepted_prediction_tokens': 0, 'audio_tokens': 0, 'reasoning_tokens': 0, 'rejected_prediction_tokens': 0}, 'prompt_tokens_details': {'audio_tokens': 0, 'cached_tokens': 0}}, 'model_name': 'gpt-4o-2024-08-06', 'system_fingerprint': 'fp_eb9dce56a8', 'finish_reason': 'stop', 'logprobs': None}, id='run-c007ba67-db21-4600-bb19-2ef645b542eb-0', usage_metadata={'input_tokens': 916, 'output_tokens': 58, 'total_tokens': 974, 'input_token_details': {'audio': 0, 'cache_read': 0}, 'output_token_details': {'audio': 0, 'reasoning': 0}})],\n",
      "  'user_query': 'rank of game Left 4 Dead 2'}\n",
      "Inside interface\n",
      "<gradio.components.html.HTML object at 0x7abb77418eb0>\n"
     ]
    }
   ],
   "source": [
    "interface = create_gradio_interface(agent)\n",
    "interface.launch()"
   ]
  },
  {
   "cell_type": "code",
   "execution_count": null,
   "metadata": {},
   "outputs": [],
   "source": [
    "response = agent.query_graph(\"Total number of games in the graph\")"
   ]
  },
  {
   "cell_type": "code",
   "execution_count": null,
   "metadata": {},
   "outputs": [],
   "source": [
    "agent.query_graph(\"Users who have played the most influential game\")"
   ]
  },
  {
   "cell_type": "code",
   "execution_count": null,
   "metadata": {},
   "outputs": [],
   "source": [
    "agent.query_graph(\"Find 2nd and 4th Most influential game in the graph and its number of users who played both of them\")"
   ]
  },
  {
   "cell_type": "code",
   "execution_count": null,
   "metadata": {},
   "outputs": [],
   "source": [
    "agent.query_graph(\"Find the  top 10 users who played a lot  and which games they have played is common most by hours\")"
   ]
  },
  {
   "cell_type": "code",
   "execution_count": null,
   "metadata": {},
   "outputs": [],
   "source": [
    "agent.query_graph(\"get me 10 random users\")"
   ]
  },
  {
   "cell_type": "code",
   "execution_count": null,
   "metadata": {},
   "outputs": [],
   "source": []
  }
 ],
 "metadata": {
  "kernelspec": {
   "display_name": "Arrongo",
   "language": "python",
   "name": "python3"
  },
  "language_info": {
   "codemirror_mode": {
    "name": "ipython",
    "version": 3
   },
   "file_extension": ".py",
   "mimetype": "text/x-python",
   "name": "python",
   "nbconvert_exporter": "python",
   "pygments_lexer": "ipython3",
   "version": "3.10.16"
  }
 },
 "nbformat": 4,
 "nbformat_minor": 2
}
