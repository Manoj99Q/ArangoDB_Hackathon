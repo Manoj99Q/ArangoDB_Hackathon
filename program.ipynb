{
 "cells": [
  {
   "cell_type": "code",
   "execution_count": 1,
   "metadata": {},
   "outputs": [
    {
     "name": "stderr",
     "output_type": "stream",
     "text": [
      "[00:00:32 -0600] [INFO]: NetworkX-cuGraph is unavailable: No module named 'nx_cugraph'.\n"
     ]
    }
   ],
   "source": [
    "import networkx as nx\n",
    "import nx_arangodb as nxadb\n",
    "\n",
    "from arango import ArangoClient\n",
    "\n",
    "import pandas as pd\n",
    "import numpy as np\n",
    "import networkx as nx\n",
    "import matplotlib.pyplot as plt\n",
    "from random import randint\n",
    "import re\n",
    "\n",
    "from langgraph.prebuilt import create_react_agent\n",
    "from langgraph.checkpoint.memory import MemorySaver\n",
    "from langchain_openai import ChatOpenAI\n",
    "from langchain_community.graphs import ArangoGraph\n",
    "from langchain_community.chains.graph_qa.arangodb import ArangoGraphQAChain\n",
    "from langchain_core.tools import tool\n",
    "\n",
    "\n",
    "import gradio\n",
    "from graph_utils import create_d3_visualization\n",
    "from dotenv import load_dotenv\n",
    "import os\n",
    "from agent_utils import GraphAgent\n",
    "\n"
   ]
  },
  {
   "cell_type": "code",
   "execution_count": 2,
   "metadata": {},
   "outputs": [
    {
     "data": {
      "text/plain": [
       "True"
      ]
     },
     "execution_count": 2,
     "metadata": {},
     "output_type": "execute_result"
    }
   ],
   "source": [
    "load_dotenv()"
   ]
  },
  {
   "cell_type": "code",
   "execution_count": 3,
   "metadata": {},
   "outputs": [],
   "source": [
    "# Access variables\n",
    "openai_key = os.getenv('OPENAI_API_KEY')\n",
    "arango_host = os.getenv('ARANGO_HOST')\n",
    "arango_user = os.getenv('ARANGO_USER')\n",
    "arango_password = os.getenv('ARANGO_PASSWORD')\n",
    "arango_db = os.getenv('ARANGO_DB')\n"
   ]
  },
  {
   "cell_type": "code",
   "execution_count": 4,
   "metadata": {},
   "outputs": [
    {
     "name": "stdout",
     "output_type": "stream",
     "text": [
      "[{'id': '195136', 'name': '_analyzers', 'system': True, 'type': 'document', 'status': 'loaded'}, {'id': '195138', 'name': '_queues', 'system': True, 'type': 'document', 'status': 'loaded'}, {'id': '195137', 'name': '_aqlfunctions', 'system': True, 'type': 'document', 'status': 'loaded'}, {'id': '211044', 'name': 'Users', 'system': False, 'type': 'document', 'status': 'loaded'}, {'id': '195139', 'name': '_jobs', 'system': True, 'type': 'document', 'status': 'loaded'}, {'id': '211045', 'name': 'Games', 'system': False, 'type': 'document', 'status': 'loaded'}, {'id': '195141', 'name': '_appbundles', 'system': True, 'type': 'document', 'status': 'loaded'}, {'id': '195135', 'name': '_graphs', 'system': True, 'type': 'document', 'status': 'loaded'}, {'id': '195140', 'name': '_apps', 'system': True, 'type': 'document', 'status': 'loaded'}, {'id': '211046', 'name': 'plays', 'system': False, 'type': 'edge', 'status': 'loaded'}, {'id': '195142', 'name': '_frontend', 'system': True, 'type': 'document', 'status': 'loaded'}]\n"
     ]
    }
   ],
   "source": [
    "# Initialize the client for ArangoDB.\n",
    "client = ArangoClient(hosts=arango_host)\n",
    "db = client.db(arango_db, username=arango_user, password=arango_password)\n",
    "print(db.collections())"
   ]
  },
  {
   "cell_type": "code",
   "execution_count": 5,
   "metadata": {},
   "outputs": [
    {
     "name": "stderr",
     "output_type": "stream",
     "text": [
      "[00:00:36 -0600] [INFO]: Graph 'SteamGraph' exists.\n",
      "[00:00:36 -0600] [INFO]: Default node type set to 'Games'\n"
     ]
    },
    {
     "name": "stdout",
     "output_type": "stream",
     "text": [
      "Graph named 'SteamGraph' with 14950 nodes and 70477 edges\n"
     ]
    }
   ],
   "source": [
    "\n",
    "G_adb = nxadb.Graph(name=\"SteamGraph\", db=db)\n",
    "\n",
    "print(G_adb)"
   ]
  },
  {
   "cell_type": "code",
   "execution_count": 6,
   "metadata": {},
   "outputs": [
    {
     "name": "stdout",
     "output_type": "stream",
     "text": [
      "{'_key': 'SteamGraph', '_id': '_graphs/SteamGraph', '_rev': '_jPxJOKO---', 'edgeDefinitions': [{'collection': 'plays', 'from': ['Users'], 'to': ['Games']}], 'orphanCollections': [], 'networkx': {'name': 'SteamGraph'}}\n"
     ]
    }
   ],
   "source": [
    "graph_def = db.collection(\"_graphs\").get(\"SteamGraph\")\n",
    "print(graph_def)\n"
   ]
  },
  {
   "cell_type": "code",
   "execution_count": 7,
   "metadata": {},
   "outputs": [
    {
     "name": "stdout",
     "output_type": "stream",
     "text": [
      "Users/295626029 Users/295626029\n",
      "Games/12185_tom_clancy_s_rainbow_six_siege Games/12185_tom_clancy_s_rainbow_six_siege\n",
      "Users/163293998 Users/163293998\n",
      "Users/56788879 Users/56788879\n",
      "Games/11706_chivalry_medieval_warfare Games/11706_chivalry_medieval_warfare\n",
      "Games/13715_enslaved_odyssey_to_the_west_premium_edition Games/13715_enslaved_odyssey_to_the_west_premium_edition\n",
      "Users/205340007 Users/205340007\n",
      "Games/11687_critical_mass Games/11687_critical_mass\n",
      "Games/12066_toribash Games/12066_toribash\n",
      "Users/200082927 Users/200082927\n"
     ]
    }
   ],
   "source": [
    "for node, data in list(G_adb.nodes(data=True))[:10]:\n",
    "    print(node, data.get(\"_id\"))\n"
   ]
  },
  {
   "cell_type": "code",
   "execution_count": 8,
   "metadata": {},
   "outputs": [
    {
     "name": "stdout",
     "output_type": "stream",
     "text": [
      "Graph named 'SteamGraph' with 14950 nodes and 70477 edges\n"
     ]
    }
   ],
   "source": [
    "print(G_adb)"
   ]
  },
  {
   "cell_type": "markdown",
   "metadata": {},
   "source": [
    "### AQL Test"
   ]
  },
  {
   "cell_type": "code",
   "execution_count": 9,
   "metadata": {},
   "outputs": [
    {
     "name": "stdout",
     "output_type": "stream",
     "text": [
      "Available collections:\n",
      "_analyzers\n",
      "_queues\n",
      "_aqlfunctions\n",
      "Users\n",
      "_jobs\n",
      "Games\n",
      "_appbundles\n",
      "_graphs\n",
      "_apps\n",
      "plays\n",
      "_frontend\n",
      "\n",
      "Graph collections:\n",
      "[{'edge_collection': 'plays', 'from_vertex_collections': ['Users'], 'to_vertex_collections': ['Games']}]\n"
     ]
    }
   ],
   "source": [
    "# First, let's check what collections exist\n",
    "print(\"Available collections:\")\n",
    "for collection in db.collections():\n",
    "    print(collection['name'])\n",
    "\n",
    "# Get the graph to see its collections\n",
    "graph = db.graph('SteamGraph')\n",
    "print(\"\\nGraph collections:\")\n",
    "print(graph.edge_definitions())"
   ]
  },
  {
   "cell_type": "code",
   "execution_count": 10,
   "metadata": {},
   "outputs": [
    {
     "name": "stdout",
     "output_type": "stream",
     "text": [
      "Sample Users Nodes:\n",
      "{'_key': '167741133', '_id': 'Users/167741133', '_rev': '_jPaYbp6--f', 'type': 'Users', 'steamid': 167741133}\n",
      "{'_key': '139393793', '_id': 'Users/139393793', '_rev': '_jPaYbkm--4', 'type': 'Users', 'steamid': 139393793}\n",
      "{'_key': '75548930', '_id': 'Users/75548930', '_rev': '_jPaYbpu---', 'type': 'Users', 'steamid': 75548930}\n",
      "----------\n",
      "Sample Plays Edges:\n",
      "{'_key': '28186', '_id': 'plays/28186', '_from': 'Users/26333936', '_to': 'Games/11586_call_of_duty_black_ops', '_rev': '_jPaYgpa--Q', 'weight': 57}\n",
      "{'_key': '62792', '_id': 'plays/62792', '_from': 'Users/19094181', '_to': 'Games/11929_half_life_blue_shift', '_rev': '_jPaYimC--G', 'weight': 0.8}\n",
      "{'_key': '27222', '_id': 'plays/27222', '_from': 'Users/124437057', '_to': 'Games/11727_deponia_the_complete_journey', '_rev': '_jPaYgl---C', 'weight': 60}\n",
      "----------\n"
     ]
    }
   ],
   "source": [
    "\n",
    "\n",
    "# -----------------------------------------------------------\n",
    "# 1. Query 3 random nodes from the Users collection.\n",
    "# -----------------------------------------------------------\n",
    "result_cursor = G_adb.query(\"\"\"\n",
    "    FOR node IN Users\n",
    "        SORT RAND()\n",
    "        LIMIT 3\n",
    "        RETURN node\n",
    "\"\"\")\n",
    "print(\"Sample Users Nodes:\")\n",
    "for node in result_cursor:\n",
    "    print(node)\n",
    "print('-'*10)\n",
    "\n",
    "# -----------------------------------------------------------\n",
    "# 2. Query 3 random edges from the plays edge collection.\n",
    "# -----------------------------------------------------------\n",
    "result_cursor = G_adb.query(\"\"\"\n",
    "    FOR edge IN plays\n",
    "        SORT RAND()\n",
    "        LIMIT 3\n",
    "        RETURN edge\n",
    "\"\"\")\n",
    "print(\"Sample Plays Edges:\")\n",
    "for edge in result_cursor:\n",
    "    print(edge)\n",
    "print('-'*10)\n"
   ]
  },
  {
   "cell_type": "markdown",
   "metadata": {},
   "source": [
    "### Agent"
   ]
  },
  {
   "cell_type": "code",
   "execution_count": 11,
   "metadata": {},
   "outputs": [],
   "source": [
    "arango_graph = ArangoGraph(db)\n"
   ]
  },
  {
   "cell_type": "code",
   "execution_count": 12,
   "metadata": {},
   "outputs": [],
   "source": [
    "agent = GraphAgent(arango_graph, G_adb)\n"
   ]
  },
  {
   "cell_type": "code",
   "execution_count": 13,
   "metadata": {},
   "outputs": [
    {
     "name": "stdout",
     "output_type": "stream",
     "text": [
      "1) Generating NetworkX code\n",
      "Query Received for AQL translation:\n",
      "Find the number of users who played the most influential game.\n",
      "----------\n",
      "\n",
      "\n",
      "\u001b[1m> Entering new ArangoGraphQAChain chain...\u001b[0m\n",
      "AQL Query (1):\u001b[32;1m\u001b[1;3m\n",
      "WITH Users, Games, plays\n",
      "FOR game IN Games\n",
      "    LET totalWeight = (\n",
      "        FOR play IN plays\n",
      "            FILTER play._to == game._id\n",
      "            COLLECT AGGREGATE total = SUM(play.weight)\n",
      "            RETURN total\n",
      "    )\n",
      "    SORT totalWeight DESC\n",
      "    LIMIT 1\n",
      "    FOR play IN plays\n",
      "        FILTER play._to == game._id\n",
      "        COLLECT WITH COUNT INTO numberOfUsers\n",
      "RETURN numberOfUsers\n",
      "\u001b[0m\n",
      "AQL Result:\n",
      "\u001b[32;1m\u001b[1;3m[4841]\u001b[0m\n",
      "\n",
      "\u001b[1m> Finished chain.\u001b[0m\n",
      "Arrango Chain Result:\n",
      "{'query': 'Find the number of users who played the most influential game.', 'result': 'Summary: The most influential game in the database was played by 4,841 users.', 'aql_result': [4841]}\n",
      "----------\n",
      "import networkx as nx\n",
      "\n",
      "# Assuming G_adb is already defined and is a NetworkX graph object\n",
      "\n",
      "# Step 1: Calculate the degree centrality for the 'Games' nodes\n",
      "degree_centrality = nx.degree_centrality(G_adb)\n",
      "\n",
      "# Step 2: Filter out the centrality values for 'Games' nodes only\n",
      "games_centrality = {node: centrality for node, centrality in degree_centrality.items() if G_adb.nodes[node]['type'] == 'Games'}\n",
      "\n",
      "# Step 3: Find the game with the highest centrality value\n",
      "most_influential_game = max(games_centrality, key=games_centrality.get)\n",
      "\n",
      "# Step 4: Retrieve the game name from the node attributes\n",
      "FINAL_RESULT = G_adb.nodes[most_influential_game]['GameName']\n",
      "----------\n",
      "\n",
      "2) Executing NetworkX code\n"
     ]
    },
    {
     "name": "stderr",
     "output_type": "stream",
     "text": [
      "[00:00:51 -0600] [INFO]: Graph 'SteamGraph' load took 2.534729242324829s\n"
     ]
    },
    {
     "name": "stdout",
     "output_type": "stream",
     "text": [
      "----------\n",
      "FINAL_RESULT: Dota 2\n",
      "----------\n",
      "3) Formulating final answer\n",
      "content='Most influential game in the graph and its number users who played it' additional_kwargs={} response_metadata={} id='d60f1554-8e1c-4717-bf11-f0902bdddb8d'\n",
      "content='' additional_kwargs={'tool_calls': [{'id': 'call_bK43XBWQuopXMB9Kfb6cEmUi', 'function': {'arguments': '{\"__arg1\": \"Find the most influential game in the graph using centrality measures.\"}', 'name': 'NetworkX_Analysis'}, 'type': 'function'}, {'id': 'call_rBVQxfwVCDUAheYNJ2oz9XYs', 'function': {'arguments': '{\"__arg1\": \"Find the number of users who played the most influential game.\"}', 'name': 'AQL_Query'}, 'type': 'function'}], 'refusal': None} response_metadata={'token_usage': {'completion_tokens': 75, 'prompt_tokens': 217, 'total_tokens': 292, 'completion_tokens_details': {'accepted_prediction_tokens': 0, 'audio_tokens': 0, 'reasoning_tokens': 0, 'rejected_prediction_tokens': 0}, 'prompt_tokens_details': {'audio_tokens': 0, 'cached_tokens': 0}}, 'model_name': 'gpt-4o-2024-08-06', 'system_fingerprint': 'fp_523b9b6e5f', 'finish_reason': 'tool_calls', 'logprobs': None} id='run-a64cb345-9dcb-4b7a-80bb-00e157415738-0' tool_calls=[{'name': 'NetworkX_Analysis', 'args': {'__arg1': 'Find the most influential game in the graph using centrality measures.'}, 'id': 'call_bK43XBWQuopXMB9Kfb6cEmUi', 'type': 'tool_call'}, {'name': 'AQL_Query', 'args': {'__arg1': 'Find the number of users who played the most influential game.'}, 'id': 'call_rBVQxfwVCDUAheYNJ2oz9XYs', 'type': 'tool_call'}] usage_metadata={'input_tokens': 217, 'output_tokens': 75, 'total_tokens': 292, 'input_token_details': {'audio': 0, 'cache_read': 0}, 'output_token_details': {'audio': 0, 'reasoning': 0}}\n",
      "content='The most influential game in the graph, based on centrality measures, is \"Dota 2.\"' name='NetworkX_Analysis' id='4b7c05e1-c335-4c74-9fec-7e9ca222e3de' tool_call_id='call_bK43XBWQuopXMB9Kfb6cEmUi'\n",
      "content='Summary: The most influential game in the database was played by 4,841 users.' name='AQL_Query' id='762dfddb-9475-4899-902e-cd195a99ae4f' tool_call_id='call_rBVQxfwVCDUAheYNJ2oz9XYs'\n",
      "content='The most influential game in the graph is \"Dota 2,\" and it was played by 4,841 users.' additional_kwargs={'refusal': None} response_metadata={'token_usage': {'completion_tokens': 27, 'prompt_tokens': 344, 'total_tokens': 371, 'completion_tokens_details': {'accepted_prediction_tokens': 0, 'audio_tokens': 0, 'reasoning_tokens': 0, 'rejected_prediction_tokens': 0}, 'prompt_tokens_details': {'audio_tokens': 0, 'cached_tokens': 0}}, 'model_name': 'gpt-4o-2024-08-06', 'system_fingerprint': 'fp_523b9b6e5f', 'finish_reason': 'stop', 'logprobs': None} id='run-ccda7218-41fd-4455-80f4-7ca10d13781c-0' usage_metadata={'input_tokens': 344, 'output_tokens': 27, 'total_tokens': 371, 'input_token_details': {'audio': 0, 'cache_read': 0}, 'output_token_details': {'audio': 0, 'reasoning': 0}}\n"
     ]
    },
    {
     "data": {
      "text/plain": [
       "'The most influential game in the graph is \"Dota 2,\" and it was played by 4,841 users.'"
      ]
     },
     "execution_count": 13,
     "metadata": {},
     "output_type": "execute_result"
    }
   ],
   "source": [
    "agent.query_graph(\"Most influential game in the graph and its number users who played it\")"
   ]
  },
  {
   "cell_type": "code",
   "execution_count": null,
   "metadata": {},
   "outputs": [],
   "source": []
  },
  {
   "cell_type": "code",
   "execution_count": null,
   "metadata": {},
   "outputs": [
    {
     "data": {
      "text/plain": [
       "AIMessage(content='Hello! How can I assist you today?', additional_kwargs={'refusal': None}, response_metadata={'token_usage': {'completion_tokens': 10, 'prompt_tokens': 9, 'total_tokens': 19, 'completion_tokens_details': {'accepted_prediction_tokens': 0, 'audio_tokens': 0, 'reasoning_tokens': 0, 'rejected_prediction_tokens': 0}, 'prompt_tokens_details': {'audio_tokens': 0, 'cached_tokens': 0}}, 'model_name': 'gpt-4o-2024-08-06', 'system_fingerprint': 'fp_523b9b6e5f', 'finish_reason': 'stop', 'logprobs': None}, id='run-c81298af-457f-49cb-9484-850406da7719-0', usage_metadata={'input_tokens': 9, 'output_tokens': 10, 'total_tokens': 19, 'input_token_details': {'audio': 0, 'cache_read': 0}, 'output_token_details': {'audio': 0, 'reasoning': 0}})"
      ]
     },
     "execution_count": 14,
     "metadata": {},
     "output_type": "execute_result"
    }
   ],
   "source": [
    "llm = ChatOpenAI(temperature=0, model_name=\"gpt-4o\")\n",
    "\n",
    "llm.invoke(\"hello!\")"
   ]
  },
  {
   "cell_type": "code",
   "execution_count": null,
   "metadata": {},
   "outputs": [],
   "source": []
  }
 ],
 "metadata": {
  "kernelspec": {
   "display_name": "Arrongo",
   "language": "python",
   "name": "python3"
  },
  "language_info": {
   "codemirror_mode": {
    "name": "ipython",
    "version": 3
   },
   "file_extension": ".py",
   "mimetype": "text/x-python",
   "name": "python",
   "nbconvert_exporter": "python",
   "pygments_lexer": "ipython3",
   "version": "3.10.16"
  }
 },
 "nbformat": 4,
 "nbformat_minor": 2
}
