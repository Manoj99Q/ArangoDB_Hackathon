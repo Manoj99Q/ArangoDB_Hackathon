{
 "cells": [
  {
   "cell_type": "code",
   "execution_count": 1,
   "metadata": {},
   "outputs": [
    {
     "name": "stderr",
     "output_type": "stream",
     "text": [
      "[22:18:33 -0600] [INFO]: NetworkX-cuGraph is unavailable: No module named 'nx_cugraph'.\n"
     ]
    }
   ],
   "source": [
    "import networkx as nx\n",
    "import nx_arangodb as nxadb\n",
    "\n",
    "from arango import ArangoClient\n",
    "\n",
    "import pandas as pd\n",
    "import numpy as np\n",
    "import networkx as nx\n",
    "import matplotlib.pyplot as plt\n",
    "from random import randint\n",
    "import re\n",
    "\n",
    "from langgraph.prebuilt import create_react_agent\n",
    "from langgraph.checkpoint.memory import MemorySaver\n",
    "from langchain_openai import ChatOpenAI\n",
    "from langchain_community.graphs import ArangoGraph\n",
    "from langchain_community.chains.graph_qa.arangodb import ArangoGraphQAChain\n",
    "from langchain_core.tools import tool\n",
    "\n",
    "\n",
    "import gradio\n",
    "from graph_utils import create_d3_visualization\n",
    "from dotenv import load_dotenv\n",
    "import os\n",
    "from agent_utils import GraphAgent\n",
    "\n"
   ]
  },
  {
   "cell_type": "code",
   "execution_count": 2,
   "metadata": {},
   "outputs": [
    {
     "data": {
      "text/plain": [
       "True"
      ]
     },
     "execution_count": 2,
     "metadata": {},
     "output_type": "execute_result"
    }
   ],
   "source": [
    "load_dotenv()"
   ]
  },
  {
   "cell_type": "code",
   "execution_count": 3,
   "metadata": {},
   "outputs": [],
   "source": [
    "# Access variables\n",
    "openai_key = os.getenv('OPENAI_API_KEY')\n",
    "arango_host = os.getenv('ARANGO_HOST')\n",
    "arango_user = os.getenv('ARANGO_USER')\n",
    "arango_password = os.getenv('ARANGO_PASSWORD')\n",
    "arango_db = os.getenv('ARANGO_DB')\n"
   ]
  },
  {
   "cell_type": "code",
   "execution_count": 4,
   "metadata": {},
   "outputs": [
    {
     "name": "stdout",
     "output_type": "stream",
     "text": [
      "[{'id': '195136', 'name': '_analyzers', 'system': True, 'type': 'document', 'status': 'loaded'}, {'id': '195138', 'name': '_queues', 'system': True, 'type': 'document', 'status': 'loaded'}, {'id': '195137', 'name': '_aqlfunctions', 'system': True, 'type': 'document', 'status': 'loaded'}, {'id': '211044', 'name': 'Users', 'system': False, 'type': 'document', 'status': 'loaded'}, {'id': '195139', 'name': '_jobs', 'system': True, 'type': 'document', 'status': 'loaded'}, {'id': '211045', 'name': 'Games', 'system': False, 'type': 'document', 'status': 'loaded'}, {'id': '195141', 'name': '_appbundles', 'system': True, 'type': 'document', 'status': 'loaded'}, {'id': '195135', 'name': '_graphs', 'system': True, 'type': 'document', 'status': 'loaded'}, {'id': '195140', 'name': '_apps', 'system': True, 'type': 'document', 'status': 'loaded'}, {'id': '211046', 'name': 'plays', 'system': False, 'type': 'edge', 'status': 'loaded'}, {'id': '195142', 'name': '_frontend', 'system': True, 'type': 'document', 'status': 'loaded'}]\n"
     ]
    }
   ],
   "source": [
    "# Initialize the client for ArangoDB.\n",
    "client = ArangoClient(hosts=arango_host)\n",
    "db = client.db(arango_db, username=arango_user, password=arango_password)\n",
    "print(db.collections())"
   ]
  },
  {
   "cell_type": "code",
   "execution_count": 5,
   "metadata": {},
   "outputs": [
    {
     "name": "stderr",
     "output_type": "stream",
     "text": [
      "[22:18:38 -0600] [INFO]: Graph 'SteamGraph' exists.\n",
      "[22:18:38 -0600] [INFO]: Default node type set to 'Games'\n"
     ]
    },
    {
     "name": "stdout",
     "output_type": "stream",
     "text": [
      "Graph named 'SteamGraph' with 14950 nodes and 70477 edges\n"
     ]
    }
   ],
   "source": [
    "\n",
    "G_adb = nxadb.Graph(name=\"SteamGraph\", db=db)\n",
    "\n",
    "print(G_adb)"
   ]
  },
  {
   "cell_type": "code",
   "execution_count": 6,
   "metadata": {},
   "outputs": [
    {
     "name": "stdout",
     "output_type": "stream",
     "text": [
      "{'_key': 'SteamGraph', '_id': '_graphs/SteamGraph', '_rev': '_jQESOIO---', 'edgeDefinitions': [{'collection': 'plays', 'from': ['Users'], 'to': ['Games']}], 'orphanCollections': [], 'networkx': {'name': 'SteamGraph'}}\n"
     ]
    }
   ],
   "source": [
    "graph_def = db.collection(\"_graphs\").get(\"SteamGraph\")\n",
    "print(graph_def)\n"
   ]
  },
  {
   "cell_type": "code",
   "execution_count": 7,
   "metadata": {},
   "outputs": [
    {
     "name": "stdout",
     "output_type": "stream",
     "text": [
      "Games/13050_iron_brigade Games/13050_iron_brigade\n",
      "Users/44482198 Users/44482198\n",
      "Users/252475396 Users/252475396\n",
      "Users/252963100 Users/252963100\n",
      "Users/22045474 Users/22045474\n",
      "Games/14250_crazy_machines Games/14250_crazy_machines\n",
      "Games/13268_sword_of_the_stars_ii_enhanced_edition Games/13268_sword_of_the_stars_ii_enhanced_edition\n",
      "Games/14448_cast_of_the_seven_godsends Games/14448_cast_of_the_seven_godsends\n",
      "Users/46055854 Users/46055854\n",
      "Games/14840_over_the_dream Games/14840_over_the_dream\n"
     ]
    }
   ],
   "source": [
    "for node, data in list(G_adb.nodes(data=True))[:10]:\n",
    "    print(node, data.get(\"_id\"))\n"
   ]
  },
  {
   "cell_type": "code",
   "execution_count": 8,
   "metadata": {},
   "outputs": [
    {
     "name": "stdout",
     "output_type": "stream",
     "text": [
      "Graph named 'SteamGraph' with 14950 nodes and 70477 edges\n"
     ]
    }
   ],
   "source": [
    "print(G_adb)"
   ]
  },
  {
   "cell_type": "markdown",
   "metadata": {},
   "source": [
    "### AQL Test"
   ]
  },
  {
   "cell_type": "code",
   "execution_count": 9,
   "metadata": {},
   "outputs": [
    {
     "name": "stdout",
     "output_type": "stream",
     "text": [
      "Available collections:\n",
      "_analyzers\n",
      "_queues\n",
      "_aqlfunctions\n",
      "Users\n",
      "_jobs\n",
      "Games\n",
      "_appbundles\n",
      "_graphs\n",
      "_apps\n",
      "plays\n",
      "_frontend\n",
      "\n",
      "Graph collections:\n",
      "[{'edge_collection': 'plays', 'from_vertex_collections': ['Users'], 'to_vertex_collections': ['Games']}]\n"
     ]
    }
   ],
   "source": [
    "# First, let's check what collections exist\n",
    "print(\"Available collections:\")\n",
    "for collection in db.collections():\n",
    "    print(collection['name'])\n",
    "\n",
    "# Get the graph to see its collections\n",
    "graph = db.graph('SteamGraph')\n",
    "print(\"\\nGraph collections:\")\n",
    "print(graph.edge_definitions())"
   ]
  },
  {
   "cell_type": "code",
   "execution_count": 10,
   "metadata": {},
   "outputs": [
    {
     "name": "stdout",
     "output_type": "stream",
     "text": [
      "Sample Users Nodes:\n",
      "{'_key': '187533357', '_id': 'Users/187533357', '_rev': '_jPaYbhm-AM', 'type': 'Users', 'steamid': 187533357}\n",
      "{'_key': '56973040', '_id': 'Users/56973040', '_rev': '_jPaYbkW--c', 'type': 'Users', 'steamid': 56973040}\n",
      "{'_key': '18869916', '_id': 'Users/18869916', '_rev': '_jPaYbh2-Ah', 'type': 'Users', 'steamid': 18869916}\n",
      "----------\n",
      "Sample Plays Edges:\n",
      "{'_key': '5719', '_id': 'plays/5719', '_from': 'Users/96014467', '_to': 'Games/12034_medieval_ii_total_war_kingdoms', '_rev': '_jPaYfT2--B', 'weight': 27}\n",
      "{'_key': '23173', '_id': 'plays/23173', '_from': 'Users/55906572', '_to': 'Games/11491_mark_of_the_ninja', '_rev': '_jPaYgcy--a', 'weight': 8}\n",
      "{'_key': '31044', '_id': 'plays/31044', '_from': 'Users/92482012', '_to': 'Games/11709_alan_wake', '_rev': '_jPaYgw2--l', 'weight': 10.5}\n",
      "----------\n"
     ]
    }
   ],
   "source": [
    "\n",
    "\n",
    "# -----------------------------------------------------------\n",
    "# 1. Query 3 random nodes from the Users collection.\n",
    "# -----------------------------------------------------------\n",
    "result_cursor = G_adb.query(\"\"\"\n",
    "    FOR node IN Users\n",
    "        SORT RAND()\n",
    "        LIMIT 3\n",
    "        RETURN node\n",
    "\"\"\")\n",
    "print(\"Sample Users Nodes:\")\n",
    "for node in result_cursor:\n",
    "    print(node)\n",
    "print('-'*10)\n",
    "\n",
    "# -----------------------------------------------------------\n",
    "# 2. Query 3 random edges from the plays edge collection.\n",
    "# -----------------------------------------------------------\n",
    "result_cursor = G_adb.query(\"\"\"\n",
    "    FOR edge IN plays\n",
    "        SORT RAND()\n",
    "        LIMIT 3\n",
    "        RETURN edge\n",
    "\"\"\")\n",
    "print(\"Sample Plays Edges:\")\n",
    "for edge in result_cursor:\n",
    "    print(edge)\n",
    "print('-'*10)\n"
   ]
  },
  {
   "cell_type": "markdown",
   "metadata": {},
   "source": [
    "### Agent"
   ]
  },
  {
   "cell_type": "code",
   "execution_count": 11,
   "metadata": {},
   "outputs": [],
   "source": [
    "arango_graph = ArangoGraph(db)\n"
   ]
  },
  {
   "cell_type": "code",
   "execution_count": 12,
   "metadata": {},
   "outputs": [
    {
     "data": {
      "image/png": "[encoded data removed]",
      "text/plain": [
       "<IPython.core.display.Image object>"
      ]
     },
     "metadata": {},
     "output_type": "display_data"
    }
   ],
   "source": [
    "agent = GraphAgent(arango_graph, G_adb)\n"
   ]
  },
  {
   "cell_type": "code",
   "execution_count": 13,
   "metadata": {},
   "outputs": [
    {
     "name": "stdout",
     "output_type": "stream",
     "text": [
      "\n",
      "Processing Agent State:\n",
      "{ 'messages': [ HumanMessage(content='Total number of games in the graph', additional_kwargs={}, response_metadata={}, id='976b0f48-3934-4a3a-837d-8a03337fd446')],\n",
      "  'user_query': 'Total number of games in the graph'}\n",
      "\n",
      "\n",
      "\u001b[1m> Entering new ArangoGraphQAChain chain...\u001b[0m\n",
      "AQL Query (1):\u001b[32;1m\u001b[1;3m\n",
      "WITH Games\n",
      "FOR game IN Games COLLECT WITH COUNT INTO length RETURN length\n",
      "\u001b[0m\n",
      "AQL Result:\n",
      "\u001b[32;1m\u001b[1;3m[3600]\u001b[0m\n",
      "\n",
      "\u001b[1m> Finished chain.\u001b[0m\n",
      "\n",
      "Processing Agent State:\n",
      "{ 'messages': [ HumanMessage(content='Total number of games in the graph', additional_kwargs={}, response_metadata={}, id='976b0f48-3934-4a3a-837d-8a03337fd446'),\n",
      "                AIMessage(content='To find the total number of games in the graph, we need to query the \"Games\" collection to count the number of documents (each representing a game). Here is the plan:\\n\\n1. Use the `query_processor` tool to query the \"Games\" collection and count the total number of documents.\\n\\nLet\\'s execute this plan.', additional_kwargs={'tool_calls': [{'id': 'call_rAHiIKtn2zFu0jJqxRw36D2o', 'function': {'arguments': '{\"__arg1\":\"FOR game IN Games COLLECT WITH COUNT INTO length RETURN length\"}', 'name': 'query_processor'}, 'type': 'function'}], 'refusal': None}, response_metadata={'token_usage': {'completion_tokens': 96, 'prompt_tokens': 710, 'total_tokens': 806, 'completion_tokens_details': {'accepted_prediction_tokens': 0, 'audio_tokens': 0, 'reasoning_tokens': 0, 'rejected_prediction_tokens': 0}, 'prompt_tokens_details': {'audio_tokens': 0, 'cached_tokens': 0}}, 'model_name': 'gpt-4o-2024-08-06', 'system_fingerprint': 'fp_523b9b6e5f', 'finish_reason': 'tool_calls', 'logprobs': None}, id='run-928636f6-e0ef-476c-a902-15a698e312ec-0', tool_calls=[{'name': 'query_processor', 'args': {'__arg1': 'FOR game IN Games COLLECT WITH COUNT INTO length RETURN length'}, 'id': 'call_rAHiIKtn2zFu0jJqxRw36D2o', 'type': 'tool_call'}], usage_metadata={'input_tokens': 710, 'output_tokens': 96, 'total_tokens': 806, 'input_token_details': {'audio': 0, 'cache_read': 0}, 'output_token_details': {'audio': 0, 'reasoning': 0}}),\n",
      "                ToolMessage(content='The total number of games in the database is 3,600.', name='query_processor', id='213f55e7-1191-4647-af90-be919ef7497f', tool_call_id='call_rAHiIKtn2zFu0jJqxRw36D2o')],\n",
      "  'user_query': 'Total number of games in the graph'}\n",
      "\n",
      "Debug - Final State:\n",
      "Number of messages: 5\n",
      "\n",
      "Message 1:\n",
      "Type: HumanMessage\n",
      "Content: Total number of games in the graph\n",
      "\n",
      "Message 2:\n",
      "Type: AIMessage\n",
      "Content: To find the total number of games in the graph, we need to query the \"Games\" collection to count the number of documents (each representing a game). Here is the plan:\n",
      "\n",
      "1. Use the `query_processor` tool to query the \"Games\" collection and count the total number of documents.\n",
      "\n",
      "Let's execute this plan.\n",
      "Tool Calls:\n",
      "- Tool: query_processor\n",
      "  Arguments: {}\n",
      "\n",
      "Message 3:\n",
      "Type: ToolMessage\n",
      "Content: The total number of games in the database is 3,600.\n",
      "\n",
      "Message 4:\n",
      "Type: AIMessage\n",
      "Content: The total number of games in the graph is 3,600.\n",
      "\n",
      "Message 5:\n",
      "Type: HumanMessage\n",
      "Content: Visulaization Done\n",
      "Final Answer:\n",
      "Visulaization Done\n"
     ]
    },
    {
     "data": {
      "text/plain": [
       "'Visulaization Done'"
      ]
     },
     "execution_count": 13,
     "metadata": {},
     "output_type": "execute_result"
    }
   ],
   "source": [
    "agent.query_graph(\"Total number of games in the graph\")"
   ]
  },
  {
   "cell_type": "code",
   "execution_count": 13,
   "metadata": {},
   "outputs": [
    {
     "name": "stdout",
     "output_type": "stream",
     "text": [
      "\n",
      "Processing Agent State:\n",
      "{ 'messages': [ HumanMessage(content='Find 2nd and 4th Most influential game in the graph and its number of users who played both of them', additional_kwargs={}, response_metadata={}, id='556cf595-8fce-4ece-8768-ac9c6848bbb4')],\n",
      "  'user_query': 'Find 2nd and 4th Most influential game in the graph and its '\n",
      "                'number of users who played both of them'}\n",
      "Netwrokx Query received:\n",
      "Find the centrality of games in the graph to identify the 2nd and 4th most influential games.\n",
      "----------\n",
      "1) Generating NetworkX code\n",
      "----------\n",
      "import networkx as nx\n",
      "\n",
      "# Calculate the degree centrality for the games in the graph\n",
      "degree_centrality = nx.degree_centrality(G_adb)\n",
      "\n",
      "# Filter out only the nodes that are games\n",
      "games_centrality = {node: centrality for node, centrality in degree_centrality.items() if G_adb.nodes[node]['type'] == 'Games'}\n",
      "\n",
      "# Sort the games by their centrality in descending order\n",
      "sorted_games = sorted(games_centrality.items(), key=lambda item: item[1], reverse=True)\n",
      "\n",
      "# Extract the 2nd and 4th most influential games\n",
      "second_most_influential_game = sorted_games[1][0] if len(sorted_games) > 1 else None\n",
      "fourth_most_influential_game = sorted_games[3][0] if len(sorted_games) > 3 else None\n",
      "\n",
      "# Prepare the final result\n",
      "FINAL_RESULT = (second_most_influential_game, fourth_most_influential_game)\n",
      "----------\n",
      "\n",
      "2) Executing NetworkX code\n"
     ]
    },
    {
     "name": "stderr",
     "output_type": "stream",
     "text": [
      "[21:22:06 -0600] [INFO]: Graph 'SteamGraph' load took 2.775132179260254s\n"
     ]
    },
    {
     "name": "stdout",
     "output_type": "stream",
     "text": [
      "----------\n",
      "FINAL_RESULT: ('Games/11359_team_fortress_2', 'Games/11590_unturned')\n",
      "----------\n",
      "3) Formulating final answer\n",
      "\n",
      "Processing Agent State:\n",
      "{ 'messages': [ HumanMessage(content='Find 2nd and 4th Most influential game in the graph and its number of users who played both of them', additional_kwargs={}, response_metadata={}, id='556cf595-8fce-4ece-8768-ac9c6848bbb4'),\n",
      "                AIMessage(content=\"To address your query, I will follow these steps:\\n\\n1. **Identify the Most Influential Games**: Use the `network_analyzer` tool to determine the centrality of games in the graph, which will help identify the 2nd and 4th most influential games.\\n   \\n2. **Find Users Who Played Both Games**: Once the 2nd and 4th most influential games are identified, use the `query_processor` tool to find the number of users who have played both games.\\n\\nLet's start with step 1.\", additional_kwargs={'tool_calls': [{'id': 'call_pX5dBcbhpfld90YM04G7Up1f', 'function': {'arguments': '{\"__arg1\":\"Find the centrality of games in the graph to identify the 2nd and 4th most influential games.\"}', 'name': 'network_analyzer'}, 'type': 'function'}], 'refusal': None}, response_metadata={'token_usage': {'completion_tokens': 152, 'prompt_tokens': 258, 'total_tokens': 410, 'completion_tokens_details': {'accepted_prediction_tokens': 0, 'audio_tokens': 0, 'reasoning_tokens': 0, 'rejected_prediction_tokens': 0}, 'prompt_tokens_details': {'audio_tokens': 0, 'cached_tokens': 0}}, 'model_name': 'gpt-4o-2024-08-06', 'system_fingerprint': 'fp_523b9b6e5f', 'finish_reason': 'tool_calls', 'logprobs': None}, id='run-c3b16519-b62e-4063-8960-5fbce46fd8ee-0', tool_calls=[{'name': 'network_analyzer', 'args': {'__arg1': 'Find the centrality of games in the graph to identify the 2nd and 4th most influential games.'}, 'id': 'call_pX5dBcbhpfld90YM04G7Up1f', 'type': 'tool_call'}], usage_metadata={'input_tokens': 258, 'output_tokens': 152, 'total_tokens': 410, 'input_token_details': {'audio': 0, 'cache_read': 0}, 'output_token_details': {'audio': 0, 'reasoning': 0}}),\n",
      "                ToolMessage(content='The 2nd most influential game in the graph is \"Team Fortress 2\" and the 4th most influential game is \"Unturned.\"', name='network_analyzer', id='e1fe63b8-367f-4bc1-8841-3cc786097e58', tool_call_id='call_pX5dBcbhpfld90YM04G7Up1f')],\n",
      "  'user_query': 'Find 2nd and 4th Most influential game in the graph and its '\n",
      "                'number of users who played both of them'}\n",
      "\n",
      "\n",
      "\u001b[1m> Entering new ArangoGraphQAChain chain...\u001b[0m\n",
      "AQL Query (1):\u001b[32;1m\u001b[1;3m\n",
      "WITH Users, Games, plays\n",
      "\n",
      "LET teamFortress2 = FIRST(\n",
      "    FOR game IN Games\n",
      "        FILTER game.GameName == 'Team Fortress 2'\n",
      "        RETURN game._id\n",
      ")\n",
      "\n",
      "LET unturned = FIRST(\n",
      "    FOR game IN Games\n",
      "        FILTER game.GameName == 'Unturned'\n",
      "        RETURN game._id\n",
      ")\n",
      "\n",
      "LET usersPlayedBoth = (\n",
      "    FOR user IN Users\n",
      "        LET playsTeamFortress2 = (\n",
      "            FOR play IN plays\n",
      "                FILTER play._from == user._id AND play._to == teamFortress2\n",
      "                RETURN play\n",
      "        )\n",
      "        LET playsUnturned = (\n",
      "            FOR play IN plays\n",
      "                FILTER play._from == user._id AND play._to == unturned\n",
      "                RETURN play\n",
      "        )\n",
      "        FILTER LENGTH(playsTeamFortress2) > 0 AND LENGTH(playsUnturned) > 0\n",
      "        RETURN user\n",
      ")\n",
      "\n",
      "RETURN LENGTH(usersPlayedBoth)\n",
      "\u001b[0m\n",
      "AQL Result:\n",
      "\u001b[32;1m\u001b[1;3m[500]\u001b[0m\n",
      "\n",
      "\u001b[1m> Finished chain.\u001b[0m\n",
      "\n",
      "Processing Agent State:\n",
      "{ 'messages': [ HumanMessage(content='Find 2nd and 4th Most influential game in the graph and its number of users who played both of them', additional_kwargs={}, response_metadata={}, id='556cf595-8fce-4ece-8768-ac9c6848bbb4'),\n",
      "                AIMessage(content=\"To address your query, I will follow these steps:\\n\\n1. **Identify the Most Influential Games**: Use the `network_analyzer` tool to determine the centrality of games in the graph, which will help identify the 2nd and 4th most influential games.\\n   \\n2. **Find Users Who Played Both Games**: Once the 2nd and 4th most influential games are identified, use the `query_processor` tool to find the number of users who have played both games.\\n\\nLet's start with step 1.\", additional_kwargs={'tool_calls': [{'id': 'call_pX5dBcbhpfld90YM04G7Up1f', 'function': {'arguments': '{\"__arg1\":\"Find the centrality of games in the graph to identify the 2nd and 4th most influential games.\"}', 'name': 'network_analyzer'}, 'type': 'function'}], 'refusal': None}, response_metadata={'token_usage': {'completion_tokens': 152, 'prompt_tokens': 258, 'total_tokens': 410, 'completion_tokens_details': {'accepted_prediction_tokens': 0, 'audio_tokens': 0, 'reasoning_tokens': 0, 'rejected_prediction_tokens': 0}, 'prompt_tokens_details': {'audio_tokens': 0, 'cached_tokens': 0}}, 'model_name': 'gpt-4o-2024-08-06', 'system_fingerprint': 'fp_523b9b6e5f', 'finish_reason': 'tool_calls', 'logprobs': None}, id='run-c3b16519-b62e-4063-8960-5fbce46fd8ee-0', tool_calls=[{'name': 'network_analyzer', 'args': {'__arg1': 'Find the centrality of games in the graph to identify the 2nd and 4th most influential games.'}, 'id': 'call_pX5dBcbhpfld90YM04G7Up1f', 'type': 'tool_call'}], usage_metadata={'input_tokens': 258, 'output_tokens': 152, 'total_tokens': 410, 'input_token_details': {'audio': 0, 'cache_read': 0}, 'output_token_details': {'audio': 0, 'reasoning': 0}}),\n",
      "                ToolMessage(content='The 2nd most influential game in the graph is \"Team Fortress 2\" and the 4th most influential game is \"Unturned.\"', name='network_analyzer', id='e1fe63b8-367f-4bc1-8841-3cc786097e58', tool_call_id='call_pX5dBcbhpfld90YM04G7Up1f'),\n",
      "                AIMessage(content='We have identified the 2nd and 4th most influential games in the graph:\\n\\n- 2nd Most Influential Game: \"Team Fortress 2\"\\n- 4th Most Influential Game: \"Unturned\"\\n\\nNext, let\\'s proceed to step 2, where we will find the number of users who have played both \"Team Fortress 2\" and \"Unturned.\"', additional_kwargs={'tool_calls': [{'id': 'call_Tn9RN5gn8eNkb6qdOAWVpC2O', 'function': {'arguments': '{\"__arg1\":\"Find the number of users who have played both \\'Team Fortress 2\\' and \\'Unturned\\'.\"}', 'name': 'query_processor'}, 'type': 'function'}], 'refusal': None}, response_metadata={'token_usage': {'completion_tokens': 117, 'prompt_tokens': 450, 'total_tokens': 567, 'completion_tokens_details': {'accepted_prediction_tokens': 0, 'audio_tokens': 0, 'reasoning_tokens': 0, 'rejected_prediction_tokens': 0}, 'prompt_tokens_details': {'audio_tokens': 0, 'cached_tokens': 0}}, 'model_name': 'gpt-4o-2024-08-06', 'system_fingerprint': 'fp_523b9b6e5f', 'finish_reason': 'tool_calls', 'logprobs': None}, id='run-0b2af8a6-fea4-4d11-8907-2a7ad58604b1-0', tool_calls=[{'name': 'query_processor', 'args': {'__arg1': \"Find the number of users who have played both 'Team Fortress 2' and 'Unturned'.\"}, 'id': 'call_Tn9RN5gn8eNkb6qdOAWVpC2O', 'type': 'tool_call'}], usage_metadata={'input_tokens': 450, 'output_tokens': 117, 'total_tokens': 567, 'input_token_details': {'audio': 0, 'cache_read': 0}, 'output_token_details': {'audio': 0, 'reasoning': 0}}),\n",
      "                ToolMessage(content=\"Summary: There are 500 users who have played both 'Team Fortress 2' and 'Unturned'.\", name='query_processor', id='8accbba6-41d1-4f2b-9955-585e8c8f2158', tool_call_id='call_Tn9RN5gn8eNkb6qdOAWVpC2O')],\n",
      "  'user_query': 'Find 2nd and 4th Most influential game in the graph and its '\n",
      "                'number of users who played both of them'}\n",
      "\n",
      "Debug - Final State:\n",
      "Number of messages: 6\n",
      "\n",
      "Message 1:\n",
      "Type: HumanMessage\n",
      "Content: Find 2nd and 4th Most influential game in the graph and its number of users who played both of them\n",
      "\n",
      "Message 2:\n",
      "Type: AIMessage\n",
      "Content: To address your query, I will follow these steps:\n",
      "\n",
      "1. **Identify the Most Influential Games**: Use the `network_analyzer` tool to determine the centrality of games in the graph, which will help identify the 2nd and 4th most influential games.\n",
      "   \n",
      "2. **Find Users Who Played Both Games**: Once the 2nd and 4th most influential games are identified, use the `query_processor` tool to find the number of users who have played both games.\n",
      "\n",
      "Let's start with step 1.\n",
      "Tool Calls:\n",
      "- Tool: network_analyzer\n",
      "  Arguments: {}\n",
      "\n",
      "Message 3:\n",
      "Type: ToolMessage\n",
      "Content: The 2nd most influential game in the graph is \"Team Fortress 2\" and the 4th most influential game is \"Unturned.\"\n",
      "\n",
      "Message 4:\n",
      "Type: AIMessage\n",
      "Content: We have identified the 2nd and 4th most influential games in the graph:\n",
      "\n",
      "- 2nd Most Influential Game: \"Team Fortress 2\"\n",
      "- 4th Most Influential Game: \"Unturned\"\n",
      "\n",
      "Next, let's proceed to step 2, where we will find the number of users who have played both \"Team Fortress 2\" and \"Unturned.\"\n",
      "Tool Calls:\n",
      "- Tool: query_processor\n",
      "  Arguments: {}\n",
      "\n",
      "Message 5:\n",
      "Type: ToolMessage\n",
      "Content: Summary: There are 500 users who have played both 'Team Fortress 2' and 'Unturned'.\n",
      "\n",
      "Message 6:\n",
      "Type: AIMessage\n",
      "Content: The number of users who have played both \"Team Fortress 2\" and \"Unturned\" is 500. \n",
      "\n",
      "To summarize:\n",
      "- 2nd Most Influential Game: \"Team Fortress 2\"\n",
      "- 4th Most Influential Game: \"Unturned\"\n",
      "- Number of users who played both games: 500\n",
      "Final Answer:\n",
      "The number of users who have played both \"Team Fortress 2\" and \"Unturned\" is 500. \n",
      "\n",
      "To summarize:\n",
      "- 2nd Most Influential Game: \"Team Fortress 2\"\n",
      "- 4th Most Influential Game: \"Unturned\"\n",
      "- Number of users who played both games: 500\n"
     ]
    },
    {
     "data": {
      "text/plain": [
       "'The number of users who have played both \"Team Fortress 2\" and \"Unturned\" is 500. \\n\\nTo summarize:\\n- 2nd Most Influential Game: \"Team Fortress 2\"\\n- 4th Most Influential Game: \"Unturned\"\\n- Number of users who played both games: 500'"
      ]
     },
     "execution_count": 13,
     "metadata": {},
     "output_type": "execute_result"
    }
   ],
   "source": [
    "agent.query_graph(\"Find 2nd and 4th Most influential game in the graph and its number of users who played both of them\")"
   ]
  },
  {
   "cell_type": "code",
   "execution_count": null,
   "metadata": {},
   "outputs": [
    {
     "name": "stdout",
     "output_type": "stream",
     "text": [
      "\n",
      "Processing Agent State:\n",
      "{ 'messages': [ HumanMessage(content='Find the  top 10 users who played a lot  and which games they have played is common most by hours', additional_kwargs={}, response_metadata={}, id='f215f92d-4d51-4083-a4f8-0ea346a4fac7')],\n",
      "  'user_query': 'Find the  top 10 users who played a lot  and which games they '\n",
      "                'have played is common most by hours'}\n",
      "\n",
      "\n",
      "\u001b[1m> Entering new ArangoGraphQAChain chain...\u001b[0m\n",
      "AQL Query (1):\u001b[32;1m\u001b[1;3m\n",
      "WITH Users, Games, plays\n",
      "FOR user IN Users\n",
      "    LET total_hours = SUM(\n",
      "        FOR play IN plays\n",
      "            FILTER play._from == user._id\n",
      "            RETURN play.weight\n",
      "    )\n",
      "    SORT total_hours DESC\n",
      "    LIMIT 10\n",
      "    RETURN { user_id: user._key, total_hours: total_hours }\n",
      "\u001b[0m\n",
      "AQL Result:\n",
      "\u001b[32;1m\u001b[1;3m[{'user_id': '73017395', 'total_hours': 11754}, {'user_id': '10599862', 'total_hours': 11651.699999999999}, {'user_id': '100630947', 'total_hours': 10853.2}, {'user_id': '26762388', 'total_hours': 10470.100000000004}, {'user_id': '153382649', 'total_hours': 9640}, {'user_id': '43684632', 'total_hours': 9546.299999999988}, {'user_id': '48798067', 'total_hours': 9427.199999999997}, {'user_id': '52731290', 'total_hours': 9417.6}, {'user_id': '42935819', 'total_hours': 8172.9}, {'user_id': '14544587', 'total_hours': 8137.0999999999985}]\u001b[0m\n",
      "\n",
      "\u001b[1m> Finished chain.\u001b[0m\n",
      "\n",
      "Processing Agent State:\n",
      "{ 'messages': [ HumanMessage(content='Find the  top 10 users who played a lot  and which games they have played is common most by hours', additional_kwargs={}, response_metadata={}, id='f215f92d-4d51-4083-a4f8-0ea346a4fac7'),\n",
      "                AIMessage(content=\"To address your query, I will follow these steps:\\n\\n1. **Identify the Top 10 Users by Playtime**: Use a query to find the top 10 users who have spent the most hours playing games.\\n2. **Determine Common Games Played**: For these top 10 users, identify which games are most commonly played by hours.\\n\\nLet's start with step 1. I will use the query processor to find the top 10 users by playtime.\", additional_kwargs={'tool_calls': [{'id': 'call_lv3ub4SVidhcGtCAiu8CLQpV', 'function': {'arguments': '{\"__arg1\":\"SELECT user_id, SUM(hours_played) as total_hours FROM user_game_data GROUP BY user_id ORDER BY total_hours DESC LIMIT 10\"}', 'name': 'query_processor'}, 'type': 'function'}], 'refusal': None}, response_metadata={'token_usage': {'completion_tokens': 140, 'prompt_tokens': 256, 'total_tokens': 396, 'completion_tokens_details': {'accepted_prediction_tokens': 0, 'audio_tokens': 0, 'reasoning_tokens': 0, 'rejected_prediction_tokens': 0}, 'prompt_tokens_details': {'audio_tokens': 0, 'cached_tokens': 0}}, 'model_name': 'gpt-4o-2024-08-06', 'system_fingerprint': 'fp_523b9b6e5f', 'finish_reason': 'tool_calls', 'logprobs': None}, id='run-371ed02c-8f63-44f9-aa6a-912ba7886cde-0', tool_calls=[{'name': 'query_processor', 'args': {'__arg1': 'SELECT user_id, SUM(hours_played) as total_hours FROM user_game_data GROUP BY user_id ORDER BY total_hours DESC LIMIT 10'}, 'id': 'call_lv3ub4SVidhcGtCAiu8CLQpV', 'type': 'tool_call'}], usage_metadata={'input_tokens': 256, 'output_tokens': 140, 'total_tokens': 396, 'input_token_details': {'audio': 0, 'cache_read': 0}, 'output_token_details': {'audio': 0, 'reasoning': 0}}),\n",
      "                ToolMessage(content=\"The top 10 users with the highest total hours played on Steam are as follows:\\n\\n1. User with ID '73017395' has played for a total of 11,754 hours.\\n2. User with ID '10599862' has played for a total of 11,651.7 hours.\\n3. User with ID '100630947' has played for a total of 10,853.2 hours.\\n4. User with ID '26762388' has played for a total of 10,470.1 hours.\\n5. User with ID '153382649' has played for a total of 9,640 hours.\\n6. User with ID '43684632' has played for a total of 9,546.3 hours.\\n7. User with ID '48798067' has played for a total of 9,427.2 hours.\\n8. User with ID '52731290' has played for a total of 9,417.6 hours.\\n9. User with ID '42935819' has played for a total of 8,172.9 hours.\\n10. User with ID '14544587' has played for a total of 8,137.1 hours.\\n\\nThese users have the highest cumulative playtime across all games in the database.\", name='query_processor', id='22a044a6-13dc-43c5-bd80-c21813a53f86', tool_call_id='call_lv3ub4SVidhcGtCAiu8CLQpV')],\n",
      "  'user_query': 'Find the  top 10 users who played a lot  and which games they '\n",
      "                'have played is common most by hours'}\n",
      "\n",
      "\n",
      "\u001b[1m> Entering new ArangoGraphQAChain chain...\u001b[0m\n",
      "AQL Query (1):\u001b[32;1m\u001b[1;3m\n",
      "WITH Users, Games, plays\n",
      "FOR user IN Users\n",
      "  FILTER user.steamid IN [73017395, 10599862, 100630947, 26762388, 153382649, 43684632, 48798067, 52731290, 42935819, 14544587]\n",
      "  FOR play IN plays\n",
      "    FILTER play._from == user._id\n",
      "    COLLECT game_id = play._to INTO grouped\n",
      "    LET total_hours = SUM(grouped[*].play.weight)\n",
      "    SORT total_hours DESC\n",
      "    RETURN { game_id, total_hours }\n",
      "\u001b[0m\n",
      "AQL Result:\n",
      "\u001b[32;1m\u001b[1;3m[{'game_id': 'Games/11378_sid_meier_s_civilization_v', 'total_hours': 13197}, {'game_id': 'Games/11371_dota_2', 'total_hours': 10790.4}, {'game_id': 'Games/11359_team_fortress_2', 'total_hours': 9724.7}, {'game_id': 'Games/11389_counter_strike_global_offensive', 'total_hours': 5434.6}, {'game_id': 'Games/11624_mount_blade_warband', 'total_hours': 4962}, {'game_id': 'Games/13012_baldur_s_gate_ii_enhanced_edition', 'total_hours': 3970}, {'game_id': 'Games/12172_football_manager_2014', 'total_hours': 3382}, {'game_id': 'Games/12438_baldur_s_gate_enhanced_edition', 'total_hours': 2630}, {'game_id': 'Games/12146_football_manager_2015', 'total_hours': 2576}, {'game_id': 'Games/12145_football_manager_2012', 'total_hours': 2375}]\u001b[0m\n",
      "\n",
      "\u001b[1m> Finished chain.\u001b[0m\n",
      "\n",
      "Processing Agent State:\n",
      "{ 'messages': [ HumanMessage(content='Find the  top 10 users who played a lot  and which games they have played is common most by hours', additional_kwargs={}, response_metadata={}, id='f215f92d-4d51-4083-a4f8-0ea346a4fac7'),\n",
      "                AIMessage(content=\"To address your query, I will follow these steps:\\n\\n1. **Identify the Top 10 Users by Playtime**: Use a query to find the top 10 users who have spent the most hours playing games.\\n2. **Determine Common Games Played**: For these top 10 users, identify which games are most commonly played by hours.\\n\\nLet's start with step 1. I will use the query processor to find the top 10 users by playtime.\", additional_kwargs={'tool_calls': [{'id': 'call_lv3ub4SVidhcGtCAiu8CLQpV', 'function': {'arguments': '{\"__arg1\":\"SELECT user_id, SUM(hours_played) as total_hours FROM user_game_data GROUP BY user_id ORDER BY total_hours DESC LIMIT 10\"}', 'name': 'query_processor'}, 'type': 'function'}], 'refusal': None}, response_metadata={'token_usage': {'completion_tokens': 140, 'prompt_tokens': 256, 'total_tokens': 396, 'completion_tokens_details': {'accepted_prediction_tokens': 0, 'audio_tokens': 0, 'reasoning_tokens': 0, 'rejected_prediction_tokens': 0}, 'prompt_tokens_details': {'audio_tokens': 0, 'cached_tokens': 0}}, 'model_name': 'gpt-4o-2024-08-06', 'system_fingerprint': 'fp_523b9b6e5f', 'finish_reason': 'tool_calls', 'logprobs': None}, id='run-371ed02c-8f63-44f9-aa6a-912ba7886cde-0', tool_calls=[{'name': 'query_processor', 'args': {'__arg1': 'SELECT user_id, SUM(hours_played) as total_hours FROM user_game_data GROUP BY user_id ORDER BY total_hours DESC LIMIT 10'}, 'id': 'call_lv3ub4SVidhcGtCAiu8CLQpV', 'type': 'tool_call'}], usage_metadata={'input_tokens': 256, 'output_tokens': 140, 'total_tokens': 396, 'input_token_details': {'audio': 0, 'cache_read': 0}, 'output_token_details': {'audio': 0, 'reasoning': 0}}),\n",
      "                ToolMessage(content=\"The top 10 users with the highest total hours played on Steam are as follows:\\n\\n1. User with ID '73017395' has played for a total of 11,754 hours.\\n2. User with ID '10599862' has played for a total of 11,651.7 hours.\\n3. User with ID '100630947' has played for a total of 10,853.2 hours.\\n4. User with ID '26762388' has played for a total of 10,470.1 hours.\\n5. User with ID '153382649' has played for a total of 9,640 hours.\\n6. User with ID '43684632' has played for a total of 9,546.3 hours.\\n7. User with ID '48798067' has played for a total of 9,427.2 hours.\\n8. User with ID '52731290' has played for a total of 9,417.6 hours.\\n9. User with ID '42935819' has played for a total of 8,172.9 hours.\\n10. User with ID '14544587' has played for a total of 8,137.1 hours.\\n\\nThese users have the highest cumulative playtime across all games in the database.\", name='query_processor', id='22a044a6-13dc-43c5-bd80-c21813a53f86', tool_call_id='call_lv3ub4SVidhcGtCAiu8CLQpV'),\n",
      "                AIMessage(content=\"We have identified the top 10 users with the highest total hours played. Now, let's proceed to step 2, where we will determine which games are most commonly played by these users based on hours. I will use the query processor to find the common games played by these top users.\", additional_kwargs={'tool_calls': [{'id': 'call_xHuq81UeIFLMSNcsktwybFB7', 'function': {'arguments': '{\"__arg1\":\"SELECT game_id, SUM(hours_played) as total_hours FROM user_game_data WHERE user_id IN (\\'73017395\\', \\'10599862\\', \\'100630947\\', \\'26762388\\', \\'153382649\\', \\'43684632\\', \\'48798067\\', \\'52731290\\', \\'42935819\\', \\'14544587\\') GROUP BY game_id ORDER BY total_hours DESC\"}', 'name': 'query_processor'}, 'type': 'function'}], 'refusal': None}, response_metadata={'token_usage': {'completion_tokens': 155, 'prompt_tokens': 673, 'total_tokens': 828, 'completion_tokens_details': {'accepted_prediction_tokens': 0, 'audio_tokens': 0, 'reasoning_tokens': 0, 'rejected_prediction_tokens': 0}, 'prompt_tokens_details': {'audio_tokens': 0, 'cached_tokens': 0}}, 'model_name': 'gpt-4o-2024-08-06', 'system_fingerprint': 'fp_523b9b6e5f', 'finish_reason': 'tool_calls', 'logprobs': None}, id='run-70c3bd8e-d121-499f-9b43-3d412a1b6f41-0', tool_calls=[{'name': 'query_processor', 'args': {'__arg1': \"SELECT game_id, SUM(hours_played) as total_hours FROM user_game_data WHERE user_id IN ('73017395', '10599862', '100630947', '26762388', '153382649', '43684632', '48798067', '52731290', '42935819', '14544587') GROUP BY game_id ORDER BY total_hours DESC\"}, 'id': 'call_xHuq81UeIFLMSNcsktwybFB7', 'type': 'tool_call'}], usage_metadata={'input_tokens': 673, 'output_tokens': 155, 'total_tokens': 828, 'input_token_details': {'audio': 0, 'cache_read': 0}, 'output_token_details': {'audio': 0, 'reasoning': 0}}),\n",
      "                ToolMessage(content='The query results show the total hours played for various games by a group of users with specific Steam IDs. The game with the highest total playtime is \"Sid Meier\\'s Civilization V\" with 13,197 hours. This is followed by \"Dota 2\" with 10,790.4 hours and \"Team Fortress 2\" with 9,724.7 hours. Other notable games include \"Counter-Strike: Global Offensive\" with 5,434.6 hours and \"Mount & Blade: Warband\" with 4,962 hours. The list continues with several other games, each with significant playtime, indicating the preferences and gaming habits of the users in question.', name='query_processor', id='33cd96db-331a-48e5-b1cf-12866dc9ea31', tool_call_id='call_xHuq81UeIFLMSNcsktwybFB7')],\n",
      "  'user_query': 'Find the  top 10 users who played a lot  and which games they '\n",
      "                'have played is common most by hours'}\n",
      "\n",
      "Debug - Final State:\n",
      "Number of messages: 6\n",
      "\n",
      "Message 1:\n",
      "Type: HumanMessage\n",
      "Content: Find the  top 10 users who played a lot  and which games they have played is common most by hours\n",
      "\n",
      "Message 2:\n",
      "Type: AIMessage\n",
      "Content: To address your query, I will follow these steps:\n",
      "\n",
      "1. **Identify the Top 10 Users by Playtime**: Use a query to find the top 10 users who have spent the most hours playing games.\n",
      "2. **Determine Common Games Played**: For these top 10 users, identify which games are most commonly played by hours.\n",
      "\n",
      "Let's start with step 1. I will use the query processor to find the top 10 users by playtime.\n",
      "Tool Calls:\n",
      "- Tool: query_processor\n",
      "  Arguments: {}\n",
      "\n",
      "Message 3:\n",
      "Type: ToolMessage\n",
      "Content: The top 10 users with the highest total hours played on Steam are as follows:\n",
      "\n",
      "1. User with ID '73017395' has played for a total of 11,754 hours.\n",
      "2. User with ID '10599862' has played for a total of 11,651.7 hours.\n",
      "3. User with ID '100630947' has played for a total of 10,853.2 hours.\n",
      "4. User with ID '26762388' has played for a total of 10,470.1 hours.\n",
      "5. User with ID '153382649' has played for a total of 9,640 hours.\n",
      "6. User with ID '43684632' has played for a total of 9,546.3 hours.\n",
      "7. User with ID '48798067' has played for a total of 9,427.2 hours.\n",
      "8. User with ID '52731290' has played for a total of 9,417.6 hours.\n",
      "9. User with ID '42935819' has played for a total of 8,172.9 hours.\n",
      "10. User with ID '14544587' has played for a total of 8,137.1 hours.\n",
      "\n",
      "These users have the highest cumulative playtime across all games in the database.\n",
      "\n",
      "Message 4:\n",
      "Type: AIMessage\n",
      "Content: We have identified the top 10 users with the highest total hours played. Now, let's proceed to step 2, where we will determine which games are most commonly played by these users based on hours. I will use the query processor to find the common games played by these top users.\n",
      "Tool Calls:\n",
      "- Tool: query_processor\n",
      "  Arguments: {}\n",
      "\n",
      "Message 5:\n",
      "Type: ToolMessage\n",
      "Content: The query results show the total hours played for various games by a group of users with specific Steam IDs. The game with the highest total playtime is \"Sid Meier's Civilization V\" with 13,197 hours. This is followed by \"Dota 2\" with 10,790.4 hours and \"Team Fortress 2\" with 9,724.7 hours. Other notable games include \"Counter-Strike: Global Offensive\" with 5,434.6 hours and \"Mount & Blade: Warband\" with 4,962 hours. The list continues with several other games, each with significant playtime, indicating the preferences and gaming habits of the users in question.\n",
      "\n",
      "Message 6:\n",
      "Type: AIMessage\n",
      "Content: Here are the top games most commonly played by the top 10 users based on total hours:\n",
      "\n",
      "1. **Sid Meier's Civilization V**: 13,197 hours\n",
      "2. **Dota 2**: 10,790.4 hours\n",
      "3. **Team Fortress 2**: 9,724.7 hours\n",
      "4. **Counter-Strike: Global Offensive**: 5,434.6 hours\n",
      "5. **Mount & Blade: Warband**: 4,962 hours\n",
      "\n",
      "These games are the most popular among the top 10 users with the highest playtime, indicating their gaming preferences.\n",
      "Final Answer:\n",
      "Here are the top games most commonly played by the top 10 users based on total hours:\n",
      "\n",
      "1. **Sid Meier's Civilization V**: 13,197 hours\n",
      "2. **Dota 2**: 10,790.4 hours\n",
      "3. **Team Fortress 2**: 9,724.7 hours\n",
      "4. **Counter-Strike: Global Offensive**: 5,434.6 hours\n",
      "5. **Mount & Blade: Warband**: 4,962 hours\n",
      "\n",
      "These games are the most popular among the top 10 users with the highest playtime, indicating their gaming preferences.\n"
     ]
    },
    {
     "data": {
      "text/plain": [
       "\"Here are the top games most commonly played by the top 10 users based on total hours:\\n\\n1. **Sid Meier's Civilization V**: 13,197 hours\\n2. **Dota 2**: 10,790.4 hours\\n3. **Team Fortress 2**: 9,724.7 hours\\n4. **Counter-Strike: Global Offensive**: 5,434.6 hours\\n5. **Mount & Blade: Warband**: 4,962 hours\\n\\nThese games are the most popular among the top 10 users with the highest playtime, indicating their gaming preferences.\""
      ]
     },
     "execution_count": 14,
     "metadata": {},
     "output_type": "execute_result"
    }
   ],
   "source": [
    "agent.query_graph(\"Find the  top 10 users who played a lot  and which games they have played is common most by hours\")"
   ]
  },
  {
   "cell_type": "code",
   "execution_count": null,
   "metadata": {},
   "outputs": [],
   "source": []
  }
 ],
 "metadata": {
  "kernelspec": {
   "display_name": "Arrongo",
   "language": "python",
   "name": "python3"
  },
  "language_info": {
   "codemirror_mode": {
    "name": "ipython",
    "version": 3
   },
   "file_extension": ".py",
   "mimetype": "text/x-python",
   "name": "python",
   "nbconvert_exporter": "python",
   "pygments_lexer": "ipython3",
   "version": "3.10.16"
  }
 },
 "nbformat": 4,
 "nbformat_minor": 2
}
