{
 "cells": [
  {
   "cell_type": "code",
   "execution_count": 1,
   "metadata": {},
   "outputs": [],
   "source": [
    "# # Enable remote debugging\n",
    "# import debugpy\n",
    "# import os\n",
    "\n",
    "# # Only enable debugging if not already enabled\n",
    "# if not debugpy.is_client_connected():\n",
    "#     debugpy.listen((\"localhost\", 5678))\n",
    "#     print(\"Waiting for debugger to attach...\")\n",
    "#     debugpy.wait_for_client()\n",
    "#     print(\"Debugger attached!\")"
   ]
  },
  {
   "cell_type": "code",
   "execution_count": 2,
   "metadata": {},
   "outputs": [
    {
     "name": "stderr",
     "output_type": "stream",
     "text": [
      "[01:43:38 -0600] [INFO]: NetworkX-cuGraph is unavailable: No module named 'nx_cugraph'.\n"
     ]
    }
   ],
   "source": [
    "import networkx as nx\n",
    "import nx_arangodb as nxadb\n",
    "\n",
    "from arango import ArangoClient\n",
    "\n",
    "import pandas as pd\n",
    "import numpy as np\n",
    "import networkx as nx\n",
    "import matplotlib.pyplot as plt\n",
    "from random import randint\n",
    "import re\n",
    "\n",
    "from langgraph.prebuilt import create_react_agent\n",
    "from langgraph.checkpoint.memory import MemorySaver\n",
    "from langchain_openai import ChatOpenAI\n",
    "from langchain_community.graphs import ArangoGraph\n",
    "from langchain_community.chains.graph_qa.arangodb import ArangoGraphQAChain\n",
    "from langchain_core.tools import tool\n",
    "\n",
    "\n",
    "import gradio as gr\n",
    "from dotenv import load_dotenv\n",
    "import os\n",
    "from agent_utils import GraphAgent\n",
    "import pprint\n",
    "\n",
    "\n",
    "import webbrowser\n",
    "import threading\n",
    "from pathlib import Path\n",
    "\n"
   ]
  },
  {
   "cell_type": "code",
   "execution_count": 3,
   "metadata": {},
   "outputs": [
    {
     "data": {
      "text/plain": [
       "True"
      ]
     },
     "execution_count": 3,
     "metadata": {},
     "output_type": "execute_result"
    }
   ],
   "source": [
    "load_dotenv()"
   ]
  },
  {
   "cell_type": "code",
   "execution_count": 4,
   "metadata": {},
   "outputs": [],
   "source": [
    "# Access variables\n",
    "openai_key = os.getenv('OPENAI_API_KEY')\n",
    "arango_host = os.getenv('ARANGO_HOST')\n",
    "arango_user = os.getenv('ARANGO_USER')\n",
    "arango_password = os.getenv('ARANGO_PASSWORD')\n",
    "arango_db = os.getenv('ARANGO_DB')\n"
   ]
  },
  {
   "cell_type": "code",
   "execution_count": 5,
   "metadata": {},
   "outputs": [
    {
     "name": "stdout",
     "output_type": "stream",
     "text": [
      "[{'id': '10010034', 'name': '_analyzers', 'system': True, 'type': 'document', 'status': 'loaded'}, {'id': '10010038', 'name': '_apps', 'system': True, 'type': 'document', 'status': 'loaded'}, {'id': '8029306', 'name': 'Games', 'system': False, 'type': 'document', 'status': 'loaded'}, {'id': '8029307', 'name': 'plays', 'system': False, 'type': 'edge', 'status': 'loaded'}, {'id': '10010040', 'name': '_frontend', 'system': True, 'type': 'document', 'status': 'loaded'}, {'id': '10010033', 'name': '_graphs', 'system': True, 'type': 'document', 'status': 'loaded'}, {'id': '10010036', 'name': '_queues', 'system': True, 'type': 'document', 'status': 'loaded'}, {'id': '8029305', 'name': 'Users', 'system': False, 'type': 'document', 'status': 'loaded'}, {'id': '10010035', 'name': '_aqlfunctions', 'system': True, 'type': 'document', 'status': 'loaded'}, {'id': '10010037', 'name': '_jobs', 'system': True, 'type': 'document', 'status': 'loaded'}, {'id': '10010039', 'name': '_appbundles', 'system': True, 'type': 'document', 'status': 'loaded'}]\n"
     ]
    }
   ],
   "source": [
    "# Initialize the client for ArangoDB.\n",
    "client = ArangoClient(hosts=arango_host)\n",
    "db = client.db(arango_db, username=arango_user, password=arango_password)\n",
    "print(db.collections())"
   ]
  },
  {
   "cell_type": "code",
   "execution_count": 6,
   "metadata": {},
   "outputs": [
    {
     "name": "stderr",
     "output_type": "stream",
     "text": [
      "[01:43:43 -0600] [INFO]: Graph 'SteamGraph' exists.\n",
      "[01:43:43 -0600] [INFO]: Default node type set to 'Games'\n"
     ]
    },
    {
     "name": "stdout",
     "output_type": "stream",
     "text": [
      "Graph named 'SteamGraph' with 14951 nodes and 70478 edges\n"
     ]
    }
   ],
   "source": [
    "\n",
    "G_adb = nxadb.Graph(name=\"SteamGraph\", db=db)\n",
    "\n",
    "print(G_adb)"
   ]
  },
  {
   "cell_type": "code",
   "execution_count": 7,
   "metadata": {},
   "outputs": [
    {
     "name": "stdout",
     "output_type": "stream",
     "text": [
      "{'_key': 'SteamGraph', '_id': '_graphs/SteamGraph', '_rev': '_jU8NXka---', 'numberOfShards': 1, 'replicationFactor': 3, 'minReplicationFactor': 1, 'writeConcern': 1, 'isSmart': False, 'isSatellite': False, 'edgeDefinitions': [{'collection': 'plays', 'from': ['Users'], 'to': ['Games']}], 'orphanCollections': [], 'networkx': {'name': 'SteamGraph'}}\n"
     ]
    }
   ],
   "source": [
    "graph_def = db.collection(\"_graphs\").get(\"SteamGraph\")\n",
    "print(graph_def)\n"
   ]
  },
  {
   "cell_type": "code",
   "execution_count": 8,
   "metadata": {},
   "outputs": [
    {
     "name": "stdout",
     "output_type": "stream",
     "text": [
      "Users/88659639 Users/88659639\n",
      "Users/155844529 Users/155844529\n",
      "Users/192044880 Users/192044880\n",
      "Users/305130721 Users/305130721\n",
      "Games/12739_ghost_encounters_deadwood_collector_s_edition Games/12739_ghost_encounters_deadwood_collector_s_edition\n",
      "Users/175820566 Users/175820566\n",
      "Users/117106617 Users/117106617\n",
      "Users/240135073 Users/240135073\n",
      "Users/99074324 Users/99074324\n",
      "Users/29777760 Users/29777760\n"
     ]
    }
   ],
   "source": [
    "for node, data in list(G_adb.nodes(data=True))[:10]:\n",
    "    print(node, data.get(\"_id\"))\n"
   ]
  },
  {
   "cell_type": "code",
   "execution_count": 9,
   "metadata": {},
   "outputs": [
    {
     "name": "stdout",
     "output_type": "stream",
     "text": [
      "Graph named 'SteamGraph' with 14951 nodes and 70478 edges\n"
     ]
    }
   ],
   "source": [
    "print(G_adb)"
   ]
  },
  {
   "cell_type": "markdown",
   "metadata": {},
   "source": [
    "### AQL Test"
   ]
  },
  {
   "cell_type": "code",
   "execution_count": 10,
   "metadata": {},
   "outputs": [
    {
     "name": "stdout",
     "output_type": "stream",
     "text": [
      "Available collections:\n",
      "Games\n",
      "_analyzers\n",
      "_apps\n",
      "_graphs\n",
      "_frontend\n",
      "plays\n",
      "Users\n",
      "_queues\n",
      "_aqlfunctions\n",
      "_jobs\n",
      "_appbundles\n",
      "\n",
      "Graph collections:\n",
      "[{'edge_collection': 'plays', 'from_vertex_collections': ['Users'], 'to_vertex_collections': ['Games']}]\n"
     ]
    }
   ],
   "source": [
    "# First, let's check what collections exist\n",
    "print(\"Available collections:\")\n",
    "for collection in db.collections():\n",
    "    print(collection['name'])\n",
    "\n",
    "# Get the graph to see its collections\n",
    "graph = db.graph('SteamGraph')\n",
    "print(\"\\nGraph collections:\")\n",
    "print(graph.edge_definitions())"
   ]
  },
  {
   "cell_type": "code",
   "execution_count": 11,
   "metadata": {},
   "outputs": [
    {
     "name": "stdout",
     "output_type": "stream",
     "text": [
      "Sample Users Nodes:\n",
      "{'_key': '208433656', '_id': 'Users/208433656', '_rev': '_jT6zLKG--j', 'type': 'Users', 'steamid': 208433656}\n",
      "{'_key': '191933539', '_id': 'Users/191933539', '_rev': '_jT6zLWy--n', 'type': 'Users', 'steamid': 191933539}\n",
      "{'_key': '108575170', '_id': 'Users/108575170', '_rev': '_jT6zK3S--m', 'type': 'Users', 'steamid': 108575170}\n",
      "----------\n",
      "Sample Plays Edges:\n",
      "{'_key': '19893', '_id': 'plays/19893', '_from': 'Users/33013552', '_to': 'Games/11555_outlast', '_rev': '_jT6zTS---l', 'weight': 0.3}\n",
      "{'_key': '29960', '_id': 'plays/29960', '_from': 'Users/99264709', '_to': 'Games/11368_realm_of_the_mad_god', '_rev': '_jT6zUE---O', 'weight': 23}\n",
      "{'_key': '43346', '_id': 'plays/43346', '_from': 'Users/106054679', '_to': 'Games/11432_ftl_faster_than_light', '_rev': '_jT6zVA2--Y', 'weight': 0.2}\n",
      "----------\n"
     ]
    }
   ],
   "source": [
    "\n",
    "\n",
    "# -----------------------------------------------------------\n",
    "# 1. Query 3 random nodes from the Users collection.\n",
    "# -----------------------------------------------------------\n",
    "result_cursor = G_adb.query(\"\"\"\n",
    "    FOR node IN Users\n",
    "        SORT RAND()\n",
    "        LIMIT 3\n",
    "        RETURN node\n",
    "\"\"\")\n",
    "print(\"Sample Users Nodes:\")\n",
    "for node in result_cursor:\n",
    "    print(node)\n",
    "print('-'*10)\n",
    "\n",
    "# -----------------------------------------------------------\n",
    "# 2. Query 3 random edges from the plays edge collection.\n",
    "# -----------------------------------------------------------\n",
    "result_cursor = G_adb.query(\"\"\"\n",
    "    FOR edge IN plays\n",
    "        SORT RAND()\n",
    "        LIMIT 3\n",
    "        RETURN edge\n",
    "\"\"\")\n",
    "print(\"Sample Plays Edges:\")\n",
    "for edge in result_cursor:\n",
    "    print(edge)\n",
    "print('-'*10)\n"
   ]
  },
  {
   "cell_type": "markdown",
   "metadata": {},
   "source": [
    "### Agent"
   ]
  },
  {
   "cell_type": "code",
   "execution_count": 12,
   "metadata": {},
   "outputs": [],
   "source": [
    "arango_graph = ArangoGraph(db)\n"
   ]
  },
  {
   "cell_type": "code",
   "execution_count": 13,
   "metadata": {},
   "outputs": [
    {
     "name": "stdout",
     "output_type": "stream",
     "text": [
      "{'Collection Schema': [{'collection_name': 'Games',\n",
      "                        'collection_type': 'document',\n",
      "                        'document_properties': [{'name': '_key', 'type': 'str'},\n",
      "                                                {'name': '_id', 'type': 'str'},\n",
      "                                                {'name': '_rev', 'type': 'str'},\n",
      "                                                {'name': 'type', 'type': 'str'},\n",
      "                                                {'name': 'GameName',\n",
      "                                                 'type': 'str'}],\n",
      "                        'example_document': {'GameName': 'The Elder Scrolls V '\n",
      "                                                         'Skyrim',\n",
      "                                             '_id': 'Games/11350_the_elder_scrolls_v_skyrim',\n",
      "                                             '_key': '11350_the_elder_scrolls_v_skyrim',\n",
      "                                             '_rev': '_jT6zNTy---',\n",
      "                                             'type': 'Games'}},\n",
      "                       {'collection_name': 'plays',\n",
      "                        'collection_type': 'edge',\n",
      "                        'edge_properties': [{'name': '_key', 'type': 'str'},\n",
      "                                            {'name': '_id', 'type': 'str'},\n",
      "                                            {'name': '_from', 'type': 'str'},\n",
      "                                            {'name': '_to', 'type': 'str'},\n",
      "                                            {'name': '_rev', 'type': 'str'},\n",
      "                                            {'name': 'weight', 'type': 'int'}],\n",
      "                        'example_edge': {'_from': 'Users/151603712',\n",
      "                                         '_id': 'plays/0',\n",
      "                                         '_key': '0',\n",
      "                                         '_rev': '_jT6zSNm---',\n",
      "                                         '_to': 'Games/11350_the_elder_scrolls_v_skyrim',\n",
      "                                         'weight': 273}},\n",
      "                       {'collection_name': 'Users',\n",
      "                        'collection_type': 'document',\n",
      "                        'document_properties': [{'name': '_key', 'type': 'str'},\n",
      "                                                {'name': '_id', 'type': 'str'},\n",
      "                                                {'name': '_rev', 'type': 'str'},\n",
      "                                                {'name': 'type', 'type': 'str'},\n",
      "                                                {'name': 'steamid',\n",
      "                                                 'type': 'int'}],\n",
      "                        'example_document': {'_id': 'Users/151603712',\n",
      "                                             '_key': '151603712',\n",
      "                                             '_rev': '_jT6zKqy--_',\n",
      "                                             'steamid': 151603712,\n",
      "                                             'type': 'Users'}}],\n",
      " 'Graph Schema': [{'edge_definitions': [{'edge_collection': 'plays',\n",
      "                                         'from_vertex_collections': ['Users'],\n",
      "                                         'to_vertex_collections': ['Games']}],\n",
      "                   'graph_name': 'SteamGraph'}]}\n"
     ]
    }
   ],
   "source": [
    "# If the schema is exposed as an attribute\n",
    "graph_schema = arango_graph.schema\n",
    "pprint.pprint(graph_schema)\n"
   ]
  },
  {
   "cell_type": "code",
   "execution_count": 14,
   "metadata": {},
   "outputs": [
    {
     "name": "stdout",
     "output_type": "stream",
     "text": [
      "{'game': {'_key': '11371_dota_2', '_id': 'Games/11371_dota_2', '_rev': '_jT6zNTy--U', 'type': 'Games', 'GameName': 'Dota 2'}, 'playerCount': 4841}\n",
      "----------\n"
     ]
    }
   ],
   "source": [
    "result_cursor =  G_adb.query(\"\"\"\n",
    "WITH Games, plays\n",
    "FOR game IN Games \n",
    "  LET playerCount = (\n",
    "    FOR play IN plays \n",
    "    FILTER play._to == game._id \n",
    "    COLLECT WITH COUNT INTO length \n",
    "    RETURN length\n",
    "  )[0] \n",
    "  SORT playerCount DESC \n",
    "  LIMIT 1 \n",
    "  RETURN {game, playerCount: playerCount}\n",
    "\"\"\")\n",
    "\n",
    "for item in result_cursor:\n",
    "    print(item)\n",
    "print('-'*10)\n",
    "\n"
   ]
  },
  {
   "cell_type": "code",
   "execution_count": 15,
   "metadata": {},
   "outputs": [
    {
     "data": {
      "text/plain": [
       "<langchain_community.graphs.arangodb_graph.ArangoGraph at 0x719604df2380>"
      ]
     },
     "execution_count": 15,
     "metadata": {},
     "output_type": "execute_result"
    }
   ],
   "source": [
    "arango_graph"
   ]
  },
  {
   "cell_type": "code",
   "execution_count": 16,
   "metadata": {},
   "outputs": [
    {
     "data": {
      "image/png": "[encoded data removed]",
      "text/plain": [
       "<IPython.core.display.Image object>"
      ]
     },
     "metadata": {},
     "output_type": "display_data"
    }
   ],
   "source": [
    "agent = GraphAgent(arango_graph, G_adb)\n"
   ]
  },
  {
   "cell_type": "code",
   "execution_count": 17,
   "metadata": {},
   "outputs": [],
   "source": [
    "def create_gradio_interface(agent):\n",
    "    def get_sample_data():\n",
    "        # Get sample user IDs\n",
    "        user_cursor = G_adb.query(\"\"\"\n",
    "        FOR user IN Users\n",
    "        LET gameCount = (\n",
    "            FOR play IN plays\n",
    "            FILTER play._from == user._id\n",
    "            COLLECT WITH COUNT INTO count\n",
    "            RETURN count\n",
    "        )[0]\n",
    "        SORT gameCount DESC\n",
    "        LIMIT 5\n",
    "        RETURN user._id\n",
    "        \"\"\")\n",
    "        # Extract only the numeric ID part from the full ID (format: Users/253622624)\n",
    "        sample_users = [user.split('/')[1] if '/' in user else user for user in user_cursor]\n",
    "\n",
    "        # Get top games by player count\n",
    "        games_cursor = G_adb.query(\"\"\"\n",
    "        WITH Games, plays\n",
    "        FOR game IN Games\n",
    "        LET playerCount = (\n",
    "            FOR play IN plays \n",
    "            FILTER play._to == game._id \n",
    "            COLLECT WITH COUNT INTO length \n",
    "            RETURN length\n",
    "        )[0]\n",
    "        SORT playerCount DESC\n",
    "        LIMIT 5\n",
    "        RETURN game.GameName\n",
    "        \"\"\")\n",
    "        sample_games = [game for game in games_cursor]\n",
    "\n",
    "        return sample_users, sample_games\n",
    "    \n",
    "    # Add a copy function\n",
    "    def copy_to_input(text, current_input):\n",
    "        if current_input:\n",
    "            return current_input + \" \" + text\n",
    "        return text\n",
    "\n",
    "    def display_response(input_text):\n",
    "        # Use a timestamp to differentiate between different query executions\n",
    "        from datetime import datetime\n",
    "        timestamp = datetime.now().strftime(\"%H:%M:%S\")\n",
    "        \n",
    "        print(f\"\\n[{timestamp}] Processing new query: {input_text}\")\n",
    "        \n",
    "        # Process the query\n",
    "        result = agent.query_graph(input_text)\n",
    "        \n",
    "        print(f\"[{timestamp}] Query processing completed\")\n",
    "\n",
    "        \n",
    "            # Add more verbose debugging\n",
    "        print(f\"[{timestamp}] Result keys: {list(result.keys())}\")\n",
    "        print(f\"[{timestamp}] Has_Visualization value: {result.get('Has_Visualization')}\")\n",
    "        print(f\"[{timestamp}] Has_Visualization type: {type(result.get('Has_Visualization'))}\")\n",
    "        has_visualization = str(result.get(\"Has_Visualization\", \"\")).lower() == \"true\"\n",
    "        print(f\"[{timestamp}] Final has_visualization value: {has_visualization}\")\n",
    "        # Return both the response and whether to show the visualization button\n",
    "        return result[\"rag_reply\"], has_visualization\n",
    "    \n",
    "    def open_html_in_new_tab():\n",
    "        # Path to the HTML file\n",
    "        html_path = Path(\"generated.html\").absolute()\n",
    "        \n",
    "        # Check if file exists\n",
    "        if not html_path.exists():\n",
    "            return \"Error: generated.html file not found.\"\n",
    "        \n",
    "        # Convert to file URL format\n",
    "        file_url = f\"file://{html_path}\"\n",
    "        \n",
    "        # Open URL in a new tab using threading to avoid blocking\n",
    "        threading.Thread(target=lambda: webbrowser.open_new_tab(file_url)).start()\n",
    "        \n",
    "        return \"Opening visualization in a new browser tab...\"\n",
    "    \n",
    "    # Get sample data from graph\n",
    "    sample_users, sample_games = get_sample_data()\n",
    "    # Custom JavaScript for copy functionality\n",
    " \n",
    "\n",
    "    \n",
    "    css = \"\"\"\n",
    "    .sample-panel {\n",
    "        background: #2d2d2d;\n",
    "        border-radius: 8px;\n",
    "        padding: 15px;\n",
    "        margin-top: 10px;\n",
    "    }\n",
    "    \n",
    "    .sample-panel h3 {\n",
    "        color: #f0f0f0;\n",
    "        font-size: 16px;\n",
    "        margin-bottom: 10px;\n",
    "        text-align: center;\n",
    "        border-bottom: 1px solid #444;\n",
    "        padding-bottom: 5px;\n",
    "    }\n",
    "    \n",
    "    .sample-item {\n",
    "        display: flex;\n",
    "        align-items: center;\n",
    "        margin-bottom: 8px;\n",
    "        gap: 8px;\n",
    "    }\n",
    "    \n",
    "    .sample-text {\n",
    "        font-family: monospace;\n",
    "        background: #333;\n",
    "        padding: 4px 8px;\n",
    "        border-radius: 4px;\n",
    "        flex-grow: 1;\n",
    "    }\n",
    "    \n",
    "    .copy-btn {\n",
    "        padding: 2px 8px !important;\n",
    "        min-width: unset !important;\n",
    "        height: 26px !important;\n",
    "        font-size: 12px !important;\n",
    "    }\n",
    "\n",
    "\n",
    "        /* Increase text size for query input */\n",
    "    .larger-text textarea {\n",
    "        font-size: 18px !important;\n",
    "        line-height: 1.5 !important;\n",
    "    }\n",
    "\n",
    "    /* Increase text size for result output */\n",
    "    .analysis-result {\n",
    "        font-size: 18px !important;\n",
    "        line-height: 1.6 !important;\n",
    "        padding: 15px;\n",
    "        margin-top: 15px;\n",
    "        min-height: 100px;\n",
    "        max-height: 500px;\n",
    "        overflow-y: auto;\n",
    "    }\n",
    "\n",
    "    .analysis-result p, .analysis-result li {\n",
    "        font-size: 18px !important;\n",
    "    }\n",
    "\n",
    "    .analysis-result strong, .analysis-result b {\n",
    "        font-weight: bold;\n",
    "        font-size: 18px !important;\n",
    "    }   \n",
    "    \"\"\"\n",
    "    \n",
    "     # Sample IDs panel with copyable items\n",
    "\n",
    "    \n",
    "    with gr.Blocks(css=css) as interface:\n",
    "        gr.Markdown(\"# GAIA\")\n",
    "         \n",
    "    \n",
    "        with gr.Row():\n",
    "            with gr.Column(scale=2):\n",
    "                input_text = gr.Textbox(\n",
    "                    label=\"Query\",\n",
    "                    placeholder=\"Enter your graph query here...\",\n",
    "                    lines=2,\n",
    "                    elem_classes=[\"larger-text\"]\n",
    "                )\n",
    "                submit_btn = gr.Button(\"Process Query\", variant=\"primary\")\n",
    "                \n",
    "                # Move text output below the analyze button\n",
    "                text_output = gr.Markdown(\n",
    "                    label=\"Analysis Result\", \n",
    "                    elem_classes=[\"analysis-result\"]\n",
    "                )\n",
    "                \n",
    "                # Place the visualization button below the text output\n",
    "                open_btn = gr.Button(\"Open Visualization in New Tab\", visible=False)\n",
    "            \n",
    "            # Sample IDs panel\n",
    "            with gr.Column(scale=1):\n",
    "                # Create a simple interface with buttons for each item\n",
    "                with gr.Column(elem_classes=[\"sample-panel\"]):\n",
    "                    gr.Markdown(\"### Sample User IDs\")\n",
    "                    \n",
    "                    # Create a row of buttons for each user ID\n",
    "                    for user in sample_users:\n",
    "                        user_btn = gr.Button(f\"{user}\", elem_classes=[\"sample-text\"])\n",
    "                        user_btn.click(\n",
    "                            fn=copy_to_input, \n",
    "                            inputs=[gr.Textbox(value=user, visible=False), input_text], \n",
    "                            outputs=input_text\n",
    "                        )\n",
    "                \n",
    "                # Games section\n",
    "                with gr.Column(elem_classes=[\"sample-panel\"]):\n",
    "                    gr.Markdown(\"### Popular Games\")\n",
    "                    \n",
    "                    # Create a row of buttons for each game\n",
    "                    for game in sample_games:\n",
    "                        game_btn = gr.Button(f\"{game}\", elem_classes=[\"sample-text\"])\n",
    "                        game_btn.click(\n",
    "                            fn=copy_to_input, \n",
    "                            inputs=[gr.Textbox(value=game, visible=False), input_text], \n",
    "                            outputs=input_text\n",
    "                        )\n",
    "        \n",
    "        def update_ui(response, show_button):\n",
    "            print(f\"update_ui called with show_button={show_button}\")\n",
    "            return response, gr.update(visible=show_button)\n",
    "                    \n",
    "        # THIS IS THE FIXED LINE - Use lambda to call update_ui with the results from display_response\n",
    "        submit_btn.click(\n",
    "            fn=lambda x: update_ui(*display_response(x)),\n",
    "            inputs=[input_text],\n",
    "            outputs=[text_output, open_btn]\n",
    "        )\n",
    "        \n",
    "        open_btn.click(\n",
    "            fn=open_html_in_new_tab,\n",
    "            inputs=[],\n",
    "            outputs=[]\n",
    "        )\n",
    "\n",
    "    return interface"
   ]
  },
  {
   "cell_type": "code",
   "execution_count": 18,
   "metadata": {},
   "outputs": [
    {
     "name": "stdout",
     "output_type": "stream",
     "text": [
      "* Running on local URL:  http://127.0.0.1:7860\n",
      "\n",
      "To create a public link, set `share=True` in `launch()`.\n"
     ]
    },
    {
     "data": {
      "text/html": [
       "<div><iframe src=\"http://127.0.0.1:7860/\" width=\"100%\" height=\"500\" allow=\"autoplay; camera; microphone; clipboard-read; clipboard-write;\" frameborder=\"0\" allowfullscreen></iframe></div>"
      ],
      "text/plain": [
       "<IPython.core.display.HTML object>"
      ]
     },
     "metadata": {},
     "output_type": "display_data"
    },
    {
     "data": {
      "text/plain": []
     },
     "execution_count": 18,
     "metadata": {},
     "output_type": "execute_result"
    },
    {
     "name": "stdout",
     "output_type": "stream",
     "text": [
      "\n",
      "[01:44:37] Processing new query: total games\n",
      "\n",
      "Processing Agent State:\n",
      "\n",
      "Data Preview:\n",
      "{}\n"
     ]
    },
    {
     "name": "stderr",
     "output_type": "stream",
     "text": [
      "/mnt/mydisk/Projects/ArangoGraphRag/ArangoGraphDirectChain.py:205: LangChainDeprecationWarning: The class `LLMChain` was deprecated in LangChain 0.1.17 and will be removed in 1.0. Use :meth:`~RunnableSequence, e.g., `prompt | llm`` instead.\n",
      "  aql_generation_chain = LLMChain(llm=llm, prompt=aql_generation_prompt)\n",
      "/mnt/mydisk/Projects/ArangoGraphRag/ArangoGraphDirectChain.py:257: LangChainDeprecationWarning: The method `Chain.run` was deprecated in langchain 0.1.0 and will be removed in 1.0. Use :meth:`~invoke` instead.\n",
      "  aql_generation_output = self.aql_generation_chain.run(\n"
     ]
    },
    {
     "name": "stdout",
     "output_type": "stream",
     "text": [
      "AQL tool query\n",
      "Count the total number of games in the Games collection.\n",
      "\n",
      "\n",
      "\u001b[1m> Entering new ArangoGraphDirectChain chain...\u001b[0m\n",
      "AQL Query (1):\u001b[32;1m\u001b[1;3m\n",
      "WITH Games\n",
      "RETURN LENGTH(Games)\n",
      "\u001b[0m\n",
      "AQL Result Successfully Obtained:\n",
      "\n",
      "\u001b[1m> Finished chain.\u001b[0m\n",
      "\n",
      "Processing Agent State:\n",
      "\n",
      "Data Preview:\n",
      "{'total_games_count': [3600]}\n",
      "\n",
      "RAG_Summarizer State:\n",
      "\n",
      "Updating RAG_reply with:\n",
      "The total number of games is 3,600.\n",
      "Visualizer State:\n",
      "[ HumanMessage(content='total games', additional_kwargs={}, response_metadata={}, id='e999ccf5-0830-4595-8d14-eeb1f07a4c34'),\n",
      "  AIMessage(content='', additional_kwargs={'tool_calls': [{'id': 'call_czGhoYCtCAegcFg9dzDsVpTf', 'function': {'arguments': '{\"query\":\"Count the total number of games in the Games collection.\",\"name\":\"total_games_count\"}', 'name': 'AQL_QueryWrapper'}, 'type': 'function'}], 'refusal': None}, response_metadata={'token_usage': {'completion_tokens': 32, 'prompt_tokens': 1159, 'total_tokens': 1191, 'completion_tokens_details': {'accepted_prediction_tokens': 0, 'audio_tokens': 0, 'reasoning_tokens': 0, 'rejected_prediction_tokens': 0}, 'prompt_tokens_details': {'audio_tokens': 0, 'cached_tokens': 0}}, 'model_name': 'gpt-4o-2024-08-06', 'system_fingerprint': 'fp_eb9dce56a8', 'finish_reason': 'tool_calls', 'logprobs': None}, id='run-8986509d-6049-4e3b-b8e8-71fac0254f75-0', tool_calls=[{'name': 'AQL_QueryWrapper', 'args': {'query': 'Count the total number of games in the Games collection.', 'name': 'total_games_count'}, 'id': 'call_czGhoYCtCAegcFg9dzDsVpTf', 'type': 'tool_call'}], usage_metadata={'input_tokens': 1159, 'output_tokens': 32, 'total_tokens': 1191, 'input_token_details': {'audio': 0, 'cache_read': 0}, 'output_token_details': {'audio': 0, 'reasoning': 0}}),\n",
      "  ToolMessage(content='Query executed successfully and updated the state with the result', name='AQL_QueryWrapper', id='0ccdec6d-3d0f-454f-8fce-0dd07345a569', tool_call_id='call_czGhoYCtCAegcFg9dzDsVpTf'),\n",
      "  AIMessage(content='The total number of games is 3,600.', additional_kwargs={'refusal': None}, response_metadata={'token_usage': {'completion_tokens': 13, 'prompt_tokens': 1225, 'total_tokens': 1238, 'completion_tokens_details': {'accepted_prediction_tokens': 0, 'audio_tokens': 0, 'reasoning_tokens': 0, 'rejected_prediction_tokens': 0}, 'prompt_tokens_details': {'audio_tokens': 0, 'cached_tokens': 0}}, 'model_name': 'gpt-4o-2024-08-06', 'system_fingerprint': 'fp_eb9dce56a8', 'finish_reason': 'stop', 'logprobs': None}, id='run-149718b4-ebb5-440f-b5a0-dd31a10e486d-0', usage_metadata={'input_tokens': 1225, 'output_tokens': 13, 'total_tokens': 1238, 'input_token_details': {'audio': 0, 'cache_read': 0}, 'output_token_details': {'audio': 0, 'reasoning': 0}})]\n",
      "State saved to logs/state_20250307_014443_4ad58a60.json\n",
      "[01:44:37] Query processing completed\n",
      "[01:44:37] Result keys: ['reply', 'rag_reply', 'Has_Visualization']\n",
      "[01:44:37] Has_Visualization value: false\n",
      "[01:44:37] Has_Visualization type: <class 'str'>\n",
      "[01:44:37] Final has_visualization value: False\n",
      "update_ui called with show_button=False\n"
     ]
    }
   ],
   "source": [
    "interface = create_gradio_interface(agent)\n",
    "interface.launch()"
   ]
  }
 ],
 "metadata": {
  "kernelspec": {
   "display_name": "Arrongo",
   "language": "python",
   "name": "python3"
  },
  "language_info": {
   "codemirror_mode": {
    "name": "ipython",
    "version": 3
   },
   "file_extension": ".py",
   "mimetype": "text/x-python",
   "name": "python",
   "nbconvert_exporter": "python",
   "pygments_lexer": "ipython3",
   "version": "3.10.16"
  }
 },
 "nbformat": 4,
 "nbformat_minor": 2
}
