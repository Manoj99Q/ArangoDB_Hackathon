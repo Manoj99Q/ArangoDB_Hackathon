{
 "cells": [
  {
   "cell_type": "code",
   "execution_count": 1,
   "metadata": {},
   "outputs": [
    {
     "name": "stderr",
     "output_type": "stream",
     "text": [
      "[21:19:29 -0600] [INFO]: NetworkX-cuGraph is unavailable: No module named 'nx_cugraph'.\n"
     ]
    }
   ],
   "source": [
    "import networkx as nx\n",
    "import nx_arangodb as nxadb\n",
    "\n",
    "from arango import ArangoClient\n",
    "\n",
    "import pandas as pd\n",
    "import numpy as np\n",
    "import networkx as nx\n",
    "import matplotlib.pyplot as plt\n",
    "from random import randint\n",
    "import re\n",
    "\n",
    "from langgraph.prebuilt import create_react_agent\n",
    "from langgraph.checkpoint.memory import MemorySaver\n",
    "from langchain_openai import ChatOpenAI\n",
    "from langchain_community.graphs import ArangoGraph\n",
    "from langchain_community.chains.graph_qa.arangodb import ArangoGraphQAChain\n",
    "from langchain_core.tools import tool\n",
    "\n",
    "\n",
    "import gradio\n",
    "from graph_utils import create_d3_visualization\n",
    "from dotenv import load_dotenv\n",
    "import os\n",
    "from agent_utils import GraphAgent\n",
    "\n"
   ]
  },
  {
   "cell_type": "code",
   "execution_count": 2,
   "metadata": {},
   "outputs": [
    {
     "data": {
      "text/plain": [
       "True"
      ]
     },
     "execution_count": 2,
     "metadata": {},
     "output_type": "execute_result"
    }
   ],
   "source": [
    "load_dotenv()"
   ]
  },
  {
   "cell_type": "code",
   "execution_count": 3,
   "metadata": {},
   "outputs": [],
   "source": [
    "# Access variables\n",
    "openai_key = os.getenv('OPENAI_API_KEY')\n",
    "arango_host = os.getenv('ARANGO_HOST')\n",
    "arango_user = os.getenv('ARANGO_USER')\n",
    "arango_password = os.getenv('ARANGO_PASSWORD')\n",
    "arango_db = os.getenv('ARANGO_DB')\n"
   ]
  },
  {
   "cell_type": "code",
   "execution_count": 4,
   "metadata": {},
   "outputs": [
    {
     "name": "stdout",
     "output_type": "stream",
     "text": [
      "[{'id': '195136', 'name': '_analyzers', 'system': True, 'type': 'document', 'status': 'loaded'}, {'id': '195138', 'name': '_queues', 'system': True, 'type': 'document', 'status': 'loaded'}, {'id': '195137', 'name': '_aqlfunctions', 'system': True, 'type': 'document', 'status': 'loaded'}, {'id': '211044', 'name': 'Users', 'system': False, 'type': 'document', 'status': 'loaded'}, {'id': '195139', 'name': '_jobs', 'system': True, 'type': 'document', 'status': 'loaded'}, {'id': '211045', 'name': 'Games', 'system': False, 'type': 'document', 'status': 'loaded'}, {'id': '195141', 'name': '_appbundles', 'system': True, 'type': 'document', 'status': 'loaded'}, {'id': '195135', 'name': '_graphs', 'system': True, 'type': 'document', 'status': 'loaded'}, {'id': '195140', 'name': '_apps', 'system': True, 'type': 'document', 'status': 'loaded'}, {'id': '211046', 'name': 'plays', 'system': False, 'type': 'edge', 'status': 'loaded'}, {'id': '195142', 'name': '_frontend', 'system': True, 'type': 'document', 'status': 'loaded'}]\n"
     ]
    }
   ],
   "source": [
    "# Initialize the client for ArangoDB.\n",
    "client = ArangoClient(hosts=arango_host)\n",
    "db = client.db(arango_db, username=arango_user, password=arango_password)\n",
    "print(db.collections())"
   ]
  },
  {
   "cell_type": "code",
   "execution_count": 5,
   "metadata": {},
   "outputs": [
    {
     "name": "stderr",
     "output_type": "stream",
     "text": [
      "[21:19:36 -0600] [INFO]: Graph 'SteamGraph' exists.\n",
      "[21:19:36 -0600] [INFO]: Default node type set to 'Games'\n"
     ]
    },
    {
     "name": "stdout",
     "output_type": "stream",
     "text": [
      "Graph named 'SteamGraph' with 14950 nodes and 70477 edges\n"
     ]
    }
   ],
   "source": [
    "\n",
    "G_adb = nxadb.Graph(name=\"SteamGraph\", db=db)\n",
    "\n",
    "print(G_adb)"
   ]
  },
  {
   "cell_type": "code",
   "execution_count": 6,
   "metadata": {},
   "outputs": [
    {
     "name": "stdout",
     "output_type": "stream",
     "text": [
      "{'_key': 'SteamGraph', '_id': '_graphs/SteamGraph', '_rev': '_jPu1zvi---', 'edgeDefinitions': [{'collection': 'plays', 'from': ['Users'], 'to': ['Games']}], 'orphanCollections': [], 'networkx': {'name': 'SteamGraph'}}\n"
     ]
    }
   ],
   "source": [
    "graph_def = db.collection(\"_graphs\").get(\"SteamGraph\")\n",
    "print(graph_def)\n"
   ]
  },
  {
   "cell_type": "code",
   "execution_count": 7,
   "metadata": {},
   "outputs": [
    {
     "name": "stdout",
     "output_type": "stream",
     "text": [
      "Games/14187_broken_sword_1_shadow_of_the_templars_director_s_cut Games/14187_broken_sword_1_shadow_of_the_templars_director_s_cut\n",
      "Users/239544929 Users/239544929\n",
      "Games/12747_fable_anniversary Games/12747_fable_anniversary\n",
      "Games/12684_football_superstars Games/12684_football_superstars\n",
      "Users/234929278 Users/234929278\n",
      "Users/242547207 Users/242547207\n",
      "Users/204477246 Users/204477246\n",
      "Users/170489182 Users/170489182\n",
      "Games/11530_cat_goes_fishing Games/11530_cat_goes_fishing\n",
      "Users/61216865 Users/61216865\n"
     ]
    }
   ],
   "source": [
    "for node, data in list(G_adb.nodes(data=True))[:10]:\n",
    "    print(node, data.get(\"_id\"))\n"
   ]
  },
  {
   "cell_type": "code",
   "execution_count": 8,
   "metadata": {},
   "outputs": [
    {
     "name": "stdout",
     "output_type": "stream",
     "text": [
      "Graph named 'SteamGraph' with 14950 nodes and 70477 edges\n"
     ]
    }
   ],
   "source": [
    "print(G_adb)"
   ]
  },
  {
   "cell_type": "markdown",
   "metadata": {},
   "source": [
    "### AQL Test"
   ]
  },
  {
   "cell_type": "code",
   "execution_count": 9,
   "metadata": {},
   "outputs": [
    {
     "name": "stdout",
     "output_type": "stream",
     "text": [
      "Available collections:\n",
      "_analyzers\n",
      "_queues\n",
      "_aqlfunctions\n",
      "Users\n",
      "_jobs\n",
      "Games\n",
      "_appbundles\n",
      "_graphs\n",
      "_apps\n",
      "plays\n",
      "_frontend\n",
      "\n",
      "Graph collections:\n",
      "[{'edge_collection': 'plays', 'from_vertex_collections': ['Users'], 'to_vertex_collections': ['Games']}]\n"
     ]
    }
   ],
   "source": [
    "# First, let's check what collections exist\n",
    "print(\"Available collections:\")\n",
    "for collection in db.collections():\n",
    "    print(collection['name'])\n",
    "\n",
    "# Get the graph to see its collections\n",
    "graph = db.graph('SteamGraph')\n",
    "print(\"\\nGraph collections:\")\n",
    "print(graph.edge_definitions())"
   ]
  },
  {
   "cell_type": "code",
   "execution_count": 10,
   "metadata": {},
   "outputs": [
    {
     "name": "stdout",
     "output_type": "stream",
     "text": [
      "Sample Users Nodes:\n",
      "{'_key': '193196975', '_id': 'Users/193196975', '_rev': '_jPaYbkq--o', 'type': 'Users', 'steamid': 193196975}\n",
      "{'_key': '211920439', '_id': 'Users/211920439', '_rev': '_jPaYblu-_J', 'type': 'Users', 'steamid': 211920439}\n",
      "{'_key': '301915080', '_id': 'Users/301915080', '_rev': '_jPaYbqC--e', 'type': 'Users', 'steamid': 301915080}\n",
      "----------\n",
      "Sample Plays Edges:\n",
      "{'_key': '70004', '_id': 'plays/70004', '_from': 'Users/116564064', '_to': 'Games/11593_rust', '_rev': '_jPaYi5u--M', 'weight': 0.6}\n",
      "{'_key': '9694', '_id': 'plays/9694', '_from': 'Users/80779496', '_to': 'Games/11372_bioshock', '_rev': '_jPaYfei--h', 'weight': 1.9}\n",
      "{'_key': '10483', '_id': 'plays/10483', '_from': 'Users/11403772', '_to': 'Games/12639_magic_duels', '_rev': '_jPaYffa--q', 'weight': 22}\n",
      "----------\n"
     ]
    }
   ],
   "source": [
    "\n",
    "\n",
    "# -----------------------------------------------------------\n",
    "# 1. Query 3 random nodes from the Users collection.\n",
    "# -----------------------------------------------------------\n",
    "result_cursor = G_adb.query(\"\"\"\n",
    "    FOR node IN Users\n",
    "        SORT RAND()\n",
    "        LIMIT 3\n",
    "        RETURN node\n",
    "\"\"\")\n",
    "print(\"Sample Users Nodes:\")\n",
    "for node in result_cursor:\n",
    "    print(node)\n",
    "print('-'*10)\n",
    "\n",
    "# -----------------------------------------------------------\n",
    "# 2. Query 3 random edges from the plays edge collection.\n",
    "# -----------------------------------------------------------\n",
    "result_cursor = G_adb.query(\"\"\"\n",
    "    FOR edge IN plays\n",
    "        SORT RAND()\n",
    "        LIMIT 3\n",
    "        RETURN edge\n",
    "\"\"\")\n",
    "print(\"Sample Plays Edges:\")\n",
    "for edge in result_cursor:\n",
    "    print(edge)\n",
    "print('-'*10)\n"
   ]
  },
  {
   "cell_type": "markdown",
   "metadata": {},
   "source": [
    "### Agent"
   ]
  },
  {
   "cell_type": "code",
   "execution_count": 11,
   "metadata": {},
   "outputs": [],
   "source": [
    "arango_graph = ArangoGraph(db)\n"
   ]
  },
  {
   "cell_type": "code",
   "execution_count": 12,
   "metadata": {},
   "outputs": [],
   "source": [
    "agent = GraphAgent(arango_graph, G_adb)\n"
   ]
  },
  {
   "cell_type": "code",
   "execution_count": 15,
   "metadata": {},
   "outputs": [
    {
     "name": "stdout",
     "output_type": "stream",
     "text": [
      "Query Received for AQL translation:\n",
      "Find users with the highest number of games played, show user and game count\n",
      "----------\n",
      "\n",
      "\n",
      "\u001b[1m> Entering new ArangoGraphQAChain chain...\u001b[0m\n",
      "AQL Query (1):\u001b[32;1m\u001b[1;3m\n",
      "WITH Users, plays, Games\n",
      "FOR u IN Users\n",
      "    LET game_count = LENGTH(\n",
      "        FOR p IN plays\n",
      "        FILTER p._from == u._id\n",
      "        RETURN 1\n",
      "    )\n",
      "    SORT game_count DESC\n",
      "    RETURN {\n",
      "        user: u,\n",
      "        number_of_games: game_count\n",
      "    }\n",
      "\u001b[0m\n",
      "AQL Result:\n",
      "\u001b[32;1m\u001b[1;3m[{'user': {'_key': '62990992', '_id': 'Users/62990992', '_rev': '_jPaYbkq--2', 'type': 'Users', 'steamid': 62990992}, 'number_of_games': 498}, {'user': {'_key': '11403772', '_id': 'Users/11403772', '_rev': '_jPaYbiK-_h', 'type': 'Users', 'steamid': 11403772}, 'number_of_games': 314}, {'user': {'_key': '138941587', '_id': 'Users/138941587', '_rev': '_jPaYbjK--5', 'type': 'Users', 'steamid': 138941587}, 'number_of_games': 299}, {'user': {'_key': '47457723', '_id': 'Users/47457723', '_rev': '_jPaYbqu--M', 'type': 'Users', 'steamid': 47457723}, 'number_of_games': 298}, {'user': {'_key': '49893565', '_id': 'Users/49893565', '_rev': '_jPaYbiu-_a', 'type': 'Users', 'steamid': 49893565}, 'number_of_games': 297}, {'user': {'_key': '24469287', '_id': 'Users/24469287', '_rev': '_jPaYbiK--v', 'type': 'Users', 'steamid': 24469287}, 'number_of_games': 284}, {'user': {'_key': '48798067', '_id': 'Users/48798067', '_rev': '_jPaYbkq--Y', 'type': 'Users', 'steamid': 48798067}, 'number_of_games': 254}, {'user': {'_key': '36546868', '_id': 'Users/36546868', '_rev': '_jPaYbii-_O', 'type': 'Users', 'steamid': 36546868}, 'number_of_games': 235}, {'user': {'_key': '51557405', '_id': 'Users/51557405', '_rev': '_jPaYbjy--E', 'type': 'Users', 'steamid': 51557405}, 'number_of_games': 210}, {'user': {'_key': '17530772', '_id': 'Users/17530772', '_rev': '_jPaYbkW--b', 'type': 'Users', 'steamid': 17530772}, 'number_of_games': 209}]\u001b[0m\n",
      "\n",
      "\u001b[1m> Finished chain.\u001b[0m\n"
     ]
    },
    {
     "data": {
      "text/plain": [
       "'Based on the query results, the user with Steam ID 62990992 plays the most games, with a total of 498 games in their library. This is significantly more than the second-place user who has 314 games, showing that this user is quite an avid gamer with a very extensive game collection.'"
      ]
     },
     "execution_count": 15,
     "metadata": {},
     "output_type": "execute_result"
    }
   ],
   "source": [
    "agent.query_graph(\"which user plays the most games and how many games?\")"
   ]
  },
  {
   "cell_type": "code",
   "execution_count": 12,
   "metadata": {},
   "outputs": [
    {
     "data": {
      "text/plain": [
       "AIMessage(content='Hello! How can I assist you today?', additional_kwargs={'refusal': None}, response_metadata={'token_usage': {'completion_tokens': 10, 'prompt_tokens': 9, 'total_tokens': 19, 'completion_tokens_details': {'accepted_prediction_tokens': 0, 'audio_tokens': 0, 'reasoning_tokens': 0, 'rejected_prediction_tokens': 0}, 'prompt_tokens_details': {'audio_tokens': 0, 'cached_tokens': 0}}, 'model_name': 'gpt-4o-2024-08-06', 'system_fingerprint': 'fp_523b9b6e5f', 'finish_reason': 'stop', 'logprobs': None}, id='run-c76be148-f2cd-4658-abd9-0b481454d11c-0', usage_metadata={'input_tokens': 9, 'output_tokens': 10, 'total_tokens': 19, 'input_token_details': {'audio': 0, 'cache_read': 0}, 'output_token_details': {'audio': 0, 'reasoning': 0}})"
      ]
     },
     "execution_count": 12,
     "metadata": {},
     "output_type": "execute_result"
    }
   ],
   "source": [
    "llm = ChatOpenAI(temperature=0, model_name=\"gpt-4o\")\n",
    "\n",
    "llm.invoke(\"hello!\")"
   ]
  },
  {
   "cell_type": "code",
   "execution_count": null,
   "metadata": {},
   "outputs": [],
   "source": []
  }
 ],
 "metadata": {
  "kernelspec": {
   "display_name": "Arrongo",
   "language": "python",
   "name": "python3"
  },
  "language_info": {
   "codemirror_mode": {
    "name": "ipython",
    "version": 3
   },
   "file_extension": ".py",
   "mimetype": "text/x-python",
   "name": "python",
   "nbconvert_exporter": "python",
   "pygments_lexer": "ipython3",
   "version": "3.10.16"
  }
 },
 "nbformat": 4,
 "nbformat_minor": 2
}
